{
 "cells": [
  {
   "cell_type": "markdown",
   "id": "8fa14ca8-a692-47b3-b21b-5c84e7770f52",
   "metadata": {},
   "source": [
    "# Prediction\n",
    "After the exploratory data analysis, a prediction will be made.\n",
    "The folowing steps for this prediction:\n",
    "1. Preprocessing - Handle missing data, Feature engineering.\n",
    "2. Predictions - predicting with validation data and then with test data, metrics.\n",
    "## 📚"
   ]
  },
  {
   "cell_type": "code",
   "execution_count": 292,
   "id": "6dab2d00-46ec-48ab-b14a-9d465ca34ee3",
   "metadata": {},
   "outputs": [
    {
     "ename": "ImportError",
     "evalue": "cannot import name 'Selector' from 'Column_Selector' (C:\\Users\\97254\\Projects\\Home Equity Loan Defaut Prediction\\Column_Selector.py)",
     "output_type": "error",
     "traceback": [
      "\u001b[1;31m---------------------------------------------------------------------------\u001b[0m",
      "\u001b[1;31mImportError\u001b[0m                               Traceback (most recent call last)",
      "\u001b[1;32m<ipython-input-292-e8b7cb51749c>\u001b[0m in \u001b[0;36m<module>\u001b[1;34m\u001b[0m\n\u001b[0;32m      8\u001b[0m \u001b[1;32mfrom\u001b[0m \u001b[0msklearn\u001b[0m\u001b[1;33m.\u001b[0m\u001b[0mpipeline\u001b[0m \u001b[1;32mimport\u001b[0m \u001b[0mFeatureUnion\u001b[0m\u001b[1;33m\u001b[0m\u001b[1;33m\u001b[0m\u001b[0m\n\u001b[0;32m      9\u001b[0m \u001b[1;32mfrom\u001b[0m \u001b[0mpipelinehelper\u001b[0m \u001b[1;32mimport\u001b[0m \u001b[0mPipelineHelper\u001b[0m\u001b[1;33m\u001b[0m\u001b[1;33m\u001b[0m\u001b[0m\n\u001b[1;32m---> 10\u001b[1;33m \u001b[1;32mfrom\u001b[0m \u001b[0mColumn_Selector\u001b[0m \u001b[1;32mimport\u001b[0m \u001b[0mSelector\u001b[0m\u001b[1;33m\u001b[0m\u001b[1;33m\u001b[0m\u001b[0m\n\u001b[0m",
      "\u001b[1;31mImportError\u001b[0m: cannot import name 'Selector' from 'Column_Selector' (C:\\Users\\97254\\Projects\\Home Equity Loan Defaut Prediction\\Column_Selector.py)"
     ]
    }
   ],
   "source": [
    "from sklearn.preprocessing import LabelEncoder\n",
    "from sklearn.tree import DecisionTreeClassifier\n",
    "from sklearn.impute import SimpleImputer\n",
    "\n",
    "#pipeline tools\n",
    "from sklearn.preprocessing import FunctionTransformer\n",
    "from sklearn.pipeline import Pipeline\n",
    "from sklearn.pipeline import FeatureUnion\n",
    "from pipelinehelper import PipelineHelper\n",
    "from Column_Selector import Selector"
   ]
  },
  {
   "cell_type": "markdown",
   "id": "63fc286e-15a3-4cd5-8230-8313b63130fe",
   "metadata": {},
   "source": [
    "## Baseline 1: Basic approach\n",
    "\n",
    "### Decisions:\n",
    "* **Preprocessing:**\n",
    "    1. **Missing data:** **Categoric** - fill with most frequent. **Discrete** - fill with most frequent. **Continuous** - fill with median.               \n",
    "    2. **Feature Engineering**: only categoric labels, label encoding.\n",
    "* **model training** - using cross validation in validation data on a simple decition tree model.\n",
    "* **model testing** - train on whole train + validation set and use test data for results."
   ]
  },
  {
   "cell_type": "code",
   "execution_count": 288,
   "id": "5256f166-553b-4eb2-8612-04a308d8865d",
   "metadata": {},
   "outputs": [
    {
     "ename": "NameError",
     "evalue": "name 'Selector' is not defined",
     "output_type": "error",
     "traceback": [
      "\u001b[1;31m---------------------------------------------------------------------------\u001b[0m",
      "\u001b[1;31mNameError\u001b[0m                                 Traceback (most recent call last)",
      "\u001b[1;32m<ipython-input-288-11cd3e992404>\u001b[0m in \u001b[0;36m<module>\u001b[1;34m\u001b[0m\n\u001b[0;32m      3\u001b[0m \u001b[0mCategoric\u001b[0m \u001b[1;33m=\u001b[0m \u001b[0mFunctionTransformer\u001b[0m\u001b[1;33m(\u001b[0m\u001b[1;32mlambda\u001b[0m \u001b[0mx\u001b[0m\u001b[1;33m:\u001b[0m \u001b[0mx\u001b[0m\u001b[1;33m[\u001b[0m\u001b[0mCats\u001b[0m\u001b[1;33m]\u001b[0m\u001b[1;33m,\u001b[0m \u001b[0mvalidate\u001b[0m\u001b[1;33m=\u001b[0m\u001b[1;32mFalse\u001b[0m\u001b[1;33m)\u001b[0m\u001b[1;33m\u001b[0m\u001b[1;33m\u001b[0m\u001b[0m\n\u001b[0;32m      4\u001b[0m Categoric_features = Pipeline([\n\u001b[1;32m----> 5\u001b[1;33m                 \u001b[1;33m(\u001b[0m\u001b[1;34m'selector'\u001b[0m\u001b[1;33m,\u001b[0m \u001b[0mSelector\u001b[0m\u001b[1;33m(\u001b[0m\u001b[0mCategoric\u001b[0m\u001b[1;33m)\u001b[0m\u001b[1;33m)\u001b[0m\u001b[1;33m,\u001b[0m\u001b[1;33m\u001b[0m\u001b[1;33m\u001b[0m\u001b[0m\n\u001b[0m\u001b[0;32m      6\u001b[0m                 \u001b[1;33m(\u001b[0m\u001b[1;34m'imputer'\u001b[0m\u001b[1;33m,\u001b[0m \u001b[0mcat_imp\u001b[0m\u001b[1;33m)\u001b[0m\u001b[1;33m,\u001b[0m\u001b[1;33m\u001b[0m\u001b[1;33m\u001b[0m\u001b[0m\n\u001b[0;32m      7\u001b[0m                 \u001b[1;33m(\u001b[0m\u001b[1;34m'LabelEncoder'\u001b[0m\u001b[1;33m,\u001b[0m \u001b[0mLabelEncoder\u001b[0m\u001b[1;33m(\u001b[0m\u001b[1;33m)\u001b[0m\u001b[1;33m)\u001b[0m\u001b[1;33m\u001b[0m\u001b[1;33m\u001b[0m\u001b[0m\n",
      "\u001b[1;31mNameError\u001b[0m: name 'Selector' is not defined"
     ]
    }
   ],
   "source": [
    "\n",
    "cat_imp = SimpleImputer(strategy=\"most_frequent\")\n",
    "\n",
    "Categoric = FunctionTransformer(lambda x: x[Cats], validate=False)\n",
    "Categoric_features = Pipeline([\n",
    "                ('selector', Selector(Categoric)),\n",
    "                ('imputer', cat_imp),\n",
    "                ('LabelEncoder', LabelEncoder())\n",
    "            ])"
   ]
  },
  {
   "cell_type": "code",
   "execution_count": 272,
   "id": "14b68374-50cf-4f6a-aff2-fff4440c3a88",
   "metadata": {},
   "outputs": [],
   "source": [
    "cont_imp = SimpleImputer(strategy=\"median\")\n",
    "Continuous = Continuous+[\"LOAN\"]\n",
    "Cont_FT = FunctionTransformer(lambda x: x[Continuous], validate=False)\n",
    "Continuous_features = Pipeline([\n",
    "                ('selector', Cont_FT),\n",
    "                ('imputer', cont_imp)\n",
    "            ])"
   ]
  },
  {
   "cell_type": "code",
   "execution_count": 273,
   "id": "95b122dd-6eb4-4928-8101-ab9c9d9d3a04",
   "metadata": {},
   "outputs": [],
   "source": [
    "disc_imp = SimpleImputer(strategy=\"most_frequent\")\n",
    "\n",
    "disc_FT = FunctionTransformer(lambda x: x[Discrete], validate=False)\n",
    "Discrete_features = Pipeline([\n",
    "                ('selector', disc_FT),\n",
    "                ('imputer', disc_imp)\n",
    "            ])"
   ]
  },
  {
   "cell_type": "code",
   "execution_count": 281,
   "id": "7f554e58-842c-4607-ae4e-dcf3c4da16ac",
   "metadata": {},
   "outputs": [],
   "source": [
    "feats = FeatureUnion([('Categoric_features', Categoric_features),\n",
    "                      ('Continuous_features',Continuous_features),\n",
    "                      ('Discrete_features',Discrete_features)                      \n",
    "                      ])\n",
    "\n"
   ]
  },
  {
   "cell_type": "code",
   "execution_count": 282,
   "id": "5b05ec8f-3e36-4284-9655-80effd464a65",
   "metadata": {},
   "outputs": [
    {
     "data": {
      "text/plain": [
       "array([[6.23510000e+04, 8.46240000e+04, 8.81265168e+01, ...,\n",
       "        0.00000000e+00, 1.00000000e+00, 2.20000000e+01],\n",
       "       [3.89000000e+04, 6.05000000e+04, 9.59000000e+01, ...,\n",
       "        4.00000000e+00, 2.00000000e+00, 5.30000000e+01],\n",
       "       [6.19070000e+04, 8.71330000e+04, 8.14921194e+01, ...,\n",
       "        1.00000000e+00, 0.00000000e+00, 2.20000000e+01],\n",
       "       ...,\n",
       "       [9.41650000e+04, 1.30285000e+05, 1.37813331e+02, ...,\n",
       "        1.00000000e+00, 0.00000000e+00, 2.80000000e+01],\n",
       "       [6.34750000e+04, 8.94300000e+04, 2.86301815e+02, ...,\n",
       "        0.00000000e+00, 0.00000000e+00, 1.90000000e+01],\n",
       "       [6.42950000e+04, 7.35940000e+04, 1.57246550e+02, ...,\n",
       "        0.00000000e+00, 0.00000000e+00, 1.10000000e+01]])"
      ]
     },
     "execution_count": 282,
     "metadata": {},
     "output_type": "execute_result"
    }
   ],
   "source": [
    "feature_processing = Pipeline([('feats', feats)])\n",
    "feature_processing.fit_transform(X_train)"
   ]
  }
 ],
 "metadata": {
  "kernelspec": {
   "display_name": "Python 3.8 (pytorch)",
   "language": "python",
   "name": "pytorch"
  },
  "language_info": {
   "codemirror_mode": {
    "name": "ipython",
    "version": 3
   },
   "file_extension": ".py",
   "mimetype": "text/x-python",
   "name": "python",
   "nbconvert_exporter": "python",
   "pygments_lexer": "ipython3",
   "version": "3.8.10"
  }
 },
 "nbformat": 4,
 "nbformat_minor": 5
}
