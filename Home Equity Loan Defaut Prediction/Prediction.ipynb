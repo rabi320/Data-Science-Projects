{
 "cells": [
  {
   "cell_type": "markdown",
   "id": "8fa14ca8-a692-47b3-b21b-5c84e7770f52",
   "metadata": {},
   "source": [
    "# Prediction\n",
    "After the exploratory data analysis, a prediction will be made.\n",
    "The folowing steps for this prediction:\n",
    "1. Preprocessing - Handle missing data, Feature engineering.\n",
    "2. Predictions - predicting with validation data and then with test data, metrics.\n",
    "\n",
    "## Baseline 1: Base models\n",
    "\n",
    "### Decisions:\n",
    "* **Preprocessing:**\n",
    "    1. **Missing data:** **Categoric** - fill with most frequent. **Discrete** - fill with most frequent. **Continuous** - fill with median.               \n",
    "    2. **Feature Engineering**:\n"
   ]
  }
 ],
 "metadata": {
  "kernelspec": {
   "display_name": "Python 3.8 (pytorch)",
   "language": "python",
   "name": "pytorch"
  },
  "language_info": {
   "codemirror_mode": {
    "name": "ipython",
    "version": 3
   },
   "file_extension": ".py",
   "mimetype": "text/x-python",
   "name": "python",
   "nbconvert_exporter": "python",
   "pygments_lexer": "ipython3",
   "version": "3.8.10"
  }
 },
 "nbformat": 4,
 "nbformat_minor": 5
}
