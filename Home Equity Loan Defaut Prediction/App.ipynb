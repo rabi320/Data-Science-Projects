{
 "cells": [
  {
   "cell_type": "markdown",
   "id": "1109f99e-e133-4936-af30-afef74ecb1ab",
   "metadata": {},
   "source": [
    "# App Creation"
   ]
  },
  {
   "cell_type": "code",
   "execution_count": 98,
   "id": "41605be2-50a7-413e-8bdf-57f815045f79",
   "metadata": {},
   "outputs": [
    {
     "name": "stdout",
     "output_type": "stream",
     "text": [
      "Successfully saved model at Data/HomeEquityDefaultPredictor.zip\n"
     ]
    }
   ],
   "source": [
    "import pickle\n",
    "# save tabnet model\n",
    "saving_path_name = \"Data/HomeEquityDefaultPredictor\"\n",
    "saved_filepath = classifier.save_model(saving_path_name)"
   ]
  },
  {
   "cell_type": "markdown",
   "id": "bb6ee72a-e398-45e9-81ee-fd1f91e18811",
   "metadata": {},
   "source": [
    "# FastAPI "
   ]
  },
  {
   "cell_type": "code",
   "execution_count": null,
   "id": "e8f71d6a-d906-46fb-8d2c-81a489e760c1",
   "metadata": {},
   "outputs": [
    {
     "name": "stdout",
     "output_type": "stream",
     "text": [
      "Device used : cuda\n"
     ]
    },
    {
     "name": "stderr",
     "output_type": "stream",
     "text": [
      "INFO:     Started server process [26424]\n",
      "INFO:uvicorn.error:Started server process [26424]\n",
      "INFO:     Waiting for application startup.\n",
      "INFO:uvicorn.error:Waiting for application startup.\n",
      "INFO:     Application startup complete.\n",
      "INFO:uvicorn.error:Application startup complete.\n",
      "INFO:     Uvicorn running on http://127.0.0.1:4000 (Press CTRL+C to quit)\n",
      "INFO:uvicorn.error:Uvicorn running on http://127.0.0.1:4000 (Press CTRL+C to quit)\n"
     ]
    },
    {
     "name": "stdout",
     "output_type": "stream",
     "text": [
      "INFO:     127.0.0.1:56981 - \"GET / HTTP/1.1\" 200 OK\n",
      "INFO:     127.0.0.1:56981 - \"GET /favicon.ico HTTP/1.1\" 404 Not Found\n",
      "INFO:     127.0.0.1:65375 - \"GET / HTTP/1.1\" 200 OK\n",
      "INFO:     127.0.0.1:52037 - \"GET / HTTP/1.1\" 200 OK\n",
      "INFO:     127.0.0.1:58144 - \"GET / HTTP/1.1\" 200 OK\n",
      "INFO:     127.0.0.1:64119 - \"GET / HTTP/1.1\" 200 OK\n"
     ]
    }
   ],
   "source": [
    "import uvicorn\n",
    "#import pickle\n",
    "from fastapi import FastAPI\n",
    "from pydantic import BaseModel\n",
    "from fastapi.middleware.cors import CORSMiddleware\n",
    "import nest_asyncio\n",
    "nest_asyncio.apply()\n",
    "app = FastAPI()\n",
    "\n",
    "origins = [\n",
    "  \"*\"\n",
    "]\n",
    "app.add_middleware(\n",
    "    CORSMiddleware,\n",
    "    allow_origins=origins,\n",
    "    allow_credentials=True,\n",
    "    allow_methods=[\"*\"],\n",
    "    allow_headers=[\"*\"]\n",
    ")\n",
    "\n",
    "class HomeEq(BaseModel):\n",
    "    LoanAmount: int\n",
    "    Amountdueonmortgage: float\n",
    "    Valueofproperty: float\n",
    "    Reason: str\n",
    "    Job: str\n",
    "    Yearsatpresentjob: float\n",
    "    Majorderogatoryreports: float\n",
    "    Delinquentcreditlines: float\n",
    "    Ageofoldesttradeline: float\n",
    "    Recentcreditlines: float\n",
    "    Creditlines: float\n",
    "    Debttoincomeratio: float     \n",
    "\n",
    "# define new model with basic parameters and load state dict weights\n",
    "loaded_clf = TabNetClassifier()\n",
    "loaded_clf.load_model(saved_filepath)\n",
    "\n",
    "#with open(\"./model/model.pkl\", \"rb\") as f:\n",
    "    #model = pickle.load(f)\n",
    "\n",
    "@app.get('/')\n",
    "\n",
    "def index():\n",
    "    return {'message': 'This is the homepage of the API '}\n",
    "\n",
    "@app.post('/prediction')\n",
    "\n",
    "def get_homeeq_category(data: HomeEq):\n",
    "    received = data.dict()\n",
    "    LoanAmount = received['LOAN']\n",
    "    Amountdueonmortgage = received['MORTDUE']\n",
    "    Valueofproperty = received['VALUE']\n",
    "    Reason = received['REASON']\n",
    "    Job = received['JOB']\n",
    "    Yearsatpresentjob = received['YOJ']\n",
    "    Majorderogatoryreports = received['DEROG']\n",
    "    Delinquentcreditlines = received['DELINQ']\n",
    "    Ageofoldesttradeline = received['CLAGE']\n",
    "    Recentcreditlines = received['NINQ']\n",
    "    Creditlines = received['CLNO']\n",
    "    Debttoincomeratio = received['DEBTINC']\n",
    "    X = pd.DataFrame(received)\n",
    "    pred_name = loaded_clf.predict_proba(preprocess.fit_transform(X))[:,1]\n",
    "    return {'prediction': np.where(pred_name<0.5,0,1)}\n",
    "\n",
    "@app.get('/predict')\n",
    "\n",
    "def get_cat(LoanAmount: float, Amountdueonmortgage: float, Valueofproperty: float, Reason: float, Job: float, Yearsatpresentjob: float, Majorderogatoryreports: float, \n",
    "            Delinquentcreditlines: float, Ageofoldesttradeline: float, Recentcreditlines: float, Creditlines: float, Debttoincomeratio: float):\n",
    "    pred_name = loaded_clf.predict_proba(preprocess.fit_transform(X))[:,1]\n",
    "    return {'prediction': np.where(pred_name<0.5,0,1)}\n",
    "\n",
    "if __name__ == '__main__':\n",
    "    uvicorn.run(app, host='127.0.0.1', port=4000, debug=True)"
   ]
  },
  {
   "cell_type": "code",
   "execution_count": null,
   "id": "44cb7ffd-60de-4096-b0dd-7c13ad975ae5",
   "metadata": {},
   "outputs": [],
   "source": []
  }
 ],
 "metadata": {
  "kernelspec": {
   "display_name": "Python 3.8 (pytorch)",
   "language": "python",
   "name": "pytorch"
  },
  "language_info": {
   "codemirror_mode": {
    "name": "ipython",
    "version": 3
   },
   "file_extension": ".py",
   "mimetype": "text/x-python",
   "name": "python",
   "nbconvert_exporter": "python",
   "pygments_lexer": "ipython3",
   "version": "3.8.10"
  }
 },
 "nbformat": 4,
 "nbformat_minor": 5
}
