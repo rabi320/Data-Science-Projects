{
 "cells": [
  {
   "cell_type": "markdown",
   "id": "075de871-3109-48c7-8cb8-b95b09f9b470",
   "metadata": {},
   "source": [
    "# Diamond Prediction\n",
    "\n",
    "After the exploratory data analysis, a prediction will be made.\n",
    "The folowing steps for this prediction:\n",
    "1. **Preprocessing** - Handle outliers, Feature engineering.\n",
    "2. **Predictions** - predicting with validation data and then with test data, metrics.\n",
    "3. **Evaluation** - Baselines for comparison.\n",
    "\n",
    "## Libraries & settings"
   ]
  },
  {
   "cell_type": "code",
   "execution_count": 103,
   "id": "18f08e35-fd9c-401b-91ab-0fcad91c18e8",
   "metadata": {},
   "outputs": [],
   "source": [
    "#numpy\n",
    "import numpy as np\n",
    "\n",
    "from sklearn.linear_model import LinearRegression\n",
    "from sklearn.tree import DecisionTreeRegressor\n",
    "from sklearn.linear_model import BayesianRidge\n",
    "from sklearn.neighbors import KNeighborsRegressor\n",
    "from sklearn.svm import SVR\n",
    "\n",
    "#boosters\n",
    "from sklearn.ensemble import AdaBoostRegressor\n",
    "from xgboost import XGBRegressor\n",
    "\n",
    "#forests\n",
    "from sklearn.ensemble import ExtraTreesRegressor\n",
    "from sklearn.ensemble import RandomForestRegressor\n",
    "\n",
    "#ensemble\n",
    "from sklearn.ensemble import VotingRegressor\n",
    "from sklearn.ensemble import GradientBoostingRegressor\n",
    "\n",
    "from sklearn.preprocessing import OrdinalEncoder\n",
    "from sklearn.impute import SimpleImputer\n",
    "from sklearn.preprocessing import StandardScaler, MinMaxScaler\n",
    "from sklearn.model_selection import GridSearchCV\n",
    "\n",
    "#model explainability\n",
    "import eli5\n",
    "from eli5.sklearn import PermutationImportance\n",
    "\n",
    "#pipeline tools\n",
    "from sklearn.preprocessing import FunctionTransformer\n",
    "from sklearn.pipeline import Pipeline\n",
    "from sklearn.pipeline import FeatureUnion\n",
    "from pipelinehelper import PipelineHelper\n",
    "from sklearn.compose import ColumnTransformer\n",
    "from sklearn.preprocessing import LabelEncoder\n",
    "#time related\n",
    "from timeit import default_timer as timer\n",
    "from datetime import timedelta\n",
    "\n",
    "#timer for entire code\n",
    "start = timer()\n",
    "\n",
    "#warning hadle\n",
    "import warnings\n",
    "warnings.filterwarnings(\"always\")\n",
    "warnings.filterwarnings(\"ignore\")\n",
    "\n",
    "#plotly\n",
    "import plotly.io as pio\n",
    "pio.renderers.default = \"plotly_mimetype+notebook_connected\"\n",
    "\n",
    "#settings\n",
    "pd.options.display.float_format = '{:.3f}'.format"
   ]
  },
  {
   "cell_type": "markdown",
   "id": "30778a77-0008-4032-b0fd-64b13d9fb356",
   "metadata": {},
   "source": [
    "## Baseline 1: Basic approach\n",
    "\n",
    "### Decisions:\n",
    "* **Preprocessing:**\n",
    "    1. **Outliers:** **continuous** - fill with median.               \n",
    "    2. **Feature Engineering**: only categoric labels, OrdinalEncoder.\n",
    "* **Model training** - using cross validation in validation data on a simple linear regression model.\n",
    "* **Model testing** - train on whole train + validation set and use test data for results.\n",
    "* **Model evaluating** - record for validation and test the following metrics:\n",
    "    1. MSE - [Mean squared error](https://en.wikipedia.org/wiki/Mean_squared_error)\n",
    "    2. R2 - [R Square](https://en.wikipedia.org/wiki/Coefficient_of_determination)\n",
    "    3. MAE - [Mean absolut error](https://en.wikipedia.org/wiki/Mean_absolute_error)\n",
    "    4. NRMSE - [Negative root mean squared error](https://en.wikipedia.org/wiki/Root-mean-square_deviation)\n",
    "    \n",
    "\n",
    "**Preprocessing**"
   ]
  },
  {
   "cell_type": "code",
   "execution_count": 104,
   "id": "4b677844-8394-404d-a101-0943b304aa35",
   "metadata": {},
   "outputs": [],
   "source": [
    "# Preprocessing for continuous data\n",
    "\n",
    "def Outlier_Detector(X,factor):\n",
    "    X = pd.DataFrame(X).copy()\n",
    "    for i in range(X.shape[1]):\n",
    "        x = pd.Series(X.iloc[:,i]).copy()\n",
    "        q1 = x.quantile(0.25)\n",
    "        q3 = x.quantile(0.75)\n",
    "        iqr = q3 - q1\n",
    "        lower_bound = q1 - (factor * iqr)\n",
    "        upper_bound = q3 + (factor * iqr)\n",
    "        X.iloc[((X.iloc[:,i] < lower_bound) | (X.iloc[:,i] > upper_bound)),i] = np.nan \n",
    "    return X\n",
    "\n",
    "#creating outlier_remover object using FunctionTransformer with factor=1.5\n",
    "Outlier = FunctionTransformer(Outlier_Detector,kw_args={'factor':1.5})\n",
    "\n",
    "#contiuous_transformer = SimpleImputer(strategy='median')\n",
    "\n",
    "contiuous_transformer = Pipeline(steps=[\n",
    "('outlier', Outlier),\n",
    "('imputer', SimpleImputer(strategy='median'))\n",
    "])\n",
    "\n",
    "# building categorical transformers (worst to best)\n",
    "cut_enc = OrdinalEncoder(categories=[[\"Fair\", \"Good\", \"Very Good\", \"Premium\",\"Ideal\"]])\n",
    "color_enc = OrdinalEncoder(categories=[['J', 'I', 'H', 'G', 'F', 'E','D']])\n",
    "clarity_enc = OrdinalEncoder(categories=[[\"I1\", \"SI2\", \"SI1\", \"VS2\", \"VS1\", \"VVS2\", \"VVS1\",'IF']])\n",
    "\n",
    "\n",
    "# Create preprocessor\n",
    "preprocessor = ColumnTransformer(\n",
    "    transformers=[\n",
    "        ('num', contiuous_transformer, Continuous),\n",
    "        ('cuts', cut_enc, [\"cut\"]),\n",
    "        ('colors', color_enc, [\"color\"]),\n",
    "        ('clarities', clarity_enc, [\"clarity\"])\n",
    "    ])"
   ]
  },
  {
   "cell_type": "markdown",
   "id": "6d26d7c0-67f6-416f-8b04-92c81257a8f7",
   "metadata": {},
   "source": [
    "**Model**"
   ]
  },
  {
   "cell_type": "code",
   "execution_count": 105,
   "id": "2caf2350-bccc-4674-a7f8-334012cf073e",
   "metadata": {},
   "outputs": [],
   "source": [
    "model = LinearRegression()"
   ]
  },
  {
   "cell_type": "markdown",
   "id": "6168dccc-d8fb-454b-825f-8636d27f0e62",
   "metadata": {},
   "source": [
    "**Final Pipeline**"
   ]
  },
  {
   "cell_type": "code",
   "execution_count": 106,
   "id": "0e7897e5-d695-4b08-8b0a-6ae5c7f065ce",
   "metadata": {},
   "outputs": [
    {
     "data": {
      "text/plain": [
       "Pipeline(steps=[('preprocessor',\n",
       "                 ColumnTransformer(transformers=[('num',\n",
       "                                                  Pipeline(steps=[('outlier',\n",
       "                                                                   FunctionTransformer(func=<function Outlier_Detector at 0x000001B614A9A550>,\n",
       "                                                                                       kw_args={'factor': 1.5})),\n",
       "                                                                  ('imputer',\n",
       "                                                                   SimpleImputer(strategy='median'))]),\n",
       "                                                  ['carat', 'depth', 'table',\n",
       "                                                   'x', 'y', 'z']),\n",
       "                                                 ('cuts',\n",
       "                                                  OrdinalEncoder(categories=[['Fair',\n",
       "                                                                              'Good',\n",
       "                                                                              'Very '\n",
       "                                                                              'Good',\n",
       "                                                                              'Premium',\n",
       "                                                                              'Ideal']]),\n",
       "                                                  ['cut']),\n",
       "                                                 ('colors',\n",
       "                                                  OrdinalEncoder(categories=[['J',\n",
       "                                                                              'I',\n",
       "                                                                              'H',\n",
       "                                                                              'G',\n",
       "                                                                              'F',\n",
       "                                                                              'E',\n",
       "                                                                              'D']]),\n",
       "                                                  ['color']),\n",
       "                                                 ('clarities',\n",
       "                                                  OrdinalEncoder(categories=[['I1',\n",
       "                                                                              'SI2',\n",
       "                                                                              'SI1',\n",
       "                                                                              'VS2',\n",
       "                                                                              'VS1',\n",
       "                                                                              'VVS2',\n",
       "                                                                              'VVS1',\n",
       "                                                                              'IF']]),\n",
       "                                                  ['clarity'])])),\n",
       "                ('model', LinearRegression())])"
      ]
     },
     "execution_count": 106,
     "metadata": {},
     "output_type": "execute_result"
    }
   ],
   "source": [
    "# Bundle preprocessing and modeling code in a pipeline\n",
    "Baseline1 = Pipeline(steps=[('preprocessor', preprocessor),\n",
    "                              ('model', model)\n",
    "                             ])\n",
    "\n",
    "# Preprocessing of training data, fit model \n",
    "Baseline1.fit(X_train2, y_train2)"
   ]
  },
  {
   "cell_type": "markdown",
   "id": "6fd5d8de-891c-4d01-af1f-c10667c7551e",
   "metadata": {},
   "source": [
    "**Validation Prediction**"
   ]
  },
  {
   "cell_type": "code",
   "execution_count": 107,
   "id": "b03f38de-eefd-4b87-a2fe-7f37a178a9ef",
   "metadata": {},
   "outputs": [
    {
     "name": "stdout",
     "output_type": "stream",
     "text": [
      "MAE: 1227.2738971261278\n",
      "MSE:  2652792.3125459263\n",
      "R2:  0.8367188169244258\n"
     ]
    }
   ],
   "source": [
    "from sklearn.metrics import mean_absolute_error\n",
    "from sklearn.metrics import mean_squared_error\n",
    "from sklearn.metrics import r2_score\n",
    "\n",
    "\n",
    "# Preprocessing of validation data, get predictions\n",
    "b1_val_preds = Baseline1.predict(X_val)\n",
    "\n",
    "# Evaluate the model\n",
    "b1_val_mae = mean_absolute_error(y_val, b1_val_preds)\n",
    "b1_val_mse = mean_squared_error(y_val, b1_val_preds)\n",
    "b1_val_r2 = r2_score(y_val, b1_val_preds)\n",
    "\n",
    "print('MAE:', b1_val_mae)\n",
    "print(\"MSE: \",b1_val_mse)\n",
    "print(\"R2: \",b1_val_r2)"
   ]
  },
  {
   "cell_type": "markdown",
   "id": "0e649dc2-d86d-406e-8a46-13daa040d1d0",
   "metadata": {},
   "source": [
    "**Cross Validation Prediction (NRMSE)**"
   ]
  },
  {
   "cell_type": "code",
   "execution_count": 108,
   "id": "5a47b14b-052e-4f42-8b26-231ff144862d",
   "metadata": {},
   "outputs": [
    {
     "name": "stdout",
     "output_type": "stream",
     "text": [
      "validation negative root mean squared error on 5 fold cross validation: [-1674.34968697 -1594.12551928 -1562.22328898 -1589.48519538\n",
      " -1627.25022853]\n",
      "validation negative root mean squared error accuracy: -1609.4867838266748\n"
     ]
    }
   ],
   "source": [
    "from sklearn.model_selection import cross_val_score\n",
    "CV = cross_val_score(Baseline1, X_train, y_train, cv=5, scoring = \"neg_root_mean_squared_error\")\n",
    "print(f\"validation negative root mean squared error on 5 fold cross validation: {CV}\")\n",
    "print(f\"validation negative root mean squared error accuracy: {CV.mean()}\")"
   ]
  },
  {
   "cell_type": "markdown",
   "id": "ec0827ee-9894-4619-a21c-3208b27bff44",
   "metadata": {},
   "source": [
    "**Test Prediction**"
   ]
  },
  {
   "cell_type": "code",
   "execution_count": 109,
   "id": "0e38d0d7-d515-4448-849f-e7b02bfcf9de",
   "metadata": {},
   "outputs": [
    {
     "name": "stdout",
     "output_type": "stream",
     "text": [
      "MAE: 1249.8900248224795\n",
      "MSE:  2697964.8791565355\n",
      "R2:  0.8331690897943889\n"
     ]
    }
   ],
   "source": [
    "Baseline1.fit(X_train, y_train)\n",
    "b1_test_preds = Baseline1.predict(X_test)\n",
    "b1_test_mae = mean_absolute_error(y_test, b1_test_preds)\n",
    "b1_test_mse = mean_squared_error(y_test, b1_test_preds)\n",
    "b1_test_r2 = r2_score(y_test, b1_test_preds)\n",
    "print('MAE:', b1_test_mae)\n",
    "print(\"MSE: \",b1_test_mse)\n",
    "print(\"R2: \",b1_test_r2)"
   ]
  },
  {
   "cell_type": "markdown",
   "id": "4cf1888e-8bea-40eb-bf64-7de682e6f973",
   "metadata": {},
   "source": [
    "**Test NRMSE**"
   ]
  },
  {
   "cell_type": "code",
   "execution_count": 110,
   "id": "a65aa5ab-b44c-4794-931e-7314aaac2033",
   "metadata": {},
   "outputs": [
    {
     "name": "stdout",
     "output_type": "stream",
     "text": [
      "NRMSE:  -1642.5482882267222\n"
     ]
    }
   ],
   "source": [
    "print(\"NRMSE: \",-np.sqrt(b1_test_mse))"
   ]
  },
  {
   "cell_type": "markdown",
   "id": "e757c383-f10d-478e-ab82-81516d38196f",
   "metadata": {},
   "source": [
    "**Model Explainability**\n",
    "\n",
    "The chosen method is [Permutation](https://brilliant.org/wiki/permutations/#permutations-problem-solving) Importance.\n",
    "Each feature is shuffled and predicted with the rest of the normally ordered columns, where the weights are mostly changed in positive numbers means they most effect the model. negative means the model performed better with this random ordered feature, which means it's that it is useless as a predictor."
   ]
  },
  {
   "cell_type": "code",
   "execution_count": 111,
   "id": "6a30f74b-3de5-4b95-9277-9a9c9263d448",
   "metadata": {},
   "outputs": [
    {
     "data": {
      "text/html": [
       "\n",
       "    <style>\n",
       "    table.eli5-weights tr:hover {\n",
       "        filter: brightness(85%);\n",
       "    }\n",
       "</style>\n",
       "\n",
       "\n",
       "\n",
       "    \n",
       "\n",
       "    \n",
       "\n",
       "    \n",
       "\n",
       "    \n",
       "\n",
       "    \n",
       "\n",
       "    \n",
       "\n",
       "\n",
       "    \n",
       "\n",
       "    \n",
       "\n",
       "    \n",
       "\n",
       "    \n",
       "\n",
       "    \n",
       "\n",
       "    \n",
       "\n",
       "\n",
       "    \n",
       "\n",
       "    \n",
       "\n",
       "    \n",
       "\n",
       "    \n",
       "\n",
       "    \n",
       "        <table class=\"eli5-weights eli5-feature-importances\" style=\"border-collapse: collapse; border: none; margin-top: 0em; table-layout: auto;\">\n",
       "    <thead>\n",
       "    <tr style=\"border: none;\">\n",
       "        <th style=\"padding: 0 1em 0 0.5em; text-align: right; border: none;\">Weight</th>\n",
       "        <th style=\"padding: 0 0.5em 0 0.5em; text-align: left; border: none;\">Feature</th>\n",
       "    </tr>\n",
       "    </thead>\n",
       "    <tbody>\n",
       "    \n",
       "        <tr style=\"background-color: hsl(120, 100.00%, 80.00%); border: none;\">\n",
       "            <td style=\"padding: 0 1em 0 0.5em; text-align: right; border: none;\">\n",
       "                0.7128\n",
       "                \n",
       "                    &plusmn; 0.0043\n",
       "                \n",
       "            </td>\n",
       "            <td style=\"padding: 0 0.5em 0 0.5em; text-align: left; border: none;\">\n",
       "                depth\n",
       "            </td>\n",
       "        </tr>\n",
       "    \n",
       "        <tr style=\"background-color: hsl(120, 100.00%, 91.23%); border: none;\">\n",
       "            <td style=\"padding: 0 1em 0 0.5em; text-align: right; border: none;\">\n",
       "                0.2197\n",
       "                \n",
       "                    &plusmn; 0.0028\n",
       "                \n",
       "            </td>\n",
       "            <td style=\"padding: 0 0.5em 0 0.5em; text-align: left; border: none;\">\n",
       "                table\n",
       "            </td>\n",
       "        </tr>\n",
       "    \n",
       "        <tr style=\"background-color: hsl(120, 100.00%, 94.89%); border: none;\">\n",
       "            <td style=\"padding: 0 1em 0 0.5em; text-align: right; border: none;\">\n",
       "                0.1015\n",
       "                \n",
       "                    &plusmn; 0.0021\n",
       "                \n",
       "            </td>\n",
       "            <td style=\"padding: 0 0.5em 0 0.5em; text-align: left; border: none;\">\n",
       "                z\n",
       "            </td>\n",
       "        </tr>\n",
       "    \n",
       "        <tr style=\"background-color: hsl(120, 100.00%, 94.94%); border: none;\">\n",
       "            <td style=\"padding: 0 1em 0 0.5em; text-align: right; border: none;\">\n",
       "                0.1001\n",
       "                \n",
       "                    &plusmn; 0.0013\n",
       "                \n",
       "            </td>\n",
       "            <td style=\"padding: 0 0.5em 0 0.5em; text-align: left; border: none;\">\n",
       "                clarity\n",
       "            </td>\n",
       "        </tr>\n",
       "    \n",
       "        <tr style=\"background-color: hsl(120, 100.00%, 96.69%); border: none;\">\n",
       "            <td style=\"padding: 0 1em 0 0.5em; text-align: right; border: none;\">\n",
       "                0.0545\n",
       "                \n",
       "                    &plusmn; 0.0016\n",
       "                \n",
       "            </td>\n",
       "            <td style=\"padding: 0 0.5em 0 0.5em; text-align: left; border: none;\">\n",
       "                carat\n",
       "            </td>\n",
       "        </tr>\n",
       "    \n",
       "        <tr style=\"background-color: hsl(120, 100.00%, 98.16%); border: none;\">\n",
       "            <td style=\"padding: 0 1em 0 0.5em; text-align: right; border: none;\">\n",
       "                0.0235\n",
       "                \n",
       "                    &plusmn; 0.0006\n",
       "                \n",
       "            </td>\n",
       "            <td style=\"padding: 0 0.5em 0 0.5em; text-align: left; border: none;\">\n",
       "                y\n",
       "            </td>\n",
       "        </tr>\n",
       "    \n",
       "        <tr style=\"background-color: hsl(120, 100.00%, 99.55%); border: none;\">\n",
       "            <td style=\"padding: 0 1em 0 0.5em; text-align: right; border: none;\">\n",
       "                0.0031\n",
       "                \n",
       "                    &plusmn; 0.0002\n",
       "                \n",
       "            </td>\n",
       "            <td style=\"padding: 0 0.5em 0 0.5em; text-align: left; border: none;\">\n",
       "                x\n",
       "            </td>\n",
       "        </tr>\n",
       "    \n",
       "        <tr style=\"background-color: hsl(120, 100.00%, 99.83%); border: none;\">\n",
       "            <td style=\"padding: 0 1em 0 0.5em; text-align: right; border: none;\">\n",
       "                0.0008\n",
       "                \n",
       "                    &plusmn; 0.0001\n",
       "                \n",
       "            </td>\n",
       "            <td style=\"padding: 0 0.5em 0 0.5em; text-align: left; border: none;\">\n",
       "                cut\n",
       "            </td>\n",
       "        </tr>\n",
       "    \n",
       "        <tr style=\"background-color: hsl(120, 100.00%, 99.93%); border: none;\">\n",
       "            <td style=\"padding: 0 1em 0 0.5em; text-align: right; border: none;\">\n",
       "                0.0002\n",
       "                \n",
       "                    &plusmn; 0.0001\n",
       "                \n",
       "            </td>\n",
       "            <td style=\"padding: 0 0.5em 0 0.5em; text-align: left; border: none;\">\n",
       "                color\n",
       "            </td>\n",
       "        </tr>\n",
       "    \n",
       "    \n",
       "    </tbody>\n",
       "</table>\n",
       "    \n",
       "\n",
       "    \n",
       "\n",
       "\n",
       "    \n",
       "\n",
       "    \n",
       "\n",
       "    \n",
       "\n",
       "    \n",
       "\n",
       "    \n",
       "\n",
       "    \n",
       "\n",
       "\n",
       "\n"
      ],
      "text/plain": [
       "<IPython.core.display.HTML object>"
      ]
     },
     "execution_count": 111,
     "metadata": {},
     "output_type": "execute_result"
    }
   ],
   "source": [
    "x_tr = Baseline1.named_steps[\"preprocessor\"].fit_transform(X_train)#preprocess inputs\n",
    "perm = PermutationImportance(Baseline1.named_steps[\"model\"]).fit(x_tr, y_train)#fit model\n",
    "eli5.show_weights(perm, feature_names = X_train.columns.tolist())#show results"
   ]
  },
  {
   "cell_type": "markdown",
   "id": "4c8bc88b-c123-49c9-a1a8-75597f8d21b9",
   "metadata": {},
   "source": [
    "**insights:**\n",
    "* depth is very important for this models prediction. \n",
    "* color has no effect on the models predictions.\n",
    "* only table, z and clarity has a big effect on the model other featres less so."
   ]
  },
  {
   "cell_type": "markdown",
   "id": "02cbffaf-6838-4db5-a1d8-fb6181998b7f",
   "metadata": {},
   "source": [
    "### Baseline 1 Summary\n",
    "The model was validated with mse, mae and r2, cross validated 5 times for NRMSE, and tested 1 time for all the metrics:\n",
    "* **Mae**: validation set and test set around 1,200 and validation performed slightly better. \n",
    "* **Mse**: validation set and test set around 2,650,000 and validation performed slightly better.\n",
    "* **R2**: validation set and test set around 0.83 and validation performed slightly better.\n",
    "* **NRMSE**: validation set and test set around 1,600 and validation performed slightly better.\n",
    "\n",
    "The baseline is saved for comparison as a pandas dataframe: "
   ]
  },
  {
   "cell_type": "code",
   "execution_count": 112,
   "id": "693f2bbd-231b-4660-a874-2304f6ef5b21",
   "metadata": {},
   "outputs": [
    {
     "data": {
      "text/html": [
       "<div>\n",
       "<style scoped>\n",
       "    .dataframe tbody tr th:only-of-type {\n",
       "        vertical-align: middle;\n",
       "    }\n",
       "\n",
       "    .dataframe tbody tr th {\n",
       "        vertical-align: top;\n",
       "    }\n",
       "\n",
       "    .dataframe thead th {\n",
       "        text-align: right;\n",
       "    }\n",
       "</style>\n",
       "<table border=\"1\" class=\"dataframe\">\n",
       "  <thead>\n",
       "    <tr style=\"text-align: right;\">\n",
       "      <th></th>\n",
       "      <th>val_mae</th>\n",
       "      <th>val_mse</th>\n",
       "      <th>val_r2</th>\n",
       "      <th>val_nrmse</th>\n",
       "      <th>test_mae</th>\n",
       "      <th>test_mse</th>\n",
       "      <th>test_r2</th>\n",
       "      <th>test_nrmse</th>\n",
       "    </tr>\n",
       "  </thead>\n",
       "  <tbody>\n",
       "    <tr>\n",
       "      <th>Baseline1</th>\n",
       "      <td>1227.274</td>\n",
       "      <td>2652792.313</td>\n",
       "      <td>0.837</td>\n",
       "      <td>-1609.487</td>\n",
       "      <td>1249.890</td>\n",
       "      <td>2697964.879</td>\n",
       "      <td>0.833</td>\n",
       "      <td>-1642.548</td>\n",
       "    </tr>\n",
       "  </tbody>\n",
       "</table>\n",
       "</div>"
      ],
      "text/plain": [
       "           val_mae     val_mse  val_r2  val_nrmse  test_mae    test_mse  \\\n",
       "Baseline1 1227.274 2652792.313   0.837  -1609.487  1249.890 2697964.879   \n",
       "\n",
       "           test_r2  test_nrmse  \n",
       "Baseline1    0.833   -1642.548  "
      ]
     },
     "execution_count": 112,
     "metadata": {},
     "output_type": "execute_result"
    }
   ],
   "source": [
    "baseline1 = pd.DataFrame({\"val_mae\": b1_val_mae,\"val_mse\": b1_val_mse,\"val_r2\": b1_val_r2,\"val_nrmse\": CV.mean(),\"test_mae\": b1_test_mae,\"test_mse\": b1_test_mse,\"test_r2\": b1_test_r2, \"test_nrmse\": -np.sqrt(b1_test_mse)}, index=[\"Baseline1\"])\n",
    "baseline1"
   ]
  },
  {
   "cell_type": "markdown",
   "id": "36168a5b-b8bc-4db1-93d4-84a682eaa192",
   "metadata": {},
   "source": [
    "## Baseline 2: Preprocess Parameter tuning\n",
    "\n",
    "### Decisions:\n",
    "* **Preprocessing:**\n",
    "    1. **Outliers:**  **continuous** - choose what is considered an outlier, fill with median/mean and scaling.               \n",
    "    2. **Feature Engineering**: only categoric labels, OrdinalEncoder.\n",
    "* **Model training** - using cross validation in validation data on a simple linear regression model.\n",
    "* **Model testing** - validate with grid search and validation set then train on whole train + validation set and use test data for results.\n",
    "* **Model evaluating** - record for validation and test the following metrics:\n",
    "    1. MSE - [Mean squared error](https://en.wikipedia.org/wiki/Mean_squared_error)\n",
    "    2. R2 - [R Square](https://en.wikipedia.org/wiki/Coefficient_of_determination)\n",
    "    3. MAE - [Mean absolut error](https://en.wikipedia.org/wiki/Mean_absolute_error)\n",
    "    4. NRMSE - [Negative root mean squared error](https://en.wikipedia.org/wiki/Root-mean-square_deviation)\n",
    "    \n",
    "\n",
    "**Preprocessing**"
   ]
  },
  {
   "cell_type": "code",
   "execution_count": 113,
   "id": "d19bcc2f-e476-424f-ba4f-bdbe1a89e662",
   "metadata": {},
   "outputs": [],
   "source": [
    "# Preprocessing for continuous data\n",
    "Outlier2 = FunctionTransformer(Outlier_Detector,kw_args={'factor':np.nan})\n",
    "\n",
    "#contiuous_transformer = SimpleImputer(strategy='median')\n",
    "\n",
    "contiuous_transformer = Pipeline(steps=[\n",
    "('outlier', Outlier2),\n",
    "('imputer', SimpleImputer()),\n",
    "('scaler', StandardScaler())    \n",
    "])\n",
    "\n",
    "# Create preprocessor\n",
    "preprocessor = ColumnTransformer(\n",
    "    transformers=[\n",
    "        ('num', contiuous_transformer, Continuous),\n",
    "        ('cuts', cut_enc, [\"cut\"]),\n",
    "        ('colors', color_enc, [\"color\"]),\n",
    "        ('clarities', clarity_enc, [\"clarity\"])\n",
    "    ])"
   ]
  },
  {
   "cell_type": "markdown",
   "id": "759e6660-abf9-4601-bd36-7bf2a4d23760",
   "metadata": {},
   "source": [
    "**Final Pipeline**"
   ]
  },
  {
   "cell_type": "code",
   "execution_count": 114,
   "id": "9afe37d8-9755-46b0-9f3f-5c9b439154a5",
   "metadata": {},
   "outputs": [
    {
     "data": {
      "text/plain": [
       "Pipeline(steps=[('preprocessor',\n",
       "                 ColumnTransformer(transformers=[('num',\n",
       "                                                  Pipeline(steps=[('outlier',\n",
       "                                                                   FunctionTransformer(func=<function Outlier_Detector at 0x000001B614A9A550>,\n",
       "                                                                                       kw_args={'factor': nan})),\n",
       "                                                                  ('imputer',\n",
       "                                                                   SimpleImputer()),\n",
       "                                                                  ('scaler',\n",
       "                                                                   StandardScaler())]),\n",
       "                                                  ['carat', 'depth', 'table',\n",
       "                                                   'x', 'y', 'z']),\n",
       "                                                 ('cuts',\n",
       "                                                  OrdinalEncoder(categories=[['Fair',\n",
       "                                                                              'Good',\n",
       "                                                                              'Very '\n",
       "                                                                              'Good',\n",
       "                                                                              'Premium',\n",
       "                                                                              'Ideal']]),\n",
       "                                                  ['cut']),\n",
       "                                                 ('colors',\n",
       "                                                  OrdinalEncoder(categories=[['J',\n",
       "                                                                              'I',\n",
       "                                                                              'H',\n",
       "                                                                              'G',\n",
       "                                                                              'F',\n",
       "                                                                              'E',\n",
       "                                                                              'D']]),\n",
       "                                                  ['color']),\n",
       "                                                 ('clarities',\n",
       "                                                  OrdinalEncoder(categories=[['I1',\n",
       "                                                                              'SI2',\n",
       "                                                                              'SI1',\n",
       "                                                                              'VS2',\n",
       "                                                                              'VS1',\n",
       "                                                                              'VVS2',\n",
       "                                                                              'VVS1',\n",
       "                                                                              'IF']]),\n",
       "                                                  ['clarity'])])),\n",
       "                ('model', LinearRegression())])"
      ]
     },
     "execution_count": 114,
     "metadata": {},
     "output_type": "execute_result"
    }
   ],
   "source": [
    "# Bundle preprocessing and modeling code in a pipeline\n",
    "Baseline2 = Pipeline(steps=[('preprocessor', preprocessor),\n",
    "                              ('model', model)\n",
    "                             ])\n",
    "\n",
    "# Preprocessing of training data, fit model \n",
    "Baseline2.fit(X_train2, y_train2)"
   ]
  },
  {
   "cell_type": "code",
   "execution_count": 115,
   "id": "01f0fe1b-4ea3-4ee2-8337-0ff4d0ce87e5",
   "metadata": {},
   "outputs": [
    {
     "data": {
      "text/plain": [
       "dict_keys(['memory', 'steps', 'verbose', 'preprocessor', 'model', 'preprocessor__n_jobs', 'preprocessor__remainder', 'preprocessor__sparse_threshold', 'preprocessor__transformer_weights', 'preprocessor__transformers', 'preprocessor__verbose', 'preprocessor__num', 'preprocessor__cuts', 'preprocessor__colors', 'preprocessor__clarities', 'preprocessor__num__memory', 'preprocessor__num__steps', 'preprocessor__num__verbose', 'preprocessor__num__outlier', 'preprocessor__num__imputer', 'preprocessor__num__scaler', 'preprocessor__num__outlier__accept_sparse', 'preprocessor__num__outlier__check_inverse', 'preprocessor__num__outlier__func', 'preprocessor__num__outlier__inv_kw_args', 'preprocessor__num__outlier__inverse_func', 'preprocessor__num__outlier__kw_args', 'preprocessor__num__outlier__validate', 'preprocessor__num__imputer__add_indicator', 'preprocessor__num__imputer__copy', 'preprocessor__num__imputer__fill_value', 'preprocessor__num__imputer__missing_values', 'preprocessor__num__imputer__strategy', 'preprocessor__num__imputer__verbose', 'preprocessor__num__scaler__copy', 'preprocessor__num__scaler__with_mean', 'preprocessor__num__scaler__with_std', 'preprocessor__cuts__categories', 'preprocessor__cuts__dtype', 'preprocessor__cuts__handle_unknown', 'preprocessor__cuts__unknown_value', 'preprocessor__colors__categories', 'preprocessor__colors__dtype', 'preprocessor__colors__handle_unknown', 'preprocessor__colors__unknown_value', 'preprocessor__clarities__categories', 'preprocessor__clarities__dtype', 'preprocessor__clarities__handle_unknown', 'preprocessor__clarities__unknown_value', 'model__copy_X', 'model__fit_intercept', 'model__n_jobs', 'model__normalize', 'model__positive'])"
      ]
     },
     "execution_count": 115,
     "metadata": {},
     "output_type": "execute_result"
    }
   ],
   "source": [
    "Baseline2.get_params().keys()"
   ]
  },
  {
   "cell_type": "markdown",
   "id": "37016141-9ae8-460a-b76b-d52191eb5f0c",
   "metadata": {},
   "source": [
    "**Parameter tuning and grid search**\n",
    "\n",
    "the factor of the outlier is being grid searched as well as impute strategy:"
   ]
  },
  {
   "cell_type": "code",
   "execution_count": 116,
   "id": "f299c8f2-038a-40f6-93e4-834641bd2750",
   "metadata": {},
   "outputs": [],
   "source": [
    "hyperparameters = {'preprocessor__num__outlier__kw_args':[{'factor':0},{'factor':0.5},{'factor':1},{'factor':1.5},{'factor':2},{'factor':2.5},{'factor':3}],\n",
    "              'preprocessor__num__imputer__strategy':['mean','median']}\n",
    "#grid search\n",
    "b2_test_clf = GridSearchCV(Baseline2, hyperparameters,cv = 5, scoring = \"neg_root_mean_squared_error\", n_jobs = -1, verbose = 2) "
   ]
  },
  {
   "cell_type": "code",
   "execution_count": 117,
   "id": "c936e748-f1e0-42f9-9881-7e7d9f1f9f65",
   "metadata": {},
   "outputs": [
    {
     "name": "stdout",
     "output_type": "stream",
     "text": [
      "Fitting 5 folds for each of 14 candidates, totalling 70 fits\n",
      "Wall time: 4.79 s\n"
     ]
    },
    {
     "data": {
      "text/plain": [
       "GridSearchCV(cv=5,\n",
       "             estimator=Pipeline(steps=[('preprocessor',\n",
       "                                        ColumnTransformer(transformers=[('num',\n",
       "                                                                         Pipeline(steps=[('outlier',\n",
       "                                                                                          FunctionTransformer(func=<function Outlier_Detector at 0x000001B614A9A550>,\n",
       "                                                                                                              kw_args={'factor': nan})),\n",
       "                                                                                         ('imputer',\n",
       "                                                                                          SimpleImputer()),\n",
       "                                                                                         ('scaler',\n",
       "                                                                                          StandardScaler())]),\n",
       "                                                                         ['carat',\n",
       "                                                                          'depth',\n",
       "                                                                          'table',\n",
       "                                                                          'x',\n",
       "                                                                          'y',\n",
       "                                                                          'z']),\n",
       "                                                                        ('cuts',\n",
       "                                                                         OrdinalEncoder(categor...\n",
       "                                                                                                     'SI1',\n",
       "                                                                                                     'VS2',\n",
       "                                                                                                     'VS1',\n",
       "                                                                                                     'VVS2',\n",
       "                                                                                                     'VVS1',\n",
       "                                                                                                     'IF']]),\n",
       "                                                                         ['clarity'])])),\n",
       "                                       ('model', LinearRegression())]),\n",
       "             n_jobs=-1,\n",
       "             param_grid={'preprocessor__num__imputer__strategy': ['mean',\n",
       "                                                                  'median'],\n",
       "                         'preprocessor__num__outlier__kw_args': [{'factor': 0},\n",
       "                                                                 {'factor': 0.5},\n",
       "                                                                 {'factor': 1},\n",
       "                                                                 {'factor': 1.5},\n",
       "                                                                 {'factor': 2},\n",
       "                                                                 {'factor': 2.5},\n",
       "                                                                 {'factor': 3}]},\n",
       "             scoring='neg_root_mean_squared_error', verbose=2)"
      ]
     },
     "execution_count": 117,
     "metadata": {},
     "output_type": "execute_result"
    }
   ],
   "source": [
    "%%time\n",
    "# Fit and tune model\n",
    "b2_test_clf.fit(X_train, y_train)"
   ]
  },
  {
   "cell_type": "code",
   "execution_count": 118,
   "id": "d2b77f2b-23bb-49a4-ad1d-9a8a5b831829",
   "metadata": {},
   "outputs": [
    {
     "data": {
      "text/plain": [
       "{'preprocessor__num__imputer__strategy': 'mean',\n",
       " 'preprocessor__num__outlier__kw_args': {'factor': 3}}"
      ]
     },
     "execution_count": 118,
     "metadata": {},
     "output_type": "execute_result"
    }
   ],
   "source": [
    "b2_test_clf.best_params_"
   ]
  },
  {
   "cell_type": "markdown",
   "id": "f0efd0e3-ef1d-4f48-823f-9b597f056143",
   "metadata": {},
   "source": [
    "**Validation Prediction**"
   ]
  },
  {
   "cell_type": "code",
   "execution_count": 119,
   "id": "9d6de03e-02ca-48ac-a5a0-d3a49cd44019",
   "metadata": {},
   "outputs": [
    {
     "name": "stdout",
     "output_type": "stream",
     "text": [
      "MAE: 829.0934236938818\n",
      "MSE:  1413280.7606081744\n",
      "R2:  0.9130116015797015\n",
      "NRMSE:  -1188.8148554792601\n"
     ]
    }
   ],
   "source": [
    "b2_val_clf = b2_test_clf.best_estimator_\n",
    "b2_val_clf.fit(X_train2, y_train2)\n",
    "b2_val_preds = b2_val_clf.predict(X_val)\n",
    "\n",
    "# Evaluate the model\n",
    "b2_val_mae = mean_absolute_error(y_val, b2_val_preds)\n",
    "b2_val_mse = mean_squared_error(y_val, b2_val_preds)\n",
    "b2_val_r2 = r2_score(y_val, b2_val_preds)\n",
    "\n",
    "print('MAE:', b2_val_mae)\n",
    "print(\"MSE: \",b2_val_mse)\n",
    "print(\"R2: \",b2_val_r2)\n",
    "print(\"NRMSE: \",-np.sqrt(b2_val_mse))"
   ]
  },
  {
   "cell_type": "markdown",
   "id": "69984cf4-7cbb-4b0a-8379-04a4d41b62d2",
   "metadata": {},
   "source": [
    "**Test Prediction**"
   ]
  },
  {
   "cell_type": "code",
   "execution_count": 120,
   "id": "ee74f807-17dc-447c-9fee-ecc345585a2a",
   "metadata": {},
   "outputs": [
    {
     "name": "stdout",
     "output_type": "stream",
     "text": [
      "MAE: 827.987068391731\n",
      "MSE:  1451969.502775263\n",
      "R2:  0.9102162538844779\n",
      "NRMSE:  -1204.9769718858793\n"
     ]
    }
   ],
   "source": [
    "b2_Te_clf = b2_test_clf.best_estimator_\n",
    "b2_Te_clf.fit(X_train, y_train)\n",
    "b2_test_preds = b2_Te_clf.predict(X_test)\n",
    "\n",
    "# Evaluate the model\n",
    "b2_test_mae = mean_absolute_error(y_test, b2_test_preds)\n",
    "b2_test_mse = mean_squared_error(y_test, b2_test_preds)\n",
    "b2_test_r2 = r2_score(y_test, b2_test_preds)\n",
    "\n",
    "print('MAE:', b2_test_mae)\n",
    "print(\"MSE: \",b2_test_mse)\n",
    "print(\"R2: \",b2_test_r2)\n",
    "print(\"NRMSE: \",-np.sqrt(b2_test_mse))"
   ]
  },
  {
   "cell_type": "code",
   "execution_count": 121,
   "id": "a39431f8-f6b1-45cd-927c-d6ebbdc13f7f",
   "metadata": {},
   "outputs": [
    {
     "data": {
      "text/html": [
       "\n",
       "    <style>\n",
       "    table.eli5-weights tr:hover {\n",
       "        filter: brightness(85%);\n",
       "    }\n",
       "</style>\n",
       "\n",
       "\n",
       "\n",
       "    \n",
       "\n",
       "    \n",
       "\n",
       "    \n",
       "\n",
       "    \n",
       "\n",
       "    \n",
       "\n",
       "    \n",
       "\n",
       "\n",
       "    \n",
       "\n",
       "    \n",
       "\n",
       "    \n",
       "\n",
       "    \n",
       "\n",
       "    \n",
       "\n",
       "    \n",
       "\n",
       "\n",
       "    \n",
       "\n",
       "    \n",
       "\n",
       "    \n",
       "\n",
       "    \n",
       "\n",
       "    \n",
       "        <table class=\"eli5-weights eli5-feature-importances\" style=\"border-collapse: collapse; border: none; margin-top: 0em; table-layout: auto;\">\n",
       "    <thead>\n",
       "    <tr style=\"border: none;\">\n",
       "        <th style=\"padding: 0 1em 0 0.5em; text-align: right; border: none;\">Weight</th>\n",
       "        <th style=\"padding: 0 0.5em 0 0.5em; text-align: left; border: none;\">Feature</th>\n",
       "    </tr>\n",
       "    </thead>\n",
       "    <tbody>\n",
       "    \n",
       "        <tr style=\"background-color: hsl(120, 100.00%, 80.00%); border: none;\">\n",
       "            <td style=\"padding: 0 1em 0 0.5em; text-align: right; border: none;\">\n",
       "                2.6284\n",
       "                \n",
       "                    &plusmn; 0.0291\n",
       "                \n",
       "            </td>\n",
       "            <td style=\"padding: 0 0.5em 0 0.5em; text-align: left; border: none;\">\n",
       "                carat\n",
       "            </td>\n",
       "        </tr>\n",
       "    \n",
       "        <tr style=\"background-color: hsl(120, 100.00%, 96.20%); border: none;\">\n",
       "            <td style=\"padding: 0 1em 0 0.5em; text-align: right; border: none;\">\n",
       "                0.2455\n",
       "                \n",
       "                    &plusmn; 0.0035\n",
       "                \n",
       "            </td>\n",
       "            <td style=\"padding: 0 0.5em 0 0.5em; text-align: left; border: none;\">\n",
       "                clarity\n",
       "            </td>\n",
       "        </tr>\n",
       "    \n",
       "        <tr style=\"background-color: hsl(120, 100.00%, 96.94%); border: none;\">\n",
       "            <td style=\"padding: 0 1em 0 0.5em; text-align: right; border: none;\">\n",
       "                0.1797\n",
       "                \n",
       "                    &plusmn; 0.0019\n",
       "                \n",
       "            </td>\n",
       "            <td style=\"padding: 0 0.5em 0 0.5em; text-align: left; border: none;\">\n",
       "                depth\n",
       "            </td>\n",
       "        </tr>\n",
       "    \n",
       "        <tr style=\"background-color: hsl(120, 100.00%, 98.19%); border: none;\">\n",
       "            <td style=\"padding: 0 1em 0 0.5em; text-align: right; border: none;\">\n",
       "                0.0852\n",
       "                \n",
       "                    &plusmn; 0.0014\n",
       "                \n",
       "            </td>\n",
       "            <td style=\"padding: 0 0.5em 0 0.5em; text-align: left; border: none;\">\n",
       "                z\n",
       "            </td>\n",
       "        </tr>\n",
       "    \n",
       "        <tr style=\"background-color: hsl(120, 100.00%, 99.02%); border: none;\">\n",
       "            <td style=\"padding: 0 1em 0 0.5em; text-align: right; border: none;\">\n",
       "                0.0355\n",
       "                \n",
       "                    &plusmn; 0.0007\n",
       "                \n",
       "            </td>\n",
       "            <td style=\"padding: 0 0.5em 0 0.5em; text-align: left; border: none;\">\n",
       "                y\n",
       "            </td>\n",
       "        </tr>\n",
       "    \n",
       "        <tr style=\"background-color: hsl(120, 100.00%, 99.70%); border: none;\">\n",
       "            <td style=\"padding: 0 1em 0 0.5em; text-align: right; border: none;\">\n",
       "                0.0066\n",
       "                \n",
       "                    &plusmn; 0.0003\n",
       "                \n",
       "            </td>\n",
       "            <td style=\"padding: 0 0.5em 0 0.5em; text-align: left; border: none;\">\n",
       "                table\n",
       "            </td>\n",
       "        </tr>\n",
       "    \n",
       "        <tr style=\"background-color: hsl(120, 100.00%, 99.84%); border: none;\">\n",
       "            <td style=\"padding: 0 1em 0 0.5em; text-align: right; border: none;\">\n",
       "                0.0026\n",
       "                \n",
       "                    &plusmn; 0.0002\n",
       "                \n",
       "            </td>\n",
       "            <td style=\"padding: 0 0.5em 0 0.5em; text-align: left; border: none;\">\n",
       "                x\n",
       "            </td>\n",
       "        </tr>\n",
       "    \n",
       "        <tr style=\"background-color: hsl(120, 100.00%, 99.98%); border: none;\">\n",
       "            <td style=\"padding: 0 1em 0 0.5em; text-align: right; border: none;\">\n",
       "                0.0002\n",
       "                \n",
       "                    &plusmn; 0.0001\n",
       "                \n",
       "            </td>\n",
       "            <td style=\"padding: 0 0.5em 0 0.5em; text-align: left; border: none;\">\n",
       "                color\n",
       "            </td>\n",
       "        </tr>\n",
       "    \n",
       "        <tr style=\"background-color: hsl(120, 100.00%, 99.99%); border: none;\">\n",
       "            <td style=\"padding: 0 1em 0 0.5em; text-align: right; border: none;\">\n",
       "                0.0001\n",
       "                \n",
       "                    &plusmn; 0.0000\n",
       "                \n",
       "            </td>\n",
       "            <td style=\"padding: 0 0.5em 0 0.5em; text-align: left; border: none;\">\n",
       "                cut\n",
       "            </td>\n",
       "        </tr>\n",
       "    \n",
       "    \n",
       "    </tbody>\n",
       "</table>\n",
       "    \n",
       "\n",
       "    \n",
       "\n",
       "\n",
       "    \n",
       "\n",
       "    \n",
       "\n",
       "    \n",
       "\n",
       "    \n",
       "\n",
       "    \n",
       "\n",
       "    \n",
       "\n",
       "\n",
       "\n"
      ],
      "text/plain": [
       "<IPython.core.display.HTML object>"
      ]
     },
     "execution_count": 121,
     "metadata": {},
     "output_type": "execute_result"
    }
   ],
   "source": [
    "x_tr = b2_test_clf.best_estimator_.named_steps[\"preprocessor\"].fit_transform(X_train)#preprocess inputs\n",
    "perm = PermutationImportance(b2_test_clf.best_estimator_.named_steps[\"model\"]).fit(x_tr, y_train)#fit model\n",
    "eli5.show_weights(perm, feature_names = X_train.columns.tolist())#show results"
   ]
  },
  {
   "cell_type": "markdown",
   "id": "79ee3b2c-9c2b-424f-98b0-75789ef07335",
   "metadata": {},
   "source": [
    "**insights:**\n",
    "* carat is very important for this models prediction. \n",
    "* color and cut has no effect on the models predictions.\n",
    "* only depth, z and clarity has a big effect on the model other featres less so.\n",
    "\n",
    "### Baseline 2 Summary\n",
    "The model was  cross validated 5 times for NRMSE, then validated and tested 1 time for all the metrics:\n",
    "* **Mae**: validation set and test set around 800 and test performed slightly better. \n",
    "* **Mse**: validation set and test set around 1,400,000 and validation performed slightly better.\n",
    "* **R2**: validation set and test set around 0.91 and validation performed slightly better.\n",
    "* **NRMSE**: validation set and test set around 1,200 and validation performed slightly better.\n",
    "\n",
    "The baseline is saved for comparison as a pandas dataframe: "
   ]
  },
  {
   "cell_type": "code",
   "execution_count": 122,
   "id": "6a62083c-2f33-4c5f-9208-caf5359fdf66",
   "metadata": {},
   "outputs": [
    {
     "data": {
      "text/html": [
       "<div>\n",
       "<style scoped>\n",
       "    .dataframe tbody tr th:only-of-type {\n",
       "        vertical-align: middle;\n",
       "    }\n",
       "\n",
       "    .dataframe tbody tr th {\n",
       "        vertical-align: top;\n",
       "    }\n",
       "\n",
       "    .dataframe thead th {\n",
       "        text-align: right;\n",
       "    }\n",
       "</style>\n",
       "<table border=\"1\" class=\"dataframe\">\n",
       "  <thead>\n",
       "    <tr style=\"text-align: right;\">\n",
       "      <th></th>\n",
       "      <th>val_mae</th>\n",
       "      <th>val_mse</th>\n",
       "      <th>val_r2</th>\n",
       "      <th>val_nrmse</th>\n",
       "      <th>test_mae</th>\n",
       "      <th>test_mse</th>\n",
       "      <th>test_r2</th>\n",
       "      <th>test_nrmse</th>\n",
       "    </tr>\n",
       "  </thead>\n",
       "  <tbody>\n",
       "    <tr>\n",
       "      <th>Baseline2</th>\n",
       "      <td>829.093</td>\n",
       "      <td>1413280.761</td>\n",
       "      <td>0.913</td>\n",
       "      <td>-1188.815</td>\n",
       "      <td>827.987</td>\n",
       "      <td>1451969.503</td>\n",
       "      <td>0.910</td>\n",
       "      <td>-1204.977</td>\n",
       "    </tr>\n",
       "  </tbody>\n",
       "</table>\n",
       "</div>"
      ],
      "text/plain": [
       "           val_mae     val_mse  val_r2  val_nrmse  test_mae    test_mse  \\\n",
       "Baseline2  829.093 1413280.761   0.913  -1188.815   827.987 1451969.503   \n",
       "\n",
       "           test_r2  test_nrmse  \n",
       "Baseline2    0.910   -1204.977  "
      ]
     },
     "execution_count": 122,
     "metadata": {},
     "output_type": "execute_result"
    }
   ],
   "source": [
    "baseline2 = pd.DataFrame({\"val_mae\": b2_val_mae,\"val_mse\": b2_val_mse,\"val_r2\": b2_val_r2,\"val_nrmse\": -np.sqrt(b2_val_mse),\n",
    "                          \"test_mae\": b2_test_mae,\"test_mse\": b2_test_mse,\"test_r2\": b2_test_r2, \"test_nrmse\": -np.sqrt(b2_test_mse)}, index=[\"Baseline2\"])\n",
    "baseline2"
   ]
  },
  {
   "cell_type": "markdown",
   "id": "0df4fce9-8168-4dd2-8e5e-62921b5b4dcc",
   "metadata": {
    "tags": []
   },
   "source": [
    "The baselines are saved together for comparison as a pandas dataframe:"
   ]
  },
  {
   "cell_type": "code",
   "execution_count": 123,
   "id": "93bc44b9-57bd-4d3d-89b9-0ac8cdd2ae84",
   "metadata": {},
   "outputs": [
    {
     "data": {
      "text/html": [
       "<div>\n",
       "<style scoped>\n",
       "    .dataframe tbody tr th:only-of-type {\n",
       "        vertical-align: middle;\n",
       "    }\n",
       "\n",
       "    .dataframe tbody tr th {\n",
       "        vertical-align: top;\n",
       "    }\n",
       "\n",
       "    .dataframe thead th {\n",
       "        text-align: right;\n",
       "    }\n",
       "</style>\n",
       "<table border=\"1\" class=\"dataframe\">\n",
       "  <thead>\n",
       "    <tr style=\"text-align: right;\">\n",
       "      <th></th>\n",
       "      <th>val_mae</th>\n",
       "      <th>val_mse</th>\n",
       "      <th>val_r2</th>\n",
       "      <th>val_nrmse</th>\n",
       "      <th>test_mae</th>\n",
       "      <th>test_mse</th>\n",
       "      <th>test_r2</th>\n",
       "      <th>test_nrmse</th>\n",
       "    </tr>\n",
       "  </thead>\n",
       "  <tbody>\n",
       "    <tr>\n",
       "      <th>Baseline1</th>\n",
       "      <td>1227.274</td>\n",
       "      <td>2652792.313</td>\n",
       "      <td>0.837</td>\n",
       "      <td>-1609.487</td>\n",
       "      <td>1249.890</td>\n",
       "      <td>2697964.879</td>\n",
       "      <td>0.833</td>\n",
       "      <td>-1642.548</td>\n",
       "    </tr>\n",
       "    <tr>\n",
       "      <th>Baseline2</th>\n",
       "      <td>829.093</td>\n",
       "      <td>1413280.761</td>\n",
       "      <td>0.913</td>\n",
       "      <td>-1188.815</td>\n",
       "      <td>827.987</td>\n",
       "      <td>1451969.503</td>\n",
       "      <td>0.910</td>\n",
       "      <td>-1204.977</td>\n",
       "    </tr>\n",
       "  </tbody>\n",
       "</table>\n",
       "</div>"
      ],
      "text/plain": [
       "           val_mae     val_mse  val_r2  val_nrmse  test_mae    test_mse  \\\n",
       "Baseline1 1227.274 2652792.313   0.837  -1609.487  1249.890 2697964.879   \n",
       "Baseline2  829.093 1413280.761   0.913  -1188.815   827.987 1451969.503   \n",
       "\n",
       "           test_r2  test_nrmse  \n",
       "Baseline1    0.833   -1642.548  \n",
       "Baseline2    0.910   -1204.977  "
      ]
     },
     "execution_count": 123,
     "metadata": {},
     "output_type": "execute_result"
    }
   ],
   "source": [
    "Baselines = pd.concat([baseline1,baseline2])\n",
    "Baselines"
   ]
  },
  {
   "cell_type": "markdown",
   "id": "4606e16f-4a12-4bf7-9bbd-7e4168a52021",
   "metadata": {},
   "source": [
    "## Baseline 3: Preprocess Parameter tuning, and model tuning using pipline helper\n",
    "\n",
    "### Decisions:\n",
    "* **Preprocessing:**\n",
    "    1. **Outliers:**  **continuous** - choose what is considered an outlier, fill with median/mean and scaling standart scaling.               \n",
    "    2. **Feature Engineering**: only categoric labels, OrdinalEncoder.\n",
    "* **Model training** - using cross validation in validation data on 5 models.\n",
    "* **Model testing** - validate with grid search and validation set then train on whole train + validation set and use test data for results.\n",
    "* **Model evaluating** - record for validation and test the following metrics:\n",
    "    1. MSE - [Mean squared error](https://en.wikipedia.org/wiki/Mean_squared_error)\n",
    "    2. R2 - [R Square](https://en.wikipedia.org/wiki/Coefficient_of_determination)\n",
    "    3. MAE - [Mean absolut error](https://en.wikipedia.org/wiki/Mean_absolute_error)\n",
    "    4. NRMSE - [Negative root mean squared error](https://en.wikipedia.org/wiki/Root-mean-square_deviation)\n",
    "    \n",
    "\n",
    "**Preprocessing**"
   ]
  },
  {
   "cell_type": "code",
   "execution_count": 124,
   "id": "8b28190c-1c17-441c-81e1-627933d03484",
   "metadata": {},
   "outputs": [
    {
     "data": {
      "text/plain": [
       "Pipeline(steps=[('preprocessor',\n",
       "                 ColumnTransformer(transformers=[('num',\n",
       "                                                  Pipeline(steps=[('outlier',\n",
       "                                                                   FunctionTransformer(func=<function Outlier_Detector at 0x000001B614A9A550>,\n",
       "                                                                                       kw_args={'factor': nan})),\n",
       "                                                                  ('imputer',\n",
       "                                                                   SimpleImputer()),\n",
       "                                                                  ('scaler',\n",
       "                                                                   StandardScaler())]),\n",
       "                                                  ['carat', 'depth', 'table',\n",
       "                                                   'x', 'y', 'z']),\n",
       "                                                 ('cuts',\n",
       "                                                  OrdinalEncoder(categories=[['Fair',\n",
       "                                                                              'Good',\n",
       "                                                                              'Very '\n",
       "                                                                              'G...\n",
       "                                                                              'Ideal']]),\n",
       "                                                  ['cut']),\n",
       "                                                 ('colors',\n",
       "                                                  OrdinalEncoder(categories=[['J',\n",
       "                                                                              'I',\n",
       "                                                                              'H',\n",
       "                                                                              'G',\n",
       "                                                                              'F',\n",
       "                                                                              'E',\n",
       "                                                                              'D']]),\n",
       "                                                  ['color']),\n",
       "                                                 ('clarities',\n",
       "                                                  OrdinalEncoder(categories=[['I1',\n",
       "                                                                              'SI2',\n",
       "                                                                              'SI1',\n",
       "                                                                              'VS2',\n",
       "                                                                              'VS1',\n",
       "                                                                              'VVS2',\n",
       "                                                                              'VVS1',\n",
       "                                                                              'IF']]),\n",
       "                                                  ['clarity'])])),\n",
       "                ('model',\n",
       "                 PipelineHelper(available_models={'br': BayesianRidge(),\n",
       "                                                  'dt': DecisionTreeRegressor(random_state=42),\n",
       "                                                  'knn': KNeighborsRegressor(),\n",
       "                                                  'svr': SVR()}))])"
      ]
     },
     "execution_count": 124,
     "metadata": {},
     "output_type": "execute_result"
    }
   ],
   "source": [
    "# Bundle preprocessing and modeling code in a pipeline\n",
    "Baseline3 = Pipeline(steps=[('preprocessor', preprocessor),\n",
    "                            ('model', PipelineHelper([('svr', SVR()),\n",
    "                                   ('dt', DecisionTreeRegressor(random_state = 42)),\n",
    "                                   ('br', BayesianRidge()),\n",
    "                                   ('knn', KNeighborsRegressor()),\n",
    "                                                       ]))\n",
    "                             ])\n",
    "Baseline3"
   ]
  },
  {
   "cell_type": "code",
   "execution_count": 125,
   "id": "0c252237-3ee9-4c63-92f7-2d9c02ed8c4b",
   "metadata": {},
   "outputs": [
    {
     "data": {
      "text/plain": [
       "dict_keys(['memory', 'steps', 'verbose', 'preprocessor', 'model', 'preprocessor__n_jobs', 'preprocessor__remainder', 'preprocessor__sparse_threshold', 'preprocessor__transformer_weights', 'preprocessor__transformers', 'preprocessor__verbose', 'preprocessor__num', 'preprocessor__cuts', 'preprocessor__colors', 'preprocessor__clarities', 'preprocessor__num__memory', 'preprocessor__num__steps', 'preprocessor__num__verbose', 'preprocessor__num__outlier', 'preprocessor__num__imputer', 'preprocessor__num__scaler', 'preprocessor__num__outlier__accept_sparse', 'preprocessor__num__outlier__check_inverse', 'preprocessor__num__outlier__func', 'preprocessor__num__outlier__inv_kw_args', 'preprocessor__num__outlier__inverse_func', 'preprocessor__num__outlier__kw_args', 'preprocessor__num__outlier__validate', 'preprocessor__num__imputer__add_indicator', 'preprocessor__num__imputer__copy', 'preprocessor__num__imputer__fill_value', 'preprocessor__num__imputer__missing_values', 'preprocessor__num__imputer__strategy', 'preprocessor__num__imputer__verbose', 'preprocessor__num__scaler__copy', 'preprocessor__num__scaler__with_mean', 'preprocessor__num__scaler__with_std', 'preprocessor__cuts__categories', 'preprocessor__cuts__dtype', 'preprocessor__cuts__handle_unknown', 'preprocessor__cuts__unknown_value', 'preprocessor__colors__categories', 'preprocessor__colors__dtype', 'preprocessor__colors__handle_unknown', 'preprocessor__colors__unknown_value', 'preprocessor__clarities__categories', 'preprocessor__clarities__dtype', 'preprocessor__clarities__handle_unknown', 'preprocessor__clarities__unknown_value', 'model__available_models', 'model__selected_model', 'model__optional', 'model__available_models__svr', 'model__available_models__svr__C', 'model__available_models__svr__cache_size', 'model__available_models__svr__coef0', 'model__available_models__svr__degree', 'model__available_models__svr__epsilon', 'model__available_models__svr__gamma', 'model__available_models__svr__kernel', 'model__available_models__svr__max_iter', 'model__available_models__svr__shrinking', 'model__available_models__svr__tol', 'model__available_models__svr__verbose', 'model__available_models__dt', 'model__available_models__dt__ccp_alpha', 'model__available_models__dt__criterion', 'model__available_models__dt__max_depth', 'model__available_models__dt__max_features', 'model__available_models__dt__max_leaf_nodes', 'model__available_models__dt__min_impurity_decrease', 'model__available_models__dt__min_impurity_split', 'model__available_models__dt__min_samples_leaf', 'model__available_models__dt__min_samples_split', 'model__available_models__dt__min_weight_fraction_leaf', 'model__available_models__dt__random_state', 'model__available_models__dt__splitter', 'model__available_models__br', 'model__available_models__br__alpha_1', 'model__available_models__br__alpha_2', 'model__available_models__br__alpha_init', 'model__available_models__br__compute_score', 'model__available_models__br__copy_X', 'model__available_models__br__fit_intercept', 'model__available_models__br__lambda_1', 'model__available_models__br__lambda_2', 'model__available_models__br__lambda_init', 'model__available_models__br__n_iter', 'model__available_models__br__normalize', 'model__available_models__br__tol', 'model__available_models__br__verbose', 'model__available_models__knn', 'model__available_models__knn__algorithm', 'model__available_models__knn__leaf_size', 'model__available_models__knn__metric', 'model__available_models__knn__metric_params', 'model__available_models__knn__n_jobs', 'model__available_models__knn__n_neighbors', 'model__available_models__knn__p', 'model__available_models__knn__weights'])"
      ]
     },
     "execution_count": 125,
     "metadata": {},
     "output_type": "execute_result"
    }
   ],
   "source": [
    "Baseline3.get_params().keys()"
   ]
  },
  {
   "cell_type": "code",
   "execution_count": 126,
   "id": "fb1ba409-763e-4afa-a8c2-1dd6830e118c",
   "metadata": {},
   "outputs": [],
   "source": [
    "hyperparameters = { \n",
    "                   'preprocessor__num__outlier__kw_args':[{'factor':1.5},{'factor':3}],\n",
    "                  'preprocessor__num__imputer__strategy':['mean','median'],\n",
    "                    'model__selected_model': Baseline3.named_steps['model'].generate({   \n",
    "                    'svr__C': [0.1,1],\n",
    "                    'dt__max_depth': [None,5],\n",
    "                    'knn__n_neighbors': [4,6],\n",
    "                    'br__tol': [0.0001,0.001]\n",
    "    })}"
   ]
  },
  {
   "cell_type": "markdown",
   "id": "0f1ebdca-7cbd-4dca-a923-b4385d8e6c79",
   "metadata": {},
   "source": [
    "**Parameter tuning and grid search**\n",
    "\n",
    "the factor of the outlier is being grid searched as well as impute strategy and a decition between 5 different regressors:"
   ]
  },
  {
   "cell_type": "code",
   "execution_count": 127,
   "id": "b957f779-e8b5-43a5-aeca-5304fb0f95fd",
   "metadata": {},
   "outputs": [],
   "source": [
    "b3_test_clf = GridSearchCV(Baseline3, hyperparameters,cv = 5, scoring = \"neg_root_mean_squared_error\", n_jobs = -1, verbose = 2) "
   ]
  },
  {
   "cell_type": "code",
   "execution_count": 128,
   "id": "695b3c9a-f633-40e5-8684-a601872301eb",
   "metadata": {},
   "outputs": [
    {
     "name": "stdout",
     "output_type": "stream",
     "text": [
      "Fitting 5 folds for each of 32 candidates, totalling 160 fits\n",
      "Wall time: 20min 40s\n"
     ]
    },
    {
     "data": {
      "text/plain": [
       "GridSearchCV(cv=5,\n",
       "             estimator=Pipeline(steps=[('preprocessor',\n",
       "                                        ColumnTransformer(transformers=[('num',\n",
       "                                                                         Pipeline(steps=[('outlier',\n",
       "                                                                                          FunctionTransformer(func=<function Outlier_Detector at 0x000001B614A9A550>,\n",
       "                                                                                                              kw_args={'factor': nan})),\n",
       "                                                                                         ('imputer',\n",
       "                                                                                          SimpleImputer()),\n",
       "                                                                                         ('scaler',\n",
       "                                                                                          StandardScaler())]),\n",
       "                                                                         ['carat',\n",
       "                                                                          'depth',\n",
       "                                                                          'table',\n",
       "                                                                          'x',\n",
       "                                                                          'y',\n",
       "                                                                          'z']),\n",
       "                                                                        ('cuts',\n",
       "                                                                         OrdinalEncoder(categor...\n",
       "             param_grid={'model__selected_model': [('svr', {'C': 0.1}),\n",
       "                                                   ('svr', {'C': 1}),\n",
       "                                                   ('dt', {'max_depth': None}),\n",
       "                                                   ('dt', {'max_depth': 5}),\n",
       "                                                   ('knn', {'n_neighbors': 4}),\n",
       "                                                   ('knn', {'n_neighbors': 6}),\n",
       "                                                   ('br', {'tol': 0.0001}),\n",
       "                                                   ('br', {'tol': 0.001})],\n",
       "                         'preprocessor__num__imputer__strategy': ['mean',\n",
       "                                                                  'median'],\n",
       "                         'preprocessor__num__outlier__kw_args': [{'factor': 1.5},\n",
       "                                                                 {'factor': 3}]},\n",
       "             scoring='neg_root_mean_squared_error', verbose=2)"
      ]
     },
     "execution_count": 128,
     "metadata": {},
     "output_type": "execute_result"
    }
   ],
   "source": [
    "%%time\n",
    "# Fit and tune model\n",
    "b3_test_clf.fit(X_train, y_train)"
   ]
  },
  {
   "cell_type": "code",
   "execution_count": 129,
   "id": "1806c5d4-37cd-4b9b-b1a0-253a13a40dbd",
   "metadata": {},
   "outputs": [
    {
     "data": {
      "text/plain": [
       "{'model__selected_model': ('knn', {'n_neighbors': 6}),\n",
       " 'preprocessor__num__imputer__strategy': 'median',\n",
       " 'preprocessor__num__outlier__kw_args': {'factor': 3}}"
      ]
     },
     "execution_count": 129,
     "metadata": {},
     "output_type": "execute_result"
    }
   ],
   "source": [
    "b3_test_clf.best_params_"
   ]
  },
  {
   "cell_type": "markdown",
   "id": "c378732f-017f-4e57-8340-d79cce01aaeb",
   "metadata": {},
   "source": [
    "**Validation Prediction**"
   ]
  },
  {
   "cell_type": "code",
   "execution_count": 130,
   "id": "f96e1cf0-9f0f-495e-a517-d7364cbdf326",
   "metadata": {},
   "outputs": [
    {
     "name": "stdout",
     "output_type": "stream",
     "text": [
      "MAE: 361.27771598071934\n",
      "MSE:  436370.49618918146\n",
      "R2:  0.9731410971978187\n",
      "NRMSE:  -660.5834513437204\n"
     ]
    }
   ],
   "source": [
    "b3_val_clf = b3_test_clf.best_estimator_\n",
    "b3_val_clf.fit(X_train2, y_train2)\n",
    "b3_val_preds = b3_val_clf.predict(X_val)\n",
    "\n",
    "# Evaluate the model\n",
    "b3_val_mae = mean_absolute_error(y_val, b3_val_preds)\n",
    "b3_val_mse = mean_squared_error(y_val, b3_val_preds)\n",
    "b3_val_r2 = r2_score(y_val, b3_val_preds)\n",
    "\n",
    "print('MAE:', b3_val_mae)\n",
    "print(\"MSE: \",b3_val_mse)\n",
    "print(\"R2: \",b3_val_r2)\n",
    "print(\"NRMSE: \",-np.sqrt(b3_val_mse))"
   ]
  },
  {
   "cell_type": "markdown",
   "id": "a07bebfd-37db-461a-9424-2baa192a2009",
   "metadata": {},
   "source": [
    "**Test Prediction**"
   ]
  },
  {
   "cell_type": "code",
   "execution_count": 131,
   "id": "1e262dec-6c4b-4b2e-b01c-4eeacaa4e8f5",
   "metadata": {},
   "outputs": [
    {
     "name": "stdout",
     "output_type": "stream",
     "text": [
      "MAE: 348.4425287356322\n",
      "MSE:  390584.52777777775\n",
      "R2:  0.9758478797167416\n",
      "NRMSE:  -624.9676213835223\n"
     ]
    }
   ],
   "source": [
    "b3_Te_clf = b3_test_clf.best_estimator_\n",
    "b3_Te_clf.fit(X_train, y_train)\n",
    "b3_test_preds = b3_Te_clf.predict(X_test)\n",
    "\n",
    "# Evaluate the model\n",
    "b3_test_mae = mean_absolute_error(y_test, b3_test_preds)\n",
    "b3_test_mse = mean_squared_error(y_test, b3_test_preds)\n",
    "b3_test_r2 = r2_score(y_test, b3_test_preds)\n",
    "\n",
    "print('MAE:', b3_test_mae)\n",
    "print(\"MSE: \",b3_test_mse)\n",
    "print(\"R2: \",b3_test_r2)\n",
    "print(\"NRMSE: \",-np.sqrt(b3_test_mse))"
   ]
  },
  {
   "cell_type": "markdown",
   "id": "6c2050ec-fd84-4f37-b659-677a74a4a191",
   "metadata": {},
   "source": [
    "### Baseline 3 Summary\n",
    "The model was  cross validated 5 times for NRMSE, then validated and tested 1 time for all the metrics:\n",
    "* **Mae**: validation set and test set around 350 and test performed slightly better. \n",
    "* **Mse**: validation set and test set around 400,000 and test performed slightly better.\n",
    "* **R2**: validation set and test set around 0.97 and test performed slightly better.\n",
    "* **NRMSE**: validation set and test set around 600 and validation performed slightly better.\n",
    "\n",
    "This is a major improvement!!\n",
    "\n",
    "The baseline is saved for comparison as a pandas dataframe: "
   ]
  },
  {
   "cell_type": "code",
   "execution_count": 132,
   "id": "e2add8f8-a9bb-43a7-9a7d-44833f13505d",
   "metadata": {},
   "outputs": [
    {
     "data": {
      "text/html": [
       "<div>\n",
       "<style scoped>\n",
       "    .dataframe tbody tr th:only-of-type {\n",
       "        vertical-align: middle;\n",
       "    }\n",
       "\n",
       "    .dataframe tbody tr th {\n",
       "        vertical-align: top;\n",
       "    }\n",
       "\n",
       "    .dataframe thead th {\n",
       "        text-align: right;\n",
       "    }\n",
       "</style>\n",
       "<table border=\"1\" class=\"dataframe\">\n",
       "  <thead>\n",
       "    <tr style=\"text-align: right;\">\n",
       "      <th></th>\n",
       "      <th>val_mae</th>\n",
       "      <th>val_mse</th>\n",
       "      <th>val_r2</th>\n",
       "      <th>val_nrmse</th>\n",
       "      <th>test_mae</th>\n",
       "      <th>test_mse</th>\n",
       "      <th>test_r2</th>\n",
       "      <th>test_nrmse</th>\n",
       "    </tr>\n",
       "  </thead>\n",
       "  <tbody>\n",
       "    <tr>\n",
       "      <th>Baseline3</th>\n",
       "      <td>361.278</td>\n",
       "      <td>436370.496</td>\n",
       "      <td>0.973</td>\n",
       "      <td>-660.583</td>\n",
       "      <td>348.443</td>\n",
       "      <td>390584.528</td>\n",
       "      <td>0.976</td>\n",
       "      <td>-624.968</td>\n",
       "    </tr>\n",
       "  </tbody>\n",
       "</table>\n",
       "</div>"
      ],
      "text/plain": [
       "           val_mae    val_mse  val_r2  val_nrmse  test_mae   test_mse  \\\n",
       "Baseline3  361.278 436370.496   0.973   -660.583   348.443 390584.528   \n",
       "\n",
       "           test_r2  test_nrmse  \n",
       "Baseline3    0.976    -624.968  "
      ]
     },
     "execution_count": 132,
     "metadata": {},
     "output_type": "execute_result"
    }
   ],
   "source": [
    "baseline3 = pd.DataFrame({\"val_mae\": b3_val_mae,\"val_mse\": b3_val_mse,\"val_r2\": b3_val_r2,\"val_nrmse\": -np.sqrt(b3_val_mse),\n",
    "                          \"test_mae\": b3_test_mae,\"test_mse\": b3_test_mse,\"test_r2\": b3_test_r2, \"test_nrmse\": -np.sqrt(b3_test_mse)}, index=[\"Baseline3\"])\n",
    "baseline3"
   ]
  },
  {
   "cell_type": "code",
   "execution_count": 133,
   "id": "5a635696-2db7-4f07-a979-33d3118487ed",
   "metadata": {},
   "outputs": [
    {
     "data": {
      "text/html": [
       "<div>\n",
       "<style scoped>\n",
       "    .dataframe tbody tr th:only-of-type {\n",
       "        vertical-align: middle;\n",
       "    }\n",
       "\n",
       "    .dataframe tbody tr th {\n",
       "        vertical-align: top;\n",
       "    }\n",
       "\n",
       "    .dataframe thead th {\n",
       "        text-align: right;\n",
       "    }\n",
       "</style>\n",
       "<table border=\"1\" class=\"dataframe\">\n",
       "  <thead>\n",
       "    <tr style=\"text-align: right;\">\n",
       "      <th></th>\n",
       "      <th>val_mae</th>\n",
       "      <th>val_mse</th>\n",
       "      <th>val_r2</th>\n",
       "      <th>val_nrmse</th>\n",
       "      <th>test_mae</th>\n",
       "      <th>test_mse</th>\n",
       "      <th>test_r2</th>\n",
       "      <th>test_nrmse</th>\n",
       "    </tr>\n",
       "  </thead>\n",
       "  <tbody>\n",
       "    <tr>\n",
       "      <th>Baseline1</th>\n",
       "      <td>1227.274</td>\n",
       "      <td>2652792.313</td>\n",
       "      <td>0.837</td>\n",
       "      <td>-1609.487</td>\n",
       "      <td>1249.890</td>\n",
       "      <td>2697964.879</td>\n",
       "      <td>0.833</td>\n",
       "      <td>-1642.548</td>\n",
       "    </tr>\n",
       "    <tr>\n",
       "      <th>Baseline2</th>\n",
       "      <td>829.093</td>\n",
       "      <td>1413280.761</td>\n",
       "      <td>0.913</td>\n",
       "      <td>-1188.815</td>\n",
       "      <td>827.987</td>\n",
       "      <td>1451969.503</td>\n",
       "      <td>0.910</td>\n",
       "      <td>-1204.977</td>\n",
       "    </tr>\n",
       "    <tr>\n",
       "      <th>Baseline3</th>\n",
       "      <td>361.278</td>\n",
       "      <td>436370.496</td>\n",
       "      <td>0.973</td>\n",
       "      <td>-660.583</td>\n",
       "      <td>348.443</td>\n",
       "      <td>390584.528</td>\n",
       "      <td>0.976</td>\n",
       "      <td>-624.968</td>\n",
       "    </tr>\n",
       "  </tbody>\n",
       "</table>\n",
       "</div>"
      ],
      "text/plain": [
       "           val_mae     val_mse  val_r2  val_nrmse  test_mae    test_mse  \\\n",
       "Baseline1 1227.274 2652792.313   0.837  -1609.487  1249.890 2697964.879   \n",
       "Baseline2  829.093 1413280.761   0.913  -1188.815   827.987 1451969.503   \n",
       "Baseline3  361.278  436370.496   0.973   -660.583   348.443  390584.528   \n",
       "\n",
       "           test_r2  test_nrmse  \n",
       "Baseline1    0.833   -1642.548  \n",
       "Baseline2    0.910   -1204.977  \n",
       "Baseline3    0.976    -624.968  "
      ]
     },
     "execution_count": 133,
     "metadata": {},
     "output_type": "execute_result"
    }
   ],
   "source": [
    "Baselines = pd.concat([baseline1,baseline2,baseline3])\n",
    "Baselines"
   ]
  },
  {
   "cell_type": "markdown",
   "id": "7bd5e283-d0bf-4715-9b64-b2a1df492d65",
   "metadata": {},
   "source": [
    "## Baseline 4: Boosters\n",
    "\n",
    "### Decisions:\n",
    "* **Preprocessing:**\n",
    "    1. **Outliers:**  **continuous** - choose what is considered an outlier, fill with median/mean and scaling standart scaling.               \n",
    "    2. **Feature Engineering**: only categoric labels, OrdinalEncoder.\n",
    "* **Model training** - using cross validation in validation data on Xgboost and adaboost.\n",
    "* **Model testing** - validate with grid search and validation set then train on whole train + validation set and use test data for results.\n",
    "* **Model evaluating** - record for validation and test the following metrics:\n",
    "    1. MSE - [Mean squared error](https://en.wikipedia.org/wiki/Mean_squared_error)\n",
    "    2. R2 - [R Square](https://en.wikipedia.org/wiki/Coefficient_of_determination)\n",
    "    3. MAE - [Mean absolut error](https://en.wikipedia.org/wiki/Mean_absolute_error)\n",
    "    4. NRMSE - [Negative root mean squared error](https://en.wikipedia.org/wiki/Root-mean-square_deviation)\n",
    "    \n",
    "\n",
    "**Preprocessing**"
   ]
  },
  {
   "cell_type": "code",
   "execution_count": 134,
   "id": "698993c5-a4d0-4797-996c-f393c8d27d93",
   "metadata": {},
   "outputs": [
    {
     "data": {
      "text/plain": [
       "Pipeline(steps=[('preprocessor',\n",
       "                 ColumnTransformer(transformers=[('num',\n",
       "                                                  Pipeline(steps=[('outlier',\n",
       "                                                                   FunctionTransformer(func=<function Outlier_Detector at 0x000001B614A9A550>,\n",
       "                                                                                       kw_args={'factor': nan})),\n",
       "                                                                  ('imputer',\n",
       "                                                                   SimpleImputer()),\n",
       "                                                                  ('scaler',\n",
       "                                                                   StandardScaler())]),\n",
       "                                                  ['carat', 'depth', 'table',\n",
       "                                                   'x', 'y', 'z']),\n",
       "                                                 ('cuts',\n",
       "                                                  OrdinalEncoder(categories=[['Fair',\n",
       "                                                                              'Good',\n",
       "                                                                              'Very '\n",
       "                                                                              'G...\n",
       "                                                                      importance_type='gain',\n",
       "                                                                      interaction_constraints=None,\n",
       "                                                                      learning_rate=None,\n",
       "                                                                      max_delta_step=None,\n",
       "                                                                      max_depth=None,\n",
       "                                                                      min_child_weight=None,\n",
       "                                                                      missing=nan,\n",
       "                                                                      monotone_constraints=None,\n",
       "                                                                      n_estimators=100,\n",
       "                                                                      n_jobs=None,\n",
       "                                                                      num_parallel_tree=None,\n",
       "                                                                      random_state=None,\n",
       "                                                                      reg_alpha=None,\n",
       "                                                                      reg_lambda=None,\n",
       "                                                                      scale_pos_weight=None,\n",
       "                                                                      subsample=None,\n",
       "                                                                      tree_method=None,\n",
       "                                                                      validate_parameters=None,\n",
       "                                                                      verbosity=None)}))])"
      ]
     },
     "execution_count": 134,
     "metadata": {},
     "output_type": "execute_result"
    }
   ],
   "source": [
    "contiuous_transformer = Pipeline(steps=[\n",
    "('outlier', Outlier2),\n",
    "('imputer', SimpleImputer()),\n",
    "('scaler', StandardScaler())    \n",
    "])\n",
    "\n",
    "\n",
    "# Create preprocessor\n",
    "preprocessor = ColumnTransformer(\n",
    "    transformers=[\n",
    "        ('num', contiuous_transformer, Continuous),\n",
    "        ('cuts', cut_enc, [\"cut\"]),\n",
    "        ('colors', color_enc, [\"color\"]),\n",
    "        ('clarities', clarity_enc, [\"clarity\"])\n",
    "    ])\n",
    "\n",
    "# Bundle preprocessing and modeling code in a pipeline\n",
    "Baseline4 = Pipeline(steps=[('preprocessor', preprocessor),\n",
    "                            ('model', PipelineHelper([\n",
    "                                   ('adb', AdaBoostRegressor(random_state = 42)),\n",
    "                                   ('xgb', XGBRegressor())\n",
    "                                                       ]))\n",
    "                             ])\n",
    "Baseline4"
   ]
  },
  {
   "cell_type": "code",
   "execution_count": 135,
   "id": "c4e6beff-51ae-4f75-b930-1d9d7a055187",
   "metadata": {},
   "outputs": [
    {
     "data": {
      "text/plain": [
       "dict_keys(['memory', 'steps', 'verbose', 'preprocessor', 'model', 'preprocessor__n_jobs', 'preprocessor__remainder', 'preprocessor__sparse_threshold', 'preprocessor__transformer_weights', 'preprocessor__transformers', 'preprocessor__verbose', 'preprocessor__num', 'preprocessor__cuts', 'preprocessor__colors', 'preprocessor__clarities', 'preprocessor__num__memory', 'preprocessor__num__steps', 'preprocessor__num__verbose', 'preprocessor__num__outlier', 'preprocessor__num__imputer', 'preprocessor__num__scaler', 'preprocessor__num__outlier__accept_sparse', 'preprocessor__num__outlier__check_inverse', 'preprocessor__num__outlier__func', 'preprocessor__num__outlier__inv_kw_args', 'preprocessor__num__outlier__inverse_func', 'preprocessor__num__outlier__kw_args', 'preprocessor__num__outlier__validate', 'preprocessor__num__imputer__add_indicator', 'preprocessor__num__imputer__copy', 'preprocessor__num__imputer__fill_value', 'preprocessor__num__imputer__missing_values', 'preprocessor__num__imputer__strategy', 'preprocessor__num__imputer__verbose', 'preprocessor__num__scaler__copy', 'preprocessor__num__scaler__with_mean', 'preprocessor__num__scaler__with_std', 'preprocessor__cuts__categories', 'preprocessor__cuts__dtype', 'preprocessor__cuts__handle_unknown', 'preprocessor__cuts__unknown_value', 'preprocessor__colors__categories', 'preprocessor__colors__dtype', 'preprocessor__colors__handle_unknown', 'preprocessor__colors__unknown_value', 'preprocessor__clarities__categories', 'preprocessor__clarities__dtype', 'preprocessor__clarities__handle_unknown', 'preprocessor__clarities__unknown_value', 'model__available_models', 'model__selected_model', 'model__optional', 'model__available_models__adb', 'model__available_models__adb__base_estimator', 'model__available_models__adb__learning_rate', 'model__available_models__adb__loss', 'model__available_models__adb__n_estimators', 'model__available_models__adb__random_state', 'model__available_models__xgb', 'model__available_models__xgb__objective', 'model__available_models__xgb__base_score', 'model__available_models__xgb__booster', 'model__available_models__xgb__colsample_bylevel', 'model__available_models__xgb__colsample_bynode', 'model__available_models__xgb__colsample_bytree', 'model__available_models__xgb__gamma', 'model__available_models__xgb__gpu_id', 'model__available_models__xgb__importance_type', 'model__available_models__xgb__interaction_constraints', 'model__available_models__xgb__learning_rate', 'model__available_models__xgb__max_delta_step', 'model__available_models__xgb__max_depth', 'model__available_models__xgb__min_child_weight', 'model__available_models__xgb__missing', 'model__available_models__xgb__monotone_constraints', 'model__available_models__xgb__n_estimators', 'model__available_models__xgb__n_jobs', 'model__available_models__xgb__num_parallel_tree', 'model__available_models__xgb__random_state', 'model__available_models__xgb__reg_alpha', 'model__available_models__xgb__reg_lambda', 'model__available_models__xgb__scale_pos_weight', 'model__available_models__xgb__subsample', 'model__available_models__xgb__tree_method', 'model__available_models__xgb__validate_parameters', 'model__available_models__xgb__verbosity'])"
      ]
     },
     "execution_count": 135,
     "metadata": {},
     "output_type": "execute_result"
    }
   ],
   "source": [
    "Baseline4.get_params().keys()"
   ]
  },
  {
   "cell_type": "code",
   "execution_count": 136,
   "id": "dcac6147-727d-4d3d-bf51-f793f8835bdc",
   "metadata": {},
   "outputs": [],
   "source": [
    "hyperparameters = { \n",
    "                   'preprocessor__num__outlier__kw_args':[{'factor':1.5},{'factor':3}],\n",
    "                  'preprocessor__num__imputer__strategy':['mean','median'],\n",
    "                    'model__selected_model': Baseline4.named_steps['model'].generate({   \n",
    "                    'adb__n_estimators': [50,100,200],\n",
    "                    'adb__learning_rate': np.logspace(0, -2, num=2),\n",
    "                    'xgb__max_depth' : [2,5,8],\n",
    "                    'xgb__learning_rate': np.logspace(0, -2, num=2)\n",
    "    })}"
   ]
  },
  {
   "cell_type": "code",
   "execution_count": 137,
   "id": "ae5482aa-d67b-4456-bf53-27a375f25835",
   "metadata": {},
   "outputs": [],
   "source": [
    "b4_test_clf = GridSearchCV(Baseline4, hyperparameters,cv = 5, scoring = \"neg_root_mean_squared_error\", n_jobs = -1, verbose = 2) "
   ]
  },
  {
   "cell_type": "markdown",
   "id": "a17e7944-a396-4bee-bd85-6f7bf6f75aea",
   "metadata": {},
   "source": [
    "**Parameter tuning and grid search**\n",
    "\n",
    "the factor of the outlier is being grid searched as well as impute strategy and a decition between 2 different boosters:"
   ]
  },
  {
   "cell_type": "code",
   "execution_count": 138,
   "id": "9af30690-c64e-4f32-95e2-183871de28d1",
   "metadata": {},
   "outputs": [
    {
     "name": "stdout",
     "output_type": "stream",
     "text": [
      "Fitting 5 folds for each of 48 candidates, totalling 240 fits\n",
      "Wall time: 3min 20s\n"
     ]
    },
    {
     "data": {
      "text/plain": [
       "GridSearchCV(cv=5,\n",
       "             estimator=Pipeline(steps=[('preprocessor',\n",
       "                                        ColumnTransformer(transformers=[('num',\n",
       "                                                                         Pipeline(steps=[('outlier',\n",
       "                                                                                          FunctionTransformer(func=<function Outlier_Detector at 0x000001B614A9A550>,\n",
       "                                                                                                              kw_args={'factor': nan})),\n",
       "                                                                                         ('imputer',\n",
       "                                                                                          SimpleImputer()),\n",
       "                                                                                         ('scaler',\n",
       "                                                                                          StandardScaler())]),\n",
       "                                                                         ['carat',\n",
       "                                                                          'depth',\n",
       "                                                                          'table',\n",
       "                                                                          'x',\n",
       "                                                                          'y',\n",
       "                                                                          'z']),\n",
       "                                                                        ('cuts',\n",
       "                                                                         OrdinalEncoder(categor...\n",
       "                                                   ('xgb',\n",
       "                                                    {'learning_rate': 1.0,\n",
       "                                                     'max_depth': 8}),\n",
       "                                                   ('xgb',\n",
       "                                                    {'learning_rate': 0.01,\n",
       "                                                     'max_depth': 2}),\n",
       "                                                   ('xgb',\n",
       "                                                    {'learning_rate': 0.01,\n",
       "                                                     'max_depth': 5}),\n",
       "                                                   ('xgb',\n",
       "                                                    {'learning_rate': 0.01,\n",
       "                                                     'max_depth': 8})],\n",
       "                         'preprocessor__num__imputer__strategy': ['mean',\n",
       "                                                                  'median'],\n",
       "                         'preprocessor__num__outlier__kw_args': [{'factor': 1.5},\n",
       "                                                                 {'factor': 3}]},\n",
       "             scoring='neg_root_mean_squared_error', verbose=2)"
      ]
     },
     "execution_count": 138,
     "metadata": {},
     "output_type": "execute_result"
    }
   ],
   "source": [
    "%%time\n",
    "# Fit and tune model\n",
    "b4_test_clf.fit(X_train, y_train)"
   ]
  },
  {
   "cell_type": "code",
   "execution_count": 139,
   "id": "e3f6098e-1822-446e-8ad3-b089d1ca97c8",
   "metadata": {},
   "outputs": [
    {
     "data": {
      "text/plain": [
       "{'model__selected_model': ('xgb', {'learning_rate': 1.0, 'max_depth': 5}),\n",
       " 'preprocessor__num__imputer__strategy': 'median',\n",
       " 'preprocessor__num__outlier__kw_args': {'factor': 3}}"
      ]
     },
     "execution_count": 139,
     "metadata": {},
     "output_type": "execute_result"
    }
   ],
   "source": [
    "b4_test_clf.best_params_"
   ]
  },
  {
   "cell_type": "markdown",
   "id": "a4b5eb53-2420-4df3-938f-d3e5f9fea85b",
   "metadata": {},
   "source": [
    "**Validation Prediction**"
   ]
  },
  {
   "cell_type": "code",
   "execution_count": 140,
   "id": "6fed2093-3b34-4fdd-a345-183f25a05192",
   "metadata": {},
   "outputs": [
    {
     "name": "stdout",
     "output_type": "stream",
     "text": [
      "MAE: 322.89563765647813\n",
      "MSE:  404415.59891928424\n",
      "R2:  0.9751079430027508\n",
      "NRMSE:  -635.9367884619385\n"
     ]
    }
   ],
   "source": [
    "b4_val_clf = b4_test_clf.best_estimator_\n",
    "b4_val_clf.fit(X_train2, y_train2)\n",
    "b4_val_preds = b4_val_clf.predict(X_val)\n",
    "\n",
    "# Evaluate the model\n",
    "b4_val_mae = mean_absolute_error(y_val, b4_val_preds)\n",
    "b4_val_mse = mean_squared_error(y_val, b4_val_preds)\n",
    "b4_val_r2 = r2_score(y_val, b4_val_preds)\n",
    "\n",
    "print('MAE:', b4_val_mae)\n",
    "print(\"MSE: \",b4_val_mse)\n",
    "print(\"R2: \",b4_val_r2)\n",
    "print(\"NRMSE: \",-np.sqrt(b4_val_mse))"
   ]
  },
  {
   "cell_type": "markdown",
   "id": "d5651662-6d4a-4100-a1be-0e34a9d54853",
   "metadata": {},
   "source": [
    "**Test Prediction**"
   ]
  },
  {
   "cell_type": "code",
   "execution_count": 141,
   "id": "3280caa6-d3da-4f94-9a7d-992fadc05dc0",
   "metadata": {},
   "outputs": [
    {
     "name": "stdout",
     "output_type": "stream",
     "text": [
      "MAE: 312.3389783611022\n",
      "MSE:  356963.3903221024\n",
      "R2:  0.977926870813776\n",
      "NRMSE:  -597.46413308424\n"
     ]
    }
   ],
   "source": [
    "b4_Te_clf = b4_test_clf.best_estimator_\n",
    "b4_Te_clf.fit(X_train, y_train)\n",
    "b4_test_preds = b4_Te_clf.predict(X_test)\n",
    "\n",
    "# Evaluate the model\n",
    "b4_test_mae = mean_absolute_error(y_test, b4_test_preds)\n",
    "b4_test_mse = mean_squared_error(y_test, b4_test_preds)\n",
    "b4_test_r2 = r2_score(y_test, b4_test_preds)\n",
    "\n",
    "print('MAE:', b4_test_mae)\n",
    "print(\"MSE: \",b4_test_mse)\n",
    "print(\"R2: \",b4_test_r2)\n",
    "print(\"NRMSE: \",-np.sqrt(b4_test_mse))"
   ]
  },
  {
   "cell_type": "markdown",
   "id": "e16d81a1-96e4-4e67-a02a-cd17270d81dd",
   "metadata": {},
   "source": [
    "### Baseline 4 Summary\n",
    "The model was  cross validated 5 times for NRMSE, then validated and tested 1 time for all the metrics:\n",
    "* **Mae**: validation set and test set around 315 and test performed slightly better. \n",
    "* **Mse**: validation set and test set around 350,000 and test performed slightly better.\n",
    "* **R2**: validation set and test set around 0.98 and test performed slightly better.\n",
    "* **NRMSE**: validation set and test set around 600 and validation performed slightly better.\n",
    "\n",
    "This is a slight improvement than previous baseline.\n",
    "\n",
    "\n",
    "The baseline is saved for comparison as a pandas dataframe: "
   ]
  },
  {
   "cell_type": "code",
   "execution_count": 142,
   "id": "b2ff7051-f7d9-436a-b4ff-2019ff239f9b",
   "metadata": {},
   "outputs": [
    {
     "data": {
      "text/html": [
       "<div>\n",
       "<style scoped>\n",
       "    .dataframe tbody tr th:only-of-type {\n",
       "        vertical-align: middle;\n",
       "    }\n",
       "\n",
       "    .dataframe tbody tr th {\n",
       "        vertical-align: top;\n",
       "    }\n",
       "\n",
       "    .dataframe thead th {\n",
       "        text-align: right;\n",
       "    }\n",
       "</style>\n",
       "<table border=\"1\" class=\"dataframe\">\n",
       "  <thead>\n",
       "    <tr style=\"text-align: right;\">\n",
       "      <th></th>\n",
       "      <th>val_mae</th>\n",
       "      <th>val_mse</th>\n",
       "      <th>val_r2</th>\n",
       "      <th>val_nrmse</th>\n",
       "      <th>test_mae</th>\n",
       "      <th>test_mse</th>\n",
       "      <th>test_r2</th>\n",
       "      <th>test_nrmse</th>\n",
       "    </tr>\n",
       "  </thead>\n",
       "  <tbody>\n",
       "    <tr>\n",
       "      <th>Baseline4</th>\n",
       "      <td>322.896</td>\n",
       "      <td>404415.599</td>\n",
       "      <td>0.975</td>\n",
       "      <td>-635.937</td>\n",
       "      <td>312.339</td>\n",
       "      <td>356963.390</td>\n",
       "      <td>0.978</td>\n",
       "      <td>-597.464</td>\n",
       "    </tr>\n",
       "  </tbody>\n",
       "</table>\n",
       "</div>"
      ],
      "text/plain": [
       "           val_mae    val_mse  val_r2  val_nrmse  test_mae   test_mse  \\\n",
       "Baseline4  322.896 404415.599   0.975   -635.937   312.339 356963.390   \n",
       "\n",
       "           test_r2  test_nrmse  \n",
       "Baseline4    0.978    -597.464  "
      ]
     },
     "execution_count": 142,
     "metadata": {},
     "output_type": "execute_result"
    }
   ],
   "source": [
    "baseline4 = pd.DataFrame({\"val_mae\": b4_val_mae,\"val_mse\": b4_val_mse,\"val_r2\": b4_val_r2,\"val_nrmse\": -np.sqrt(b4_val_mse),\n",
    "                          \"test_mae\": b4_test_mae,\"test_mse\": b4_test_mse,\"test_r2\": b4_test_r2, \"test_nrmse\": -np.sqrt(b4_test_mse)}, index=[\"Baseline4\"])\n",
    "baseline4"
   ]
  },
  {
   "cell_type": "code",
   "execution_count": 143,
   "id": "600b0c61-d1df-4eb3-9ed4-3d0650e395e0",
   "metadata": {},
   "outputs": [
    {
     "data": {
      "text/html": [
       "<div>\n",
       "<style scoped>\n",
       "    .dataframe tbody tr th:only-of-type {\n",
       "        vertical-align: middle;\n",
       "    }\n",
       "\n",
       "    .dataframe tbody tr th {\n",
       "        vertical-align: top;\n",
       "    }\n",
       "\n",
       "    .dataframe thead th {\n",
       "        text-align: right;\n",
       "    }\n",
       "</style>\n",
       "<table border=\"1\" class=\"dataframe\">\n",
       "  <thead>\n",
       "    <tr style=\"text-align: right;\">\n",
       "      <th></th>\n",
       "      <th>val_mae</th>\n",
       "      <th>val_mse</th>\n",
       "      <th>val_r2</th>\n",
       "      <th>val_nrmse</th>\n",
       "      <th>test_mae</th>\n",
       "      <th>test_mse</th>\n",
       "      <th>test_r2</th>\n",
       "      <th>test_nrmse</th>\n",
       "    </tr>\n",
       "  </thead>\n",
       "  <tbody>\n",
       "    <tr>\n",
       "      <th>Baseline1</th>\n",
       "      <td>1227.274</td>\n",
       "      <td>2652792.313</td>\n",
       "      <td>0.837</td>\n",
       "      <td>-1609.487</td>\n",
       "      <td>1249.890</td>\n",
       "      <td>2697964.879</td>\n",
       "      <td>0.833</td>\n",
       "      <td>-1642.548</td>\n",
       "    </tr>\n",
       "    <tr>\n",
       "      <th>Baseline2</th>\n",
       "      <td>829.093</td>\n",
       "      <td>1413280.761</td>\n",
       "      <td>0.913</td>\n",
       "      <td>-1188.815</td>\n",
       "      <td>827.987</td>\n",
       "      <td>1451969.503</td>\n",
       "      <td>0.910</td>\n",
       "      <td>-1204.977</td>\n",
       "    </tr>\n",
       "    <tr>\n",
       "      <th>Baseline3</th>\n",
       "      <td>361.278</td>\n",
       "      <td>436370.496</td>\n",
       "      <td>0.973</td>\n",
       "      <td>-660.583</td>\n",
       "      <td>348.443</td>\n",
       "      <td>390584.528</td>\n",
       "      <td>0.976</td>\n",
       "      <td>-624.968</td>\n",
       "    </tr>\n",
       "    <tr>\n",
       "      <th>Baseline4</th>\n",
       "      <td>322.896</td>\n",
       "      <td>404415.599</td>\n",
       "      <td>0.975</td>\n",
       "      <td>-635.937</td>\n",
       "      <td>312.339</td>\n",
       "      <td>356963.390</td>\n",
       "      <td>0.978</td>\n",
       "      <td>-597.464</td>\n",
       "    </tr>\n",
       "  </tbody>\n",
       "</table>\n",
       "</div>"
      ],
      "text/plain": [
       "           val_mae     val_mse  val_r2  val_nrmse  test_mae    test_mse  \\\n",
       "Baseline1 1227.274 2652792.313   0.837  -1609.487  1249.890 2697964.879   \n",
       "Baseline2  829.093 1413280.761   0.913  -1188.815   827.987 1451969.503   \n",
       "Baseline3  361.278  436370.496   0.973   -660.583   348.443  390584.528   \n",
       "Baseline4  322.896  404415.599   0.975   -635.937   312.339  356963.390   \n",
       "\n",
       "           test_r2  test_nrmse  \n",
       "Baseline1    0.833   -1642.548  \n",
       "Baseline2    0.910   -1204.977  \n",
       "Baseline3    0.976    -624.968  \n",
       "Baseline4    0.978    -597.464  "
      ]
     },
     "execution_count": 143,
     "metadata": {},
     "output_type": "execute_result"
    }
   ],
   "source": [
    "Baselines = pd.concat([baseline1,baseline2,baseline3,baseline4])\n",
    "Baselines"
   ]
  },
  {
   "cell_type": "markdown",
   "id": "efa32253-7fa4-406e-938e-9c7d016f08ea",
   "metadata": {},
   "source": [
    "## Baseline 5: Forests\n",
    "\n",
    "### Decisions:\n",
    "* **Preprocessing:**\n",
    "    1. **Outliers:**  **continuous** - choose what is considered an outlier, fill with median/mean and scaling standart scaling.               \n",
    "    2. **Feature Engineering**: only categoric labels, OrdinalEncoder.\n",
    "* **Model training** - using cross validation in validation data on Random Foerst and Extra Trees.\n",
    "* **Model testing** - validate with grid search and validation set then train on whole train + validation set and use test data for results.\n",
    "* **Model evaluating** - record for validation and test the following metrics:\n",
    "    1. MSE - [Mean squared error](https://en.wikipedia.org/wiki/Mean_squared_error)\n",
    "    2. R2 - [R Square](https://en.wikipedia.org/wiki/Coefficient_of_determination)\n",
    "    3. MAE - [Mean absolut error](https://en.wikipedia.org/wiki/Mean_absolute_error)\n",
    "    4. NRMSE - [Negative root mean squared error](https://en.wikipedia.org/wiki/Root-mean-square_deviation)\n",
    "    \n",
    "\n",
    "**Preprocessing**"
   ]
  },
  {
   "cell_type": "code",
   "execution_count": 144,
   "id": "842be932-04e2-4949-b21c-6caf83022810",
   "metadata": {},
   "outputs": [
    {
     "data": {
      "text/plain": [
       "Pipeline(steps=[('preprocessor',\n",
       "                 ColumnTransformer(transformers=[('num',\n",
       "                                                  Pipeline(steps=[('outlier',\n",
       "                                                                   FunctionTransformer(func=<function Outlier_Detector at 0x000001B614A9A550>,\n",
       "                                                                                       kw_args={'factor': nan})),\n",
       "                                                                  ('imputer',\n",
       "                                                                   SimpleImputer()),\n",
       "                                                                  ('scaler',\n",
       "                                                                   StandardScaler())]),\n",
       "                                                  ['carat', 'depth', 'table',\n",
       "                                                   'x', 'y', 'z']),\n",
       "                                                 ('cuts',\n",
       "                                                  OrdinalEncoder(categories=[['Fair',\n",
       "                                                                              'Good',\n",
       "                                                                              'Very '\n",
       "                                                                              'G...\n",
       "                                                                              'Premium',\n",
       "                                                                              'Ideal']]),\n",
       "                                                  ['cut']),\n",
       "                                                 ('colors',\n",
       "                                                  OrdinalEncoder(categories=[['J',\n",
       "                                                                              'I',\n",
       "                                                                              'H',\n",
       "                                                                              'G',\n",
       "                                                                              'F',\n",
       "                                                                              'E',\n",
       "                                                                              'D']]),\n",
       "                                                  ['color']),\n",
       "                                                 ('clarities',\n",
       "                                                  OrdinalEncoder(categories=[['I1',\n",
       "                                                                              'SI2',\n",
       "                                                                              'SI1',\n",
       "                                                                              'VS2',\n",
       "                                                                              'VS1',\n",
       "                                                                              'VVS2',\n",
       "                                                                              'VVS1',\n",
       "                                                                              'IF']]),\n",
       "                                                  ['clarity'])])),\n",
       "                ('model',\n",
       "                 PipelineHelper(available_models={'et': ExtraTreesRegressor(random_state=42),\n",
       "                                                  'rf': RandomForestRegressor(random_state=42)}))])"
      ]
     },
     "execution_count": 144,
     "metadata": {},
     "output_type": "execute_result"
    }
   ],
   "source": [
    "# Bundle preprocessing and modeling code in a pipeline\n",
    "Baseline5 = Pipeline(steps=[('preprocessor', preprocessor),\n",
    "                            ('model', PipelineHelper([\n",
    "                                   ('et', ExtraTreesRegressor(random_state = 42)),\n",
    "                                   ('rf', RandomForestRegressor(random_state = 42))\n",
    "                                                       ]))\n",
    "                             ])\n",
    "Baseline5"
   ]
  },
  {
   "cell_type": "code",
   "execution_count": 145,
   "id": "e6887025-f34a-41cb-a299-70c815f36ddc",
   "metadata": {},
   "outputs": [
    {
     "data": {
      "text/plain": [
       "dict_keys(['memory', 'steps', 'verbose', 'preprocessor', 'model', 'preprocessor__n_jobs', 'preprocessor__remainder', 'preprocessor__sparse_threshold', 'preprocessor__transformer_weights', 'preprocessor__transformers', 'preprocessor__verbose', 'preprocessor__num', 'preprocessor__cuts', 'preprocessor__colors', 'preprocessor__clarities', 'preprocessor__num__memory', 'preprocessor__num__steps', 'preprocessor__num__verbose', 'preprocessor__num__outlier', 'preprocessor__num__imputer', 'preprocessor__num__scaler', 'preprocessor__num__outlier__accept_sparse', 'preprocessor__num__outlier__check_inverse', 'preprocessor__num__outlier__func', 'preprocessor__num__outlier__inv_kw_args', 'preprocessor__num__outlier__inverse_func', 'preprocessor__num__outlier__kw_args', 'preprocessor__num__outlier__validate', 'preprocessor__num__imputer__add_indicator', 'preprocessor__num__imputer__copy', 'preprocessor__num__imputer__fill_value', 'preprocessor__num__imputer__missing_values', 'preprocessor__num__imputer__strategy', 'preprocessor__num__imputer__verbose', 'preprocessor__num__scaler__copy', 'preprocessor__num__scaler__with_mean', 'preprocessor__num__scaler__with_std', 'preprocessor__cuts__categories', 'preprocessor__cuts__dtype', 'preprocessor__cuts__handle_unknown', 'preprocessor__cuts__unknown_value', 'preprocessor__colors__categories', 'preprocessor__colors__dtype', 'preprocessor__colors__handle_unknown', 'preprocessor__colors__unknown_value', 'preprocessor__clarities__categories', 'preprocessor__clarities__dtype', 'preprocessor__clarities__handle_unknown', 'preprocessor__clarities__unknown_value', 'model__available_models', 'model__selected_model', 'model__optional', 'model__available_models__et', 'model__available_models__et__bootstrap', 'model__available_models__et__ccp_alpha', 'model__available_models__et__criterion', 'model__available_models__et__max_depth', 'model__available_models__et__max_features', 'model__available_models__et__max_leaf_nodes', 'model__available_models__et__max_samples', 'model__available_models__et__min_impurity_decrease', 'model__available_models__et__min_impurity_split', 'model__available_models__et__min_samples_leaf', 'model__available_models__et__min_samples_split', 'model__available_models__et__min_weight_fraction_leaf', 'model__available_models__et__n_estimators', 'model__available_models__et__n_jobs', 'model__available_models__et__oob_score', 'model__available_models__et__random_state', 'model__available_models__et__verbose', 'model__available_models__et__warm_start', 'model__available_models__rf', 'model__available_models__rf__bootstrap', 'model__available_models__rf__ccp_alpha', 'model__available_models__rf__criterion', 'model__available_models__rf__max_depth', 'model__available_models__rf__max_features', 'model__available_models__rf__max_leaf_nodes', 'model__available_models__rf__max_samples', 'model__available_models__rf__min_impurity_decrease', 'model__available_models__rf__min_impurity_split', 'model__available_models__rf__min_samples_leaf', 'model__available_models__rf__min_samples_split', 'model__available_models__rf__min_weight_fraction_leaf', 'model__available_models__rf__n_estimators', 'model__available_models__rf__n_jobs', 'model__available_models__rf__oob_score', 'model__available_models__rf__random_state', 'model__available_models__rf__verbose', 'model__available_models__rf__warm_start'])"
      ]
     },
     "execution_count": 145,
     "metadata": {},
     "output_type": "execute_result"
    }
   ],
   "source": [
    "Baseline5.get_params().keys()"
   ]
  },
  {
   "cell_type": "code",
   "execution_count": 146,
   "id": "7c416874-ded5-4135-8d01-c391fcd8d5b8",
   "metadata": {},
   "outputs": [],
   "source": [
    "hyperparameters = { \n",
    "                   'preprocessor__num__outlier__kw_args':[{'factor':1.5},{'factor':3}],\n",
    "                  'preprocessor__num__imputer__strategy':['mean','median'],\n",
    "                    'model__selected_model': Baseline5.named_steps['model'].generate({   \n",
    "                    'et__n_estimators': [50,100,200],\n",
    "                    'et__max_features': [5,8],\n",
    "                    'rf__n_estimators' : [2,5,8],\n",
    "                    'rf__max_depth': [2,5]\n",
    "    })}"
   ]
  },
  {
   "cell_type": "code",
   "execution_count": 147,
   "id": "435ab80d-c12b-491e-bf3b-a8da5ddd2c7b",
   "metadata": {},
   "outputs": [],
   "source": [
    "b5_test_clf = GridSearchCV(Baseline5, hyperparameters,cv = 5, scoring = \"neg_root_mean_squared_error\", n_jobs = -1, verbose = 2) "
   ]
  },
  {
   "cell_type": "markdown",
   "id": "bc032ecd-9521-43d8-a3dd-d15a557db680",
   "metadata": {},
   "source": [
    "**Parameter tuning and grid search**\n",
    "\n",
    "the factor of the outlier is being grid searched as well as impute strategy and a decition between 2 different tree based models:"
   ]
  },
  {
   "cell_type": "code",
   "execution_count": 148,
   "id": "ab6efc42-78ad-47ae-8ba5-92a3f87679c0",
   "metadata": {},
   "outputs": [
    {
     "name": "stdout",
     "output_type": "stream",
     "text": [
      "Fitting 5 folds for each of 48 candidates, totalling 240 fits\n",
      "Wall time: 3min 1s\n"
     ]
    },
    {
     "data": {
      "text/plain": [
       "GridSearchCV(cv=5,\n",
       "             estimator=Pipeline(steps=[('preprocessor',\n",
       "                                        ColumnTransformer(transformers=[('num',\n",
       "                                                                         Pipeline(steps=[('outlier',\n",
       "                                                                                          FunctionTransformer(func=<function Outlier_Detector at 0x000001B614A9A550>,\n",
       "                                                                                                              kw_args={'factor': nan})),\n",
       "                                                                                         ('imputer',\n",
       "                                                                                          SimpleImputer()),\n",
       "                                                                                         ('scaler',\n",
       "                                                                                          StandardScaler())]),\n",
       "                                                                         ['carat',\n",
       "                                                                          'depth',\n",
       "                                                                          'table',\n",
       "                                                                          'x',\n",
       "                                                                          'y',\n",
       "                                                                          'z']),\n",
       "                                                                        ('cuts',\n",
       "                                                                         OrdinalEncoder(categor...\n",
       "                                                     'n_estimators': 5}),\n",
       "                                                   ('rf',\n",
       "                                                    {'max_depth': 2,\n",
       "                                                     'n_estimators': 8}),\n",
       "                                                   ('rf',\n",
       "                                                    {'max_depth': 5,\n",
       "                                                     'n_estimators': 2}),\n",
       "                                                   ('rf',\n",
       "                                                    {'max_depth': 5,\n",
       "                                                     'n_estimators': 5}),\n",
       "                                                   ('rf',\n",
       "                                                    {'max_depth': 5,\n",
       "                                                     'n_estimators': 8})],\n",
       "                         'preprocessor__num__imputer__strategy': ['mean',\n",
       "                                                                  'median'],\n",
       "                         'preprocessor__num__outlier__kw_args': [{'factor': 1.5},\n",
       "                                                                 {'factor': 3}]},\n",
       "             scoring='neg_root_mean_squared_error', verbose=2)"
      ]
     },
     "execution_count": 148,
     "metadata": {},
     "output_type": "execute_result"
    }
   ],
   "source": [
    "%%time\n",
    "# Fit and tune model\n",
    "b5_test_clf.fit(X_train, y_train)"
   ]
  },
  {
   "cell_type": "code",
   "execution_count": 149,
   "id": "639f4f0b-0940-44cb-a7b7-f4562a9ac86f",
   "metadata": {},
   "outputs": [
    {
     "data": {
      "text/plain": [
       "{'model__selected_model': ('et', {'max_features': 5, 'n_estimators': 200}),\n",
       " 'preprocessor__num__imputer__strategy': 'mean',\n",
       " 'preprocessor__num__outlier__kw_args': {'factor': 3}}"
      ]
     },
     "execution_count": 149,
     "metadata": {},
     "output_type": "execute_result"
    }
   ],
   "source": [
    "b5_test_clf.best_params_"
   ]
  },
  {
   "cell_type": "markdown",
   "id": "fa27c133-483e-4825-ac6f-4746542d2c41",
   "metadata": {},
   "source": [
    "**Validation Prediction**"
   ]
  },
  {
   "cell_type": "code",
   "execution_count": 150,
   "id": "60cc446f-bd06-441e-8db3-0ec04ae0f52a",
   "metadata": {},
   "outputs": [
    {
     "name": "stdout",
     "output_type": "stream",
     "text": [
      "MAE: 251.80838338895066\n",
      "MSE:  269571.66163312626\n",
      "R2:  0.9834076796638247\n",
      "NRMSE:  -519.202909885072\n"
     ]
    }
   ],
   "source": [
    "b5_val_clf = b5_test_clf.best_estimator_\n",
    "b5_val_clf.fit(X_train2, y_train2)\n",
    "b5_val_preds = b5_val_clf.predict(X_val)\n",
    "\n",
    "# Evaluate the model\n",
    "b5_val_mae = mean_absolute_error(y_val, b5_val_preds)\n",
    "b5_val_mse = mean_squared_error(y_val, b5_val_preds)\n",
    "b5_val_r2 = r2_score(y_val, b5_val_preds)\n",
    "\n",
    "print('MAE:', b5_val_mae)\n",
    "print(\"MSE: \",b5_val_mse)\n",
    "print(\"R2: \",b5_val_r2)\n",
    "print(\"NRMSE: \",-np.sqrt(b5_val_mse))"
   ]
  },
  {
   "cell_type": "markdown",
   "id": "7edd14ec-9017-44db-b86b-73cd580b0a71",
   "metadata": {},
   "source": [
    "**Test Prediction**"
   ]
  },
  {
   "cell_type": "code",
   "execution_count": 151,
   "id": "2995c255-38c4-44a7-aa61-a9f5cdc2e850",
   "metadata": {},
   "outputs": [
    {
     "name": "stdout",
     "output_type": "stream",
     "text": [
      "MAE: 241.0921493016932\n",
      "MSE:  223531.28226708792\n",
      "R2:  0.9861777565867706\n",
      "NRMSE:  -472.7909498574269\n"
     ]
    }
   ],
   "source": [
    "b5_Te_clf = b5_test_clf.best_estimator_\n",
    "b5_Te_clf.fit(X_train, y_train)\n",
    "b5_test_preds = b5_Te_clf.predict(X_test)\n",
    "\n",
    "# Evaluate the model\n",
    "b5_test_mae = mean_absolute_error(y_test, b5_test_preds)\n",
    "b5_test_mse = mean_squared_error(y_test, b5_test_preds)\n",
    "b5_test_r2 = r2_score(y_test, b5_test_preds)\n",
    "\n",
    "print('MAE:', b5_test_mae)\n",
    "print(\"MSE: \",b5_test_mse)\n",
    "print(\"R2: \",b5_test_r2)\n",
    "print(\"NRMSE: \",-np.sqrt(b5_test_mse))"
   ]
  },
  {
   "cell_type": "markdown",
   "id": "f5aff91b-a705-4250-b8de-3ae316a88ed6",
   "metadata": {},
   "source": [
    "**Adjusted R2 R2**"
   ]
  },
  {
   "cell_type": "code",
   "execution_count": 166,
   "id": "c751c583-0f3a-4579-8990-3df081d6d6f9",
   "metadata": {},
   "outputs": [
    {
     "name": "stdout",
     "output_type": "stream",
     "text": [
      "adjusted R2:  0.9861314595303066\n"
     ]
    }
   ],
   "source": [
    "n = X_test.shape[0]\n",
    "p = X_test.shape[1]\n",
    "b5_ad_r2 = 1-(1-b5_test_r2)*(n-1)/(n-p-1)\n",
    "print(\"adjusted R2: \",b5_ad_r2)"
   ]
  },
  {
   "cell_type": "markdown",
   "id": "0e94beb7-ec2d-4fd8-8bae-61b08ceed16a",
   "metadata": {},
   "source": [
    "### Baseline 5 Summary\n",
    "The model was  cross validated 5 times for NRMSE, then validated and tested 1 time for all the metrics:\n",
    "* **Mae**: validation set and test set around 250 and test performed slightly better. \n",
    "* **Mse**: validation set and test set around 250,000 and test performed slightly better.\n",
    "* **R2**: validation set and test set around 0.985 and test performed slightly better.\n",
    "* **NRMSE**: validation set and test set around 500 and validation performed slightly better.\n",
    "\n",
    "This is a major improvement than previous baseline.\n",
    "\n",
    "The baseline is saved for comparison as a pandas dataframe: "
   ]
  },
  {
   "cell_type": "code",
   "execution_count": 152,
   "id": "86f888fd-c340-482f-8a53-79212bfaefc7",
   "metadata": {},
   "outputs": [
    {
     "data": {
      "text/html": [
       "<div>\n",
       "<style scoped>\n",
       "    .dataframe tbody tr th:only-of-type {\n",
       "        vertical-align: middle;\n",
       "    }\n",
       "\n",
       "    .dataframe tbody tr th {\n",
       "        vertical-align: top;\n",
       "    }\n",
       "\n",
       "    .dataframe thead th {\n",
       "        text-align: right;\n",
       "    }\n",
       "</style>\n",
       "<table border=\"1\" class=\"dataframe\">\n",
       "  <thead>\n",
       "    <tr style=\"text-align: right;\">\n",
       "      <th></th>\n",
       "      <th>val_mae</th>\n",
       "      <th>val_mse</th>\n",
       "      <th>val_r2</th>\n",
       "      <th>val_nrmse</th>\n",
       "      <th>test_mae</th>\n",
       "      <th>test_mse</th>\n",
       "      <th>test_r2</th>\n",
       "      <th>test_nrmse</th>\n",
       "    </tr>\n",
       "  </thead>\n",
       "  <tbody>\n",
       "    <tr>\n",
       "      <th>Baseline5</th>\n",
       "      <td>251.808</td>\n",
       "      <td>269571.662</td>\n",
       "      <td>0.983</td>\n",
       "      <td>-519.203</td>\n",
       "      <td>241.092</td>\n",
       "      <td>223531.282</td>\n",
       "      <td>0.986</td>\n",
       "      <td>-472.791</td>\n",
       "    </tr>\n",
       "  </tbody>\n",
       "</table>\n",
       "</div>"
      ],
      "text/plain": [
       "           val_mae    val_mse  val_r2  val_nrmse  test_mae   test_mse  \\\n",
       "Baseline5  251.808 269571.662   0.983   -519.203   241.092 223531.282   \n",
       "\n",
       "           test_r2  test_nrmse  \n",
       "Baseline5    0.986    -472.791  "
      ]
     },
     "execution_count": 152,
     "metadata": {},
     "output_type": "execute_result"
    }
   ],
   "source": [
    "baseline5 = pd.DataFrame({\"val_mae\": b5_val_mae,\"val_mse\": b5_val_mse,\"val_r2\": b5_val_r2,\"val_nrmse\": -np.sqrt(b5_val_mse),\n",
    "                          \"test_mae\": b5_test_mae,\"test_mse\": b5_test_mse,\"test_r2\": b5_test_r2, \"test_nrmse\": -np.sqrt(b5_test_mse)}, index=[\"Baseline5\"])\n",
    "baseline5"
   ]
  },
  {
   "cell_type": "code",
   "execution_count": 153,
   "id": "da2405a4-80b4-4d91-9cfc-c86acd7f085b",
   "metadata": {},
   "outputs": [
    {
     "data": {
      "text/html": [
       "<div>\n",
       "<style scoped>\n",
       "    .dataframe tbody tr th:only-of-type {\n",
       "        vertical-align: middle;\n",
       "    }\n",
       "\n",
       "    .dataframe tbody tr th {\n",
       "        vertical-align: top;\n",
       "    }\n",
       "\n",
       "    .dataframe thead th {\n",
       "        text-align: right;\n",
       "    }\n",
       "</style>\n",
       "<table border=\"1\" class=\"dataframe\">\n",
       "  <thead>\n",
       "    <tr style=\"text-align: right;\">\n",
       "      <th></th>\n",
       "      <th>val_mae</th>\n",
       "      <th>val_mse</th>\n",
       "      <th>val_r2</th>\n",
       "      <th>val_nrmse</th>\n",
       "      <th>test_mae</th>\n",
       "      <th>test_mse</th>\n",
       "      <th>test_r2</th>\n",
       "      <th>test_nrmse</th>\n",
       "    </tr>\n",
       "  </thead>\n",
       "  <tbody>\n",
       "    <tr>\n",
       "      <th>Baseline1</th>\n",
       "      <td>1227.274</td>\n",
       "      <td>2652792.313</td>\n",
       "      <td>0.837</td>\n",
       "      <td>-1609.487</td>\n",
       "      <td>1249.890</td>\n",
       "      <td>2697964.879</td>\n",
       "      <td>0.833</td>\n",
       "      <td>-1642.548</td>\n",
       "    </tr>\n",
       "    <tr>\n",
       "      <th>Baseline2</th>\n",
       "      <td>829.093</td>\n",
       "      <td>1413280.761</td>\n",
       "      <td>0.913</td>\n",
       "      <td>-1188.815</td>\n",
       "      <td>827.987</td>\n",
       "      <td>1451969.503</td>\n",
       "      <td>0.910</td>\n",
       "      <td>-1204.977</td>\n",
       "    </tr>\n",
       "    <tr>\n",
       "      <th>Baseline3</th>\n",
       "      <td>361.278</td>\n",
       "      <td>436370.496</td>\n",
       "      <td>0.973</td>\n",
       "      <td>-660.583</td>\n",
       "      <td>348.443</td>\n",
       "      <td>390584.528</td>\n",
       "      <td>0.976</td>\n",
       "      <td>-624.968</td>\n",
       "    </tr>\n",
       "    <tr>\n",
       "      <th>Baseline4</th>\n",
       "      <td>322.896</td>\n",
       "      <td>404415.599</td>\n",
       "      <td>0.975</td>\n",
       "      <td>-635.937</td>\n",
       "      <td>312.339</td>\n",
       "      <td>356963.390</td>\n",
       "      <td>0.978</td>\n",
       "      <td>-597.464</td>\n",
       "    </tr>\n",
       "    <tr>\n",
       "      <th>Baseline5</th>\n",
       "      <td>251.808</td>\n",
       "      <td>269571.662</td>\n",
       "      <td>0.983</td>\n",
       "      <td>-519.203</td>\n",
       "      <td>241.092</td>\n",
       "      <td>223531.282</td>\n",
       "      <td>0.986</td>\n",
       "      <td>-472.791</td>\n",
       "    </tr>\n",
       "  </tbody>\n",
       "</table>\n",
       "</div>"
      ],
      "text/plain": [
       "           val_mae     val_mse  val_r2  val_nrmse  test_mae    test_mse  \\\n",
       "Baseline1 1227.274 2652792.313   0.837  -1609.487  1249.890 2697964.879   \n",
       "Baseline2  829.093 1413280.761   0.913  -1188.815   827.987 1451969.503   \n",
       "Baseline3  361.278  436370.496   0.973   -660.583   348.443  390584.528   \n",
       "Baseline4  322.896  404415.599   0.975   -635.937   312.339  356963.390   \n",
       "Baseline5  251.808  269571.662   0.983   -519.203   241.092  223531.282   \n",
       "\n",
       "           test_r2  test_nrmse  \n",
       "Baseline1    0.833   -1642.548  \n",
       "Baseline2    0.910   -1204.977  \n",
       "Baseline3    0.976    -624.968  \n",
       "Baseline4    0.978    -597.464  \n",
       "Baseline5    0.986    -472.791  "
      ]
     },
     "execution_count": 153,
     "metadata": {},
     "output_type": "execute_result"
    }
   ],
   "source": [
    "Baselines = pd.concat([baseline1,baseline2,baseline3,baseline4,baseline5])\n",
    "Baselines"
   ]
  },
  {
   "cell_type": "markdown",
   "id": "cc61ed7d-a3bf-4d98-ad54-0297fdf192e4",
   "metadata": {},
   "source": [
    "## Baseline 6: Ensemble\n",
    "\n",
    "### Decisions:\n",
    "* **Preprocessing:**\n",
    "    1. **Outliers:**  **continuous** - choose what is considered an outlier, fill with median/mean and scaling standart scaling.               \n",
    "    2. **Feature Engineering**: only categoric labels, OrdinalEncoder.\n",
    "* **Model training** - using cross validation in validation data on voting regressor using gradient booster and extra trees.\n",
    "* **Model testing** - validate with grid search and validation set then train on whole train + validation set and use test data for results.\n",
    "* **Model evaluating** - record for validation and test the following metrics:\n",
    "    1. MSE - [Mean squared error](https://en.wikipedia.org/wiki/Mean_squared_error)\n",
    "    2. R2 - [R Square](https://en.wikipedia.org/wiki/Coefficient_of_determination)\n",
    "    3. MAE - [Mean absolut error](https://en.wikipedia.org/wiki/Mean_absolute_error)\n",
    "    4. NRMSE - [Negative root mean squared error](https://en.wikipedia.org/wiki/Root-mean-square_deviation)\n",
    "    \n",
    "\n",
    "**Preprocessing**"
   ]
  },
  {
   "cell_type": "code",
   "execution_count": 154,
   "id": "333e9dfe-84e1-4ed7-8575-50235bd41121",
   "metadata": {},
   "outputs": [
    {
     "data": {
      "text/plain": [
       "Pipeline(steps=[('preprocessor',\n",
       "                 ColumnTransformer(transformers=[('num',\n",
       "                                                  Pipeline(steps=[('outlier',\n",
       "                                                                   FunctionTransformer(func=<function Outlier_Detector at 0x000001B614A9A550>,\n",
       "                                                                                       kw_args={'factor': nan})),\n",
       "                                                                  ('imputer',\n",
       "                                                                   SimpleImputer()),\n",
       "                                                                  ('scaler',\n",
       "                                                                   StandardScaler())]),\n",
       "                                                  ['carat', 'depth', 'table',\n",
       "                                                   'x', 'y', 'z']),\n",
       "                                                 ('cuts',\n",
       "                                                  OrdinalEncoder(categories=[['Fair',\n",
       "                                                                              'Good',\n",
       "                                                                              'Very '\n",
       "                                                                              'G...\n",
       "                                                                              'Premium',\n",
       "                                                                              'Ideal']]),\n",
       "                                                  ['cut']),\n",
       "                                                 ('colors',\n",
       "                                                  OrdinalEncoder(categories=[['J',\n",
       "                                                                              'I',\n",
       "                                                                              'H',\n",
       "                                                                              'G',\n",
       "                                                                              'F',\n",
       "                                                                              'E',\n",
       "                                                                              'D']]),\n",
       "                                                  ['color']),\n",
       "                                                 ('clarities',\n",
       "                                                  OrdinalEncoder(categories=[['I1',\n",
       "                                                                              'SI2',\n",
       "                                                                              'SI1',\n",
       "                                                                              'VS2',\n",
       "                                                                              'VS1',\n",
       "                                                                              'VVS2',\n",
       "                                                                              'VVS1',\n",
       "                                                                              'IF']]),\n",
       "                                                  ['clarity'])])),\n",
       "                ('model',\n",
       "                 VotingRegressor(estimators=[('et',\n",
       "                                              ExtraTreesRegressor(random_state=42)),\n",
       "                                             ('gb',\n",
       "                                              GradientBoostingRegressor(random_state=42))]))])"
      ]
     },
     "execution_count": 154,
     "metadata": {},
     "output_type": "execute_result"
    }
   ],
   "source": [
    "reg1 = ExtraTreesRegressor(random_state = 42)\n",
    "reg2 = GradientBoostingRegressor(random_state=42)\n",
    "\n",
    "ereg = VotingRegressor(estimators=[('et', reg1), ('gb', reg2)])\n",
    "\n",
    "# Bundle preprocessing and modeling code in a pipeline\n",
    "Baseline6 = Pipeline(steps=[('preprocessor', preprocessor),\n",
    "                            ('model', ereg)\n",
    "                             ])\n",
    "Baseline6"
   ]
  },
  {
   "cell_type": "code",
   "execution_count": 155,
   "id": "d3e01dca-c082-411d-8cce-8a8a2258665e",
   "metadata": {},
   "outputs": [
    {
     "data": {
      "text/plain": [
       "dict_keys(['memory', 'steps', 'verbose', 'preprocessor', 'model', 'preprocessor__n_jobs', 'preprocessor__remainder', 'preprocessor__sparse_threshold', 'preprocessor__transformer_weights', 'preprocessor__transformers', 'preprocessor__verbose', 'preprocessor__num', 'preprocessor__cuts', 'preprocessor__colors', 'preprocessor__clarities', 'preprocessor__num__memory', 'preprocessor__num__steps', 'preprocessor__num__verbose', 'preprocessor__num__outlier', 'preprocessor__num__imputer', 'preprocessor__num__scaler', 'preprocessor__num__outlier__accept_sparse', 'preprocessor__num__outlier__check_inverse', 'preprocessor__num__outlier__func', 'preprocessor__num__outlier__inv_kw_args', 'preprocessor__num__outlier__inverse_func', 'preprocessor__num__outlier__kw_args', 'preprocessor__num__outlier__validate', 'preprocessor__num__imputer__add_indicator', 'preprocessor__num__imputer__copy', 'preprocessor__num__imputer__fill_value', 'preprocessor__num__imputer__missing_values', 'preprocessor__num__imputer__strategy', 'preprocessor__num__imputer__verbose', 'preprocessor__num__scaler__copy', 'preprocessor__num__scaler__with_mean', 'preprocessor__num__scaler__with_std', 'preprocessor__cuts__categories', 'preprocessor__cuts__dtype', 'preprocessor__cuts__handle_unknown', 'preprocessor__cuts__unknown_value', 'preprocessor__colors__categories', 'preprocessor__colors__dtype', 'preprocessor__colors__handle_unknown', 'preprocessor__colors__unknown_value', 'preprocessor__clarities__categories', 'preprocessor__clarities__dtype', 'preprocessor__clarities__handle_unknown', 'preprocessor__clarities__unknown_value', 'model__estimators', 'model__n_jobs', 'model__verbose', 'model__weights', 'model__et', 'model__gb', 'model__et__bootstrap', 'model__et__ccp_alpha', 'model__et__criterion', 'model__et__max_depth', 'model__et__max_features', 'model__et__max_leaf_nodes', 'model__et__max_samples', 'model__et__min_impurity_decrease', 'model__et__min_impurity_split', 'model__et__min_samples_leaf', 'model__et__min_samples_split', 'model__et__min_weight_fraction_leaf', 'model__et__n_estimators', 'model__et__n_jobs', 'model__et__oob_score', 'model__et__random_state', 'model__et__verbose', 'model__et__warm_start', 'model__gb__alpha', 'model__gb__ccp_alpha', 'model__gb__criterion', 'model__gb__init', 'model__gb__learning_rate', 'model__gb__loss', 'model__gb__max_depth', 'model__gb__max_features', 'model__gb__max_leaf_nodes', 'model__gb__min_impurity_decrease', 'model__gb__min_impurity_split', 'model__gb__min_samples_leaf', 'model__gb__min_samples_split', 'model__gb__min_weight_fraction_leaf', 'model__gb__n_estimators', 'model__gb__n_iter_no_change', 'model__gb__random_state', 'model__gb__subsample', 'model__gb__tol', 'model__gb__validation_fraction', 'model__gb__verbose', 'model__gb__warm_start'])"
      ]
     },
     "execution_count": 155,
     "metadata": {},
     "output_type": "execute_result"
    }
   ],
   "source": [
    "Baseline6.get_params().keys()"
   ]
  },
  {
   "cell_type": "code",
   "execution_count": 156,
   "id": "750dcac4-c448-4e31-aa1c-2d4365d89297",
   "metadata": {},
   "outputs": [],
   "source": [
    "hyperparameters = {\n",
    "                   'preprocessor__num__outlier__kw_args':[{'factor':1.5},{'factor':3}],\n",
    "                   'preprocessor__num__imputer__strategy':['mean','median'],\n",
    "                   'model__et__n_estimators': [200],\n",
    "                   'model__et__max_features': [7,8],\n",
    "                   \"model__et__criterion\":[\"mse\"],\n",
    "                   'model__gb__n_estimators': [250,300]    \n",
    "}"
   ]
  },
  {
   "cell_type": "code",
   "execution_count": 157,
   "id": "37398f41-5d9e-464d-a74b-47011683eb5b",
   "metadata": {},
   "outputs": [],
   "source": [
    "b6_test_clf = GridSearchCV(Baseline6, hyperparameters,cv = 5, scoring = \"neg_root_mean_squared_error\", n_jobs = -1, verbose = 2) "
   ]
  },
  {
   "cell_type": "markdown",
   "id": "8ed9ae1b-89b7-495b-bcb7-9d22b4e5afbf",
   "metadata": {},
   "source": [
    "**Parameter tuning and grid search**\n",
    "\n",
    "the factor of the outlier is being grid searched as well as impute strategy and a decision between the parameters of this ensemble regressor:"
   ]
  },
  {
   "cell_type": "code",
   "execution_count": 158,
   "id": "38e5ded8-86ee-4580-8733-16ce225f3175",
   "metadata": {},
   "outputs": [
    {
     "name": "stdout",
     "output_type": "stream",
     "text": [
      "Fitting 5 folds for each of 16 candidates, totalling 80 fits\n",
      "Wall time: 5min 32s\n"
     ]
    },
    {
     "data": {
      "text/plain": [
       "GridSearchCV(cv=5,\n",
       "             estimator=Pipeline(steps=[('preprocessor',\n",
       "                                        ColumnTransformer(transformers=[('num',\n",
       "                                                                         Pipeline(steps=[('outlier',\n",
       "                                                                                          FunctionTransformer(func=<function Outlier_Detector at 0x000001B614A9A550>,\n",
       "                                                                                                              kw_args={'factor': nan})),\n",
       "                                                                                         ('imputer',\n",
       "                                                                                          SimpleImputer()),\n",
       "                                                                                         ('scaler',\n",
       "                                                                                          StandardScaler())]),\n",
       "                                                                         ['carat',\n",
       "                                                                          'depth',\n",
       "                                                                          'table',\n",
       "                                                                          'x',\n",
       "                                                                          'y',\n",
       "                                                                          'z']),\n",
       "                                                                        ('cuts',\n",
       "                                                                         OrdinalEncoder(categor...\n",
       "                                                                     GradientBoostingRegressor(random_state=42))]))]),\n",
       "             n_jobs=-1,\n",
       "             param_grid={'model__et__criterion': ['mse'],\n",
       "                         'model__et__max_features': [7, 8],\n",
       "                         'model__et__n_estimators': [200],\n",
       "                         'model__gb__n_estimators': [250, 300],\n",
       "                         'preprocessor__num__imputer__strategy': ['mean',\n",
       "                                                                  'median'],\n",
       "                         'preprocessor__num__outlier__kw_args': [{'factor': 1.5},\n",
       "                                                                 {'factor': 3}]},\n",
       "             scoring='neg_root_mean_squared_error', verbose=2)"
      ]
     },
     "execution_count": 158,
     "metadata": {},
     "output_type": "execute_result"
    }
   ],
   "source": [
    "%%time\n",
    "# Fit and tune model\n",
    "b6_test_clf.fit(X_train, y_train)"
   ]
  },
  {
   "cell_type": "code",
   "execution_count": 159,
   "id": "d7603f19-a0e9-4fe1-a8d5-681d3a5249eb",
   "metadata": {},
   "outputs": [
    {
     "data": {
      "text/plain": [
       "{'model__et__criterion': 'mse',\n",
       " 'model__et__max_features': 7,\n",
       " 'model__et__n_estimators': 200,\n",
       " 'model__gb__n_estimators': 300,\n",
       " 'preprocessor__num__imputer__strategy': 'mean',\n",
       " 'preprocessor__num__outlier__kw_args': {'factor': 3}}"
      ]
     },
     "execution_count": 159,
     "metadata": {},
     "output_type": "execute_result"
    }
   ],
   "source": [
    "b6_test_clf.best_params_"
   ]
  },
  {
   "cell_type": "markdown",
   "id": "5f67f98c-7af5-4567-84b8-df309619ede2",
   "metadata": {},
   "source": [
    "**Validation Prediction**"
   ]
  },
  {
   "cell_type": "code",
   "execution_count": 160,
   "id": "2839eee2-fda9-48cc-9f73-6acdf986f3fa",
   "metadata": {},
   "outputs": [
    {
     "name": "stdout",
     "output_type": "stream",
     "text": [
      "MAE: 261.1658032916365\n",
      "MSE:  260160.67152128238\n",
      "R2:  0.9839869325484577\n",
      "NRMSE:  -510.0594784152946\n"
     ]
    }
   ],
   "source": [
    "b6_val_clf = b6_test_clf.best_estimator_\n",
    "b6_val_clf.fit(X_train2, y_train2)\n",
    "b6_val_preds = b6_val_clf.predict(X_val)\n",
    "\n",
    "# Evaluate the model\n",
    "b6_val_mae = mean_absolute_error(y_val, b6_val_preds)\n",
    "b6_val_mse = mean_squared_error(y_val, b6_val_preds)\n",
    "b6_val_r2 = r2_score(y_val, b6_val_preds)\n",
    "\n",
    "print('MAE:', b6_val_mae)\n",
    "print(\"MSE: \",b6_val_mse)\n",
    "print(\"R2: \",b6_val_r2)\n",
    "print(\"NRMSE: \",-np.sqrt(b6_val_mse))"
   ]
  },
  {
   "cell_type": "markdown",
   "id": "8eaf736f-bbe9-4de8-a8c8-2ed7f77722f0",
   "metadata": {},
   "source": [
    "**Test Prediction**"
   ]
  },
  {
   "cell_type": "code",
   "execution_count": 161,
   "id": "ddfc7181-4808-4091-a097-2a63265268ea",
   "metadata": {},
   "outputs": [
    {
     "name": "stdout",
     "output_type": "stream",
     "text": [
      "MAE: 255.94975715272105\n",
      "MSE:  230639.96527167456\n",
      "R2:  0.985738185239797\n",
      "NRMSE:  -480.2498987732059\n"
     ]
    }
   ],
   "source": [
    "b6_Te_clf = b6_test_clf.best_estimator_\n",
    "b6_Te_clf.fit(X_train, y_train)\n",
    "b6_test_preds = b6_Te_clf.predict(X_test)\n",
    "\n",
    "# Evaluate the model\n",
    "b6_test_mae = mean_absolute_error(y_test, b6_test_preds)\n",
    "b6_test_mse = mean_squared_error(y_test, b6_test_preds)\n",
    "b6_test_r2 = r2_score(y_test, b6_test_preds)\n",
    "\n",
    "print('MAE:', b6_test_mae)\n",
    "print(\"MSE: \",b6_test_mse)\n",
    "print(\"R2: \",b6_test_r2)\n",
    "print(\"NRMSE: \",-np.sqrt(b6_test_mse))"
   ]
  },
  {
   "cell_type": "markdown",
   "id": "cd883eed-58df-45aa-a0c0-53b4998bec4c",
   "metadata": {},
   "source": [
    "**Adjusted R2 R2**"
   ]
  },
  {
   "cell_type": "code",
   "execution_count": 162,
   "id": "ed385e64-8788-4452-9340-3ae0b3770396",
   "metadata": {},
   "outputs": [
    {
     "name": "stdout",
     "output_type": "stream",
     "text": [
      "adjusted R2:  0.9856904158565287\n"
     ]
    }
   ],
   "source": [
    "n = X_test.shape[0]\n",
    "p = X_test.shape[1]\n",
    "b6_ad_r2 = 1-(1-b6_test_r2)*(n-1)/(n-p-1)\n",
    "print(\"adjusted R2: \",b6_ad_r2)"
   ]
  },
  {
   "cell_type": "markdown",
   "id": "f3906dec-b808-48cb-9432-649577422f4c",
   "metadata": {},
   "source": [
    "### Baseline 6 Summary\n",
    "The model was  cross validated 5 times for NRMSE, then validated and tested 1 time for all the metrics:\n",
    "* **Mae**: validation set and test set around 250 and test performed slightly better. \n",
    "* **Mse**: validation set and test set around 250,000 and test performed slightly better.\n",
    "* **R2**: validation set and test set around 0.985 and test performed slightly better.\n",
    "* **NRMSE**: validation set and test set around 500 and validation performed slightly better.\n",
    "\n",
    "The performance of this baseline is very good but a little worse than the previous.\n",
    "\n",
    "Baseline 5 will be used for model deployment.\n",
    "\n",
    "The baseline is saved for comparison as a pandas dataframe: "
   ]
  },
  {
   "cell_type": "code",
   "execution_count": 163,
   "id": "74972139-14ff-4ded-a0de-e54b82adf786",
   "metadata": {},
   "outputs": [
    {
     "data": {
      "text/html": [
       "<div>\n",
       "<style scoped>\n",
       "    .dataframe tbody tr th:only-of-type {\n",
       "        vertical-align: middle;\n",
       "    }\n",
       "\n",
       "    .dataframe tbody tr th {\n",
       "        vertical-align: top;\n",
       "    }\n",
       "\n",
       "    .dataframe thead th {\n",
       "        text-align: right;\n",
       "    }\n",
       "</style>\n",
       "<table border=\"1\" class=\"dataframe\">\n",
       "  <thead>\n",
       "    <tr style=\"text-align: right;\">\n",
       "      <th></th>\n",
       "      <th>val_mae</th>\n",
       "      <th>val_mse</th>\n",
       "      <th>val_r2</th>\n",
       "      <th>val_nrmse</th>\n",
       "      <th>test_mae</th>\n",
       "      <th>test_mse</th>\n",
       "      <th>test_r2</th>\n",
       "      <th>test_nrmse</th>\n",
       "    </tr>\n",
       "  </thead>\n",
       "  <tbody>\n",
       "    <tr>\n",
       "      <th>Baseline6</th>\n",
       "      <td>261.166</td>\n",
       "      <td>260160.672</td>\n",
       "      <td>0.984</td>\n",
       "      <td>-510.059</td>\n",
       "      <td>255.950</td>\n",
       "      <td>230639.965</td>\n",
       "      <td>0.986</td>\n",
       "      <td>-480.250</td>\n",
       "    </tr>\n",
       "  </tbody>\n",
       "</table>\n",
       "</div>"
      ],
      "text/plain": [
       "           val_mae    val_mse  val_r2  val_nrmse  test_mae   test_mse  \\\n",
       "Baseline6  261.166 260160.672   0.984   -510.059   255.950 230639.965   \n",
       "\n",
       "           test_r2  test_nrmse  \n",
       "Baseline6    0.986    -480.250  "
      ]
     },
     "execution_count": 163,
     "metadata": {},
     "output_type": "execute_result"
    }
   ],
   "source": [
    "baseline6 = pd.DataFrame({\"val_mae\": b6_val_mae,\"val_mse\": b6_val_mse,\"val_r2\": b6_val_r2,\"val_nrmse\": -np.sqrt(b6_val_mse),\n",
    "                          \"test_mae\": b6_test_mae,\"test_mse\": b6_test_mse,\"test_r2\": b6_test_r2, \"test_nrmse\": -np.sqrt(b6_test_mse)}, index=[\"Baseline6\"])\n",
    "baseline6"
   ]
  },
  {
   "cell_type": "markdown",
   "id": "008f2056-a915-4089-aa78-5710c1943949",
   "metadata": {},
   "source": [
    "Final baselines df is saved:"
   ]
  },
  {
   "cell_type": "code",
   "execution_count": 164,
   "id": "1a41c3c7-1f97-4138-927f-e7291fe4ec23",
   "metadata": {},
   "outputs": [],
   "source": [
    "Baselines = pd.concat([baseline1,baseline2,baseline3,baseline4,baseline5,baseline6])\n",
    "Baselines.to_csv(\"Data/Baslines.csv\")"
   ]
  },
  {
   "cell_type": "code",
   "execution_count": 167,
   "id": "8f94d86e-3546-4052-8360-85ac356b33c4",
   "metadata": {},
   "outputs": [],
   "source": [
    "### Create a Pickle file using serialization \n",
    "import pickle\n",
    "pickle_out = open(\"Data/b5_Te_clf.pkl\",\"wb\")\n",
    "pickle.dump(b5_Te_clf, pickle_out)\n",
    "pickle_out.close()"
   ]
  },
  {
   "cell_type": "code",
   "execution_count": 165,
   "id": "bb20a25a-59ab-460f-ac15-b3496e38f2c5",
   "metadata": {},
   "outputs": [
    {
     "name": "stdout",
     "output_type": "stream",
     "text": [
      "full code execution time: 0:33:59.968145\n"
     ]
    }
   ],
   "source": [
    "end = timer()\n",
    "print(f\"full code execution time: {timedelta(seconds=end-start)}\")"
   ]
  }
 ],
 "metadata": {
  "kernelspec": {
   "display_name": "Python 3.8 (pytorch)",
   "language": "python",
   "name": "pytorch"
  },
  "language_info": {
   "codemirror_mode": {
    "name": "ipython",
    "version": 3
   },
   "file_extension": ".py",
   "mimetype": "text/x-python",
   "name": "python",
   "nbconvert_exporter": "python",
   "pygments_lexer": "ipython3",
   "version": "3.8.10"
  }
 },
 "nbformat": 4,
 "nbformat_minor": 5
}
