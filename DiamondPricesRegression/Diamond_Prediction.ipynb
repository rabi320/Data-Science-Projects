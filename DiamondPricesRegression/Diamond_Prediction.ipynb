{
 "cells": [
  {
   "cell_type": "markdown",
   "id": "075de871-3109-48c7-8cb8-b95b09f9b470",
   "metadata": {},
   "source": [
    "# Diamond Prediction\n",
    "\n",
    "After the exploratory data analysis, a prediction will be made.\n",
    "The folowing steps for this prediction:\n",
    "1. **Preprocessing** - Handle outliers, Feature engineering.\n",
    "2. **Predictions** - predicting with validation data and then with test data, metrics.\n",
    "3. **Evaluation** - Baselines for comparison.\n",
    "\n",
    "## Libraries & settings"
   ]
  },
  {
   "cell_type": "code",
   "execution_count": 1,
   "id": "18f08e35-fd9c-401b-91ab-0fcad91c18e8",
   "metadata": {},
   "outputs": [
    {
     "ename": "NameError",
     "evalue": "name 'pd' is not defined",
     "output_type": "error",
     "traceback": [
      "\u001b[1;31m---------------------------------------------------------------------------\u001b[0m",
      "\u001b[1;31mNameError\u001b[0m                                 Traceback (most recent call last)",
      "\u001b[1;32m<ipython-input-1-02da076f73e0>\u001b[0m in \u001b[0;36m<module>\u001b[1;34m\u001b[0m\n\u001b[0;32m     36\u001b[0m \u001b[1;33m\u001b[0m\u001b[0m\n\u001b[0;32m     37\u001b[0m \u001b[1;31m#settings\u001b[0m\u001b[1;33m\u001b[0m\u001b[1;33m\u001b[0m\u001b[1;33m\u001b[0m\u001b[0m\n\u001b[1;32m---> 38\u001b[1;33m \u001b[0mpd\u001b[0m\u001b[1;33m.\u001b[0m\u001b[0moptions\u001b[0m\u001b[1;33m.\u001b[0m\u001b[0mdisplay\u001b[0m\u001b[1;33m.\u001b[0m\u001b[0mfloat_format\u001b[0m \u001b[1;33m=\u001b[0m \u001b[1;34m'{:.3f}'\u001b[0m\u001b[1;33m.\u001b[0m\u001b[0mformat\u001b[0m\u001b[1;33m\u001b[0m\u001b[1;33m\u001b[0m\u001b[0m\n\u001b[0m",
      "\u001b[1;31mNameError\u001b[0m: name 'pd' is not defined"
     ]
    }
   ],
   "source": [
    "#numpy\n",
    "import numpy as np\n",
    "\n",
    "from sklearn.preprocessing import OrdinalEncoder\n",
    "from sklearn.linear_model import LinearRegression\n",
    "from sklearn.impute import SimpleImputer\n",
    "from sklearn.preprocessing import StandardScaler\n",
    "from sklearn.model_selection import GridSearchCV\n",
    "\n",
    "#model explainability\n",
    "import eli5\n",
    "from eli5.sklearn import PermutationImportance\n",
    "\n",
    "#pipeline tools\n",
    "from sklearn.preprocessing import FunctionTransformer\n",
    "from sklearn.pipeline import Pipeline\n",
    "from sklearn.pipeline import FeatureUnion\n",
    "from pipelinehelper import PipelineHelper\n",
    "from sklearn.compose import ColumnTransformer\n",
    "from sklearn.preprocessing import LabelEncoder\n",
    "#time related\n",
    "from timeit import default_timer as timer\n",
    "from datetime import timedelta\n",
    "\n",
    "#timer for entire code\n",
    "start = timer()\n",
    "\n",
    "#warning hadle\n",
    "import warnings\n",
    "warnings.filterwarnings(\"always\")\n",
    "warnings.filterwarnings(\"ignore\")\n",
    "\n",
    "#plotly\n",
    "import plotly.io as pio\n",
    "pio.renderers.default = \"plotly_mimetype+notebook_connected\"\n",
    "\n",
    "#settings\n",
    "pd.options.display.float_format = '{:.3f}'.format"
   ]
  },
  {
   "cell_type": "markdown",
   "id": "30778a77-0008-4032-b0fd-64b13d9fb356",
   "metadata": {},
   "source": [
    "## Baseline 1: Basic approach\n",
    "\n",
    "### Decisions:\n",
    "* **Preprocessing:**\n",
    "    1. **Outliers:** **continuous** - fill with median.               \n",
    "    2. **Feature Engineering**: only categoric labels, OrdinalEncoder.\n",
    "* **Model training** - using cross validation in validation data on a simple linear regression model.\n",
    "* **Model testing** - train on whole train + validation set and use test data for results.\n",
    "* **Model evaluating** - record for validation and test the following metrics:\n",
    "    1. MSE - [Mean squared error](https://en.wikipedia.org/wiki/Mean_squared_error)\n",
    "    2. R2 - [R Square](https://en.wikipedia.org/wiki/Coefficient_of_determination)\n",
    "    3. MAE - [Mean absolut error](https://en.wikipedia.org/wiki/Mean_absolute_error)\n",
    "    4. NRMSE - [Negative root mean squared error](https://en.wikipedia.org/wiki/Root-mean-square_deviation)\n",
    "    \n",
    "\n",
    "**Preprocessing**"
   ]
  },
  {
   "cell_type": "code",
   "execution_count": null,
   "id": "4b677844-8394-404d-a101-0943b304aa35",
   "metadata": {},
   "outputs": [],
   "source": [
    "# Preprocessing for continuous data\n",
    "\n",
    "def Outlier_Detector(X,factor):\n",
    "    X = pd.DataFrame(X).copy()\n",
    "    for i in range(X.shape[1]):\n",
    "        x = pd.Series(X.iloc[:,i]).copy()\n",
    "        q1 = x.quantile(0.25)\n",
    "        q3 = x.quantile(0.75)\n",
    "        iqr = q3 - q1\n",
    "        lower_bound = q1 - (factor * iqr)\n",
    "        upper_bound = q3 + (factor * iqr)\n",
    "        X.iloc[((X.iloc[:,i] < lower_bound) | (X.iloc[:,i] > upper_bound)),i] = np.nan \n",
    "    return X\n",
    "\n",
    "#creating outlier_remover object using FunctionTransformer with factor=1.5\n",
    "Outlier = FunctionTransformer(Outlier_Detector,kw_args={'factor':1.5})\n",
    "\n",
    "#contiuous_transformer = SimpleImputer(strategy='median')\n",
    "\n",
    "contiuous_transformer = Pipeline(steps=[\n",
    "('outlier', Outlier),\n",
    "('imputer', SimpleImputer(strategy='median'))\n",
    "])\n",
    "\n",
    "# building categorical transformers (worst to best)\n",
    "cut_enc = OrdinalEncoder(categories=[[\"Fair\", \"Good\", \"Very Good\", \"Premium\",\"Ideal\"]])\n",
    "color_enc = OrdinalEncoder(categories=[['J', 'I', 'H', 'G', 'F', 'E','D']])\n",
    "clarity_enc = OrdinalEncoder(categories=[[\"I1\", \"SI2\", \"SI1\", \"VS2\", \"VS1\", \"VVS2\", \"VVS1\",'IF']])\n",
    "\n",
    "\n",
    "# Create preprocessor\n",
    "preprocessor = ColumnTransformer(\n",
    "    transformers=[\n",
    "        ('num', contiuous_transformer, Continuous),\n",
    "        ('cuts', cut_enc, [\"cut\"]),\n",
    "        ('colors', color_enc, [\"color\"]),\n",
    "        ('clarities', clarity_enc, [\"clarity\"])\n",
    "    ])"
   ]
  },
  {
   "cell_type": "markdown",
   "id": "6d26d7c0-67f6-416f-8b04-92c81257a8f7",
   "metadata": {},
   "source": [
    "**Model**"
   ]
  },
  {
   "cell_type": "code",
   "execution_count": null,
   "id": "2caf2350-bccc-4674-a7f8-334012cf073e",
   "metadata": {},
   "outputs": [],
   "source": [
    "model = LinearRegression()"
   ]
  },
  {
   "cell_type": "markdown",
   "id": "6168dccc-d8fb-454b-825f-8636d27f0e62",
   "metadata": {},
   "source": [
    "**Final Pipeline**"
   ]
  },
  {
   "cell_type": "code",
   "execution_count": null,
   "id": "0e7897e5-d695-4b08-8b0a-6ae5c7f065ce",
   "metadata": {},
   "outputs": [],
   "source": [
    "# Bundle preprocessing and modeling code in a pipeline\n",
    "Baseline1 = Pipeline(steps=[('preprocessor', preprocessor),\n",
    "                              ('model', model)\n",
    "                             ])\n",
    "\n",
    "# Preprocessing of training data, fit model \n",
    "Baseline1.fit(X_train2, y_train2)"
   ]
  },
  {
   "cell_type": "markdown",
   "id": "6fd5d8de-891c-4d01-af1f-c10667c7551e",
   "metadata": {},
   "source": [
    "**Validation Prediction**"
   ]
  },
  {
   "cell_type": "code",
   "execution_count": null,
   "id": "b03f38de-eefd-4b87-a2fe-7f37a178a9ef",
   "metadata": {},
   "outputs": [],
   "source": [
    "from sklearn.metrics import mean_absolute_error\n",
    "from sklearn.metrics import mean_squared_error\n",
    "from sklearn.metrics import r2_score\n",
    "\n",
    "\n",
    "# Preprocessing of validation data, get predictions\n",
    "b1_val_preds = Baseline1.predict(X_val)\n",
    "\n",
    "# Evaluate the model\n",
    "b1_val_mae = mean_absolute_error(y_val, b1_val_preds)\n",
    "b1_val_mse = mean_squared_error(y_val, b1_val_preds)\n",
    "b1_val_r2 = r2_score(y_val, b1_val_preds)\n",
    "\n",
    "print('MAE:', b1_val_mae)\n",
    "print(\"MSE: \",b1_val_mse)\n",
    "print(\"R2: \",b1_val_r2)"
   ]
  },
  {
   "cell_type": "markdown",
   "id": "0e649dc2-d86d-406e-8a46-13daa040d1d0",
   "metadata": {},
   "source": [
    "**Cross Validation Prediction (NRMSE)**"
   ]
  },
  {
   "cell_type": "code",
   "execution_count": null,
   "id": "5a47b14b-052e-4f42-8b26-231ff144862d",
   "metadata": {},
   "outputs": [],
   "source": [
    "from sklearn.model_selection import cross_val_score\n",
    "CV = cross_val_score(Baseline1, X_train, y_train, cv=5, scoring = \"neg_root_mean_squared_error\")\n",
    "print(f\"validation negative root mean squared error on 5 fold cross validation: {CV}\")\n",
    "print(f\"validation negative root mean squared error accuracy: {CV.mean()}\")"
   ]
  },
  {
   "cell_type": "markdown",
   "id": "ec0827ee-9894-4619-a21c-3208b27bff44",
   "metadata": {},
   "source": [
    "**Test Prediction**"
   ]
  },
  {
   "cell_type": "code",
   "execution_count": null,
   "id": "0e38d0d7-d515-4448-849f-e7b02bfcf9de",
   "metadata": {},
   "outputs": [],
   "source": [
    "Baseline1.fit(X_train, y_train)\n",
    "b1_test_preds = Baseline1.predict(X_test)\n",
    "b1_test_mae = mean_absolute_error(y_test, b1_test_preds)\n",
    "b1_test_mse = mean_squared_error(y_test, b1_test_preds)\n",
    "b1_test_r2 = r2_score(y_test, b1_test_preds)\n",
    "print('MAE:', b1_test_mae)\n",
    "print(\"MSE: \",b1_test_mse)\n",
    "print(\"R2: \",b1_test_r2)"
   ]
  },
  {
   "cell_type": "markdown",
   "id": "4cf1888e-8bea-40eb-bf64-7de682e6f973",
   "metadata": {},
   "source": [
    "**Test NRMSE**"
   ]
  },
  {
   "cell_type": "code",
   "execution_count": null,
   "id": "a65aa5ab-b44c-4794-931e-7314aaac2033",
   "metadata": {},
   "outputs": [],
   "source": [
    "print(\"NRMSE: \",-np.sqrt(b1_test_mse))"
   ]
  },
  {
   "cell_type": "markdown",
   "id": "e757c383-f10d-478e-ab82-81516d38196f",
   "metadata": {},
   "source": [
    "**Model Explainability**\n",
    "\n",
    "The chosen method is [Permutation](https://brilliant.org/wiki/permutations/#permutations-problem-solving) Importance.\n",
    "Each feature is shuffled and predicted with the rest of the normally ordered columns, where the weights are mostly changed in positive numbers means they most effect the model. negative means the model performed better with this random ordered feature, which means it's that it is useless as a predictor."
   ]
  },
  {
   "cell_type": "code",
   "execution_count": null,
   "id": "6a30f74b-3de5-4b95-9277-9a9c9263d448",
   "metadata": {},
   "outputs": [],
   "source": [
    "x_tr = Baseline1.named_steps[\"preprocessor\"].fit_transform(X_train)#preprocess inputs\n",
    "perm = PermutationImportance(Baseline1.named_steps[\"model\"]).fit(x_tr, y_train)#fit model\n",
    "eli5.show_weights(perm, feature_names = X_train.columns.tolist())#show results"
   ]
  },
  {
   "cell_type": "markdown",
   "id": "4c8bc88b-c123-49c9-a1a8-75597f8d21b9",
   "metadata": {},
   "source": [
    "**insights:**\n",
    "* depth is very important for this models prediction. \n",
    "* color has no effect on the models predictions.\n",
    "* only table, z and clarity has a big effect on the model other featres less so."
   ]
  },
  {
   "cell_type": "markdown",
   "id": "02cbffaf-6838-4db5-a1d8-fb6181998b7f",
   "metadata": {},
   "source": [
    "### Baseline 1 Summary\n",
    "The model was validated with mse, mae and r2, cross validated 5 times for NRMSE, and tested 1 time for all the metrics:\n",
    "* **Mae**: validation set and test set around 1,200 and validation performed slightly better. \n",
    "* **Mse**: validation set and test set around 2,650,000 and validation performed slightly better.\n",
    "* **R2**: validation set and test set around 0.83 and validation performed slightly better.\n",
    "* **NRMSE**: validation set and test set around 1,600 and validation performed slightly better.\n",
    "\n",
    "The baseline is saved for comparison as a pandas dataframe: "
   ]
  },
  {
   "cell_type": "code",
   "execution_count": null,
   "id": "693f2bbd-231b-4660-a874-2304f6ef5b21",
   "metadata": {},
   "outputs": [],
   "source": [
    "baseline1 = pd.DataFrame({\"val_mae\": b1_val_mae,\"val_mse\": b1_val_mse,\"val_r2\": b1_val_r2,\"val_nrmse\": CV.mean(),\"test_mae\": b1_test_mae,\"test_mse\": b1_test_mse,\"test_r2\": b1_test_r2, \"test_nrmse\": -np.sqrt(b1_test_mse)}, index=[\"Baseline1\"])\n",
    "baseline1"
   ]
  },
  {
   "cell_type": "markdown",
   "id": "36168a5b-b8bc-4db1-93d4-84a682eaa192",
   "metadata": {},
   "source": [
    "## Baseline 2: Preprocess Parameter tuning\n",
    "\n",
    "### Decisions:\n",
    "* **Preprocessing:**\n",
    "    1. **Outliers:**  **continuous** - choose what is considered an outlier, fill with median/mean and scaling.               \n",
    "    2. **Feature Engineering**: only categoric labels, OrdinalEncoder.\n",
    "* **Model training** - using cross validation in validation data on a simple linear regression model.\n",
    "* **Model testing** - validate with grid search and validation set then train on whole train + validation set and use test data for results.\n",
    "* **Model evaluating** - record for validation and test the following metrics:\n",
    "    1. MSE - [Mean squared error](https://en.wikipedia.org/wiki/Mean_squared_error)\n",
    "    2. R2 - [R Square](https://en.wikipedia.org/wiki/Coefficient_of_determination)\n",
    "    3. MAE - [Mean absolut error](https://en.wikipedia.org/wiki/Mean_absolute_error)\n",
    "    4. NRMSE - [Negative root mean squared error](https://en.wikipedia.org/wiki/Root-mean-square_deviation)\n",
    "    \n",
    "\n",
    "**Preprocessing**"
   ]
  },
  {
   "cell_type": "code",
   "execution_count": null,
   "id": "d19bcc2f-e476-424f-ba4f-bdbe1a89e662",
   "metadata": {},
   "outputs": [],
   "source": [
    "# Preprocessing for continuous data\n",
    "Outlier2 = FunctionTransformer(Outlier_Detector,kw_args={'factor':np.nan})\n",
    "\n",
    "#contiuous_transformer = SimpleImputer(strategy='median')\n",
    "\n",
    "contiuous_transformer = Pipeline(steps=[\n",
    "('outlier', Outlier2),\n",
    "('imputer', SimpleImputer()),\n",
    "('scaler', StandardScaler())    \n",
    "])\n",
    "\n",
    "# Create preprocessor\n",
    "preprocessor = ColumnTransformer(\n",
    "    transformers=[\n",
    "        ('num', contiuous_transformer, Continuous),\n",
    "        ('cuts', cut_enc, [\"cut\"]),\n",
    "        ('colors', color_enc, [\"color\"]),\n",
    "        ('clarities', clarity_enc, [\"clarity\"])\n",
    "    ])"
   ]
  },
  {
   "cell_type": "markdown",
   "id": "759e6660-abf9-4601-bd36-7bf2a4d23760",
   "metadata": {},
   "source": [
    "**Final Pipeline**"
   ]
  },
  {
   "cell_type": "code",
   "execution_count": null,
   "id": "9afe37d8-9755-46b0-9f3f-5c9b439154a5",
   "metadata": {},
   "outputs": [],
   "source": [
    "# Bundle preprocessing and modeling code in a pipeline\n",
    "Baseline2 = Pipeline(steps=[('preprocessor', preprocessor),\n",
    "                              ('model', model)\n",
    "                             ])\n",
    "\n",
    "# Preprocessing of training data, fit model \n",
    "Baseline2.fit(X_train2, y_train2)"
   ]
  },
  {
   "cell_type": "code",
   "execution_count": null,
   "id": "01f0fe1b-4ea3-4ee2-8337-0ff4d0ce87e5",
   "metadata": {},
   "outputs": [],
   "source": [
    "Baseline2.get_params().keys()"
   ]
  },
  {
   "cell_type": "markdown",
   "id": "37016141-9ae8-460a-b76b-d52191eb5f0c",
   "metadata": {},
   "source": [
    "**Parameter tuning and grid search**\n",
    "\n",
    "the factor of the outlier is being grid searched as well as impute strategy:"
   ]
  },
  {
   "cell_type": "code",
   "execution_count": null,
   "id": "f299c8f2-038a-40f6-93e4-834641bd2750",
   "metadata": {},
   "outputs": [],
   "source": [
    "hyperparameters = {'preprocessor__num__outlier__kw_args':[{'factor':0},{'factor':0.5},{'factor':1},{'factor':1.5},{'factor':2},{'factor':2.5},{'factor':3}],\n",
    "              'preprocessor__num__imputer__strategy':['mean','median']}\n",
    "#grid search\n",
    "b2_test_clf = GridSearchCV(Baseline2, hyperparameters,cv = 5, scoring = \"neg_root_mean_squared_error\", n_jobs = -1, verbose = 2) "
   ]
  },
  {
   "cell_type": "code",
   "execution_count": null,
   "id": "c936e748-f1e0-42f9-9881-7e7d9f1f9f65",
   "metadata": {},
   "outputs": [],
   "source": [
    "%%time\n",
    "# Fit and tune model\n",
    "b2_test_clf.fit(X_train, y_train)"
   ]
  },
  {
   "cell_type": "code",
   "execution_count": null,
   "id": "d2b77f2b-23bb-49a4-ad1d-9a8a5b831829",
   "metadata": {},
   "outputs": [],
   "source": [
    "b2_test_clf.best_params_"
   ]
  },
  {
   "cell_type": "code",
   "execution_count": null,
   "id": "9d6de03e-02ca-48ac-a5a0-d3a49cd44019",
   "metadata": {},
   "outputs": [],
   "source": [
    "b2_val_clf = b2_test_clf.best_estimator_\n",
    "b2_val_clf.fit(X_train2, y_train2)\n",
    "b2_val_preds = b2_val_clf.predict(X_val)\n",
    "\n",
    "# Evaluate the model\n",
    "b2_val_mae = mean_absolute_error(y_val, b2_val_preds)\n",
    "b2_val_mse = mean_squared_error(y_val, b2_val_preds)\n",
    "b2_val_r2 = r2_score(y_val, b2_val_preds)\n",
    "\n",
    "print('MAE:', b2_val_mae)\n",
    "print(\"MSE: \",b2_val_mse)\n",
    "print(\"R2: \",b2_val_r2)\n",
    "print(\"NRMSE: \",-np.sqrt(b2_val_mse))"
   ]
  },
  {
   "cell_type": "code",
   "execution_count": null,
   "id": "ee74f807-17dc-447c-9fee-ecc345585a2a",
   "metadata": {},
   "outputs": [],
   "source": [
    "b2_Te_clf = b2_test_clf.best_estimator_\n",
    "b2_Te_clf.fit(X_train, y_train)\n",
    "b2_test_preds = b2_Te_clf.predict(X_test)\n",
    "\n",
    "# Evaluate the model\n",
    "b2_test_mae = mean_absolute_error(y_test, b2_test_preds)\n",
    "b2_test_mse = mean_squared_error(y_test, b2_test_preds)\n",
    "b2_test_r2 = r2_score(y_test, b2_test_preds)\n",
    "\n",
    "print('MAE:', b2_test_mae)\n",
    "print(\"MSE: \",b2_test_mse)\n",
    "print(\"R2: \",b2_test_r2)\n",
    "print(\"NRMSE: \",-np.sqrt(b2_test_mse))"
   ]
  },
  {
   "cell_type": "code",
   "execution_count": null,
   "id": "a39431f8-f6b1-45cd-927c-d6ebbdc13f7f",
   "metadata": {},
   "outputs": [],
   "source": [
    "x_tr = b2_test_clf.best_estimator_.named_steps[\"preprocessor\"].fit_transform(X_train)#preprocess inputs\n",
    "perm = PermutationImportance(b2_test_clf.best_estimator_.named_steps[\"model\"]).fit(x_tr, y_train)#fit model\n",
    "eli5.show_weights(perm, feature_names = X_train.columns.tolist())#show results"
   ]
  },
  {
   "cell_type": "markdown",
   "id": "79ee3b2c-9c2b-424f-98b0-75789ef07335",
   "metadata": {},
   "source": [
    "**insights:**\n",
    "* carat is very important for this models prediction. \n",
    "* color and cut has no effect on the models predictions.\n",
    "* only depth, z and clarity has a big effect on the model other featres less so.\n",
    "\n",
    "### Baseline 2 Summary\n",
    "The model was  cross validated 5 times for NRMSE, then validated and tested 1 time for all the metrics:\n",
    "* **Mae**: validation set and test set around 800 and test performed slightly better. \n",
    "* **Mse**: validation set and test set around 1,400,000 and validation performed slightly better.\n",
    "* **R2**: validation set and test set around 0.91 and validation performed slightly better.\n",
    "* **NRMSE**: validation set and test set around 1,200 and validation performed slightly better.\n",
    "\n",
    "The baseline is saved for comparison as a pandas dataframe: "
   ]
  },
  {
   "cell_type": "code",
   "execution_count": null,
   "id": "6a62083c-2f33-4c5f-9208-caf5359fdf66",
   "metadata": {},
   "outputs": [],
   "source": [
    "baseline2 = pd.DataFrame({\"val_mae\": b2_val_mae,\"val_mse\": b2_val_mse,\"val_r2\": b2_val_r2,\"val_nrmse\": -np.sqrt(b2_val_mse),\n",
    "                          \"test_mae\": b2_test_mae,\"test_mse\": b2_test_mse,\"test_r2\": b2_test_r2, \"test_nrmse\": -np.sqrt(b2_test_mse)}, index=[\"Baseline2\"])\n",
    "baseline2"
   ]
  },
  {
   "cell_type": "markdown",
   "id": "0df4fce9-8168-4dd2-8e5e-62921b5b4dcc",
   "metadata": {
    "tags": []
   },
   "source": [
    "The baselines are saved together for comparison as a pandas dataframe:"
   ]
  },
  {
   "cell_type": "code",
   "execution_count": null,
   "id": "93bc44b9-57bd-4d3d-89b9-0ac8cdd2ae84",
   "metadata": {},
   "outputs": [],
   "source": [
    "Baselines = pd.concat([baseline1,baseline2])\n",
    "Baselines"
   ]
  }
 ],
 "metadata": {
  "kernelspec": {
   "display_name": "Python 3",
   "language": "python",
   "name": "python3"
  },
  "language_info": {
   "codemirror_mode": {
    "name": "ipython",
    "version": 3
   },
   "file_extension": ".py",
   "mimetype": "text/x-python",
   "name": "python",
   "nbconvert_exporter": "python",
   "pygments_lexer": "ipython3",
   "version": "3.8.10"
  }
 },
 "nbformat": 4,
 "nbformat_minor": 5
}
