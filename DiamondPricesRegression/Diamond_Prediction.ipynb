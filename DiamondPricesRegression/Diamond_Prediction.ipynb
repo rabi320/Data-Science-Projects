{
 "cells": [
  {
   "cell_type": "markdown",
   "id": "075de871-3109-48c7-8cb8-b95b09f9b470",
   "metadata": {},
   "source": [
    "# Diamond Prediction\n",
    "\n",
    "After the exploratory data analysis, a prediction will be made.\n",
    "The folowing steps for this prediction:\n",
    "1. **Preprocessing** - Handle outliers, Feature engineering.\n",
    "2. **Predictions** - predicting with validation data and then with test data, metrics.\n",
    "3. **Evaluation** - Baselines for comparison.\n",
    "\n",
    "## Libraries & settings"
   ]
  },
  {
   "cell_type": "code",
   "execution_count": 18,
   "id": "18f08e35-fd9c-401b-91ab-0fcad91c18e8",
   "metadata": {},
   "outputs": [],
   "source": [
    "#numpy\n",
    "import numpy as np\n",
    "\n",
    "from sklearn.preprocessing import OrdinalEncoder\n",
    "from sklearn.linear_model import LinearRegression\n",
    "from sklearn.impute import SimpleImputer\n",
    "\n",
    "#pipeline tools\n",
    "from sklearn.preprocessing import FunctionTransformer\n",
    "from sklearn.pipeline import Pipeline\n",
    "from sklearn.pipeline import FeatureUnion\n",
    "from pipelinehelper import PipelineHelper\n",
    "from sklearn.compose import ColumnTransformer\n",
    "from sklearn.preprocessing import LabelEncoder\n",
    "#time related\n",
    "from timeit import default_timer as timer\n",
    "from datetime import timedelta\n",
    "\n",
    "#timer for entire code\n",
    "start = timer()\n",
    "\n",
    "#warning hadle\n",
    "import warnings\n",
    "warnings.filterwarnings(\"always\")\n",
    "warnings.filterwarnings(\"ignore\")\n",
    "\n",
    "#plotly\n",
    "import plotly.io as pio\n",
    "pio.renderers.default = \"plotly_mimetype+notebook_connected\""
   ]
  },
  {
   "cell_type": "markdown",
   "id": "30778a77-0008-4032-b0fd-64b13d9fb356",
   "metadata": {},
   "source": [
    "## Baseline 1: Basic approach\n",
    "\n",
    "### Decisions:\n",
    "* **Preprocessing:**\n",
    "    1. **Outliers:** **Categoric** - fill with most frequent. **continuous** - fill with median.               \n",
    "    2. **Feature Engineering**: only categoric labels, OrdinalEncoder.\n",
    "* **Model training** - using cross validation in validation data on a simple linear regression model.\n",
    "* **Model testing** - train on whole train + validation set and use test data for results.\n",
    "* **Model evaluating** - record for validation and test the following metrics:\n",
    "    1. MSE - [Mean score error](https://en.wikipedia.org/wiki/Mean_squared_error)\n",
    "    2. R2 - [R Square](https://en.wikipedia.org/wiki/Coefficient_of_determination)\n",
    "    3. MAE - [Mean absolut error](https://en.wikipedia.org/wiki/Mean_absolute_error)\n",
    "    \n",
    "\n",
    "**Preprocessing**"
   ]
  },
  {
   "cell_type": "code",
   "execution_count": 19,
   "id": "4b677844-8394-404d-a101-0943b304aa35",
   "metadata": {},
   "outputs": [],
   "source": [
    "# Preprocessing for continuous data\n",
    "\n",
    "def Outlier_Detector(X,factor):\n",
    "    X = pd.DataFrame(X).copy()\n",
    "    for i in range(X.shape[1]):\n",
    "        x = pd.Series(X.iloc[:,i]).copy()\n",
    "        q1 = x.quantile(0.25)\n",
    "        q3 = x.quantile(0.75)\n",
    "        iqr = q3 - q1\n",
    "        lower_bound = q1 - (factor * iqr)\n",
    "        upper_bound = q3 + (factor * iqr)\n",
    "        X.iloc[((X.iloc[:,i] < lower_bound) | (X.iloc[:,i] > upper_bound)),i] = np.nan \n",
    "    return X\n",
    "\n",
    "#creating outlier_remover object using FunctionTransformer with factor=1.5\n",
    "Outlier = FunctionTransformer(Outlier_Detector,kw_args={'factor':1.5})\n",
    "\n",
    "#contiuous_transformer = SimpleImputer(strategy='median')\n",
    "\n",
    "contiuous_transformer = Pipeline(steps=[\n",
    "('outlier', Outlier),\n",
    "('imputer', SimpleImputer(strategy='median'))\n",
    "])\n",
    "\n",
    "# building categorical transformers (worst to best)\n",
    "cut_enc = OrdinalEncoder(categories=[[\"Fair\", \"Good\", \"Very Good\", \"Premium\",\"Ideal\"]])\n",
    "color_enc = OrdinalEncoder(categories=[['J', 'I', 'H', 'G', 'F', 'E','D']])\n",
    "clarity_enc = OrdinalEncoder(categories=[[\"I1\", \"SI2\", \"SI1\", \"VS2\", \"VS1\", \"VVS2\", \"VVS1\",'IF']])\n",
    "\n",
    "\n",
    "# Create preprocessor\n",
    "preprocessor = ColumnTransformer(\n",
    "    transformers=[\n",
    "        ('num', contiuous_transformer, Continuous),\n",
    "        ('cuts', cut_enc, [\"cut\"]),\n",
    "        ('colors', color_enc, [\"color\"]),\n",
    "        ('clarities', clarity_enc, [\"clarity\"])\n",
    "    ])"
   ]
  },
  {
   "cell_type": "code",
   "execution_count": 20,
   "id": "2caf2350-bccc-4674-a7f8-334012cf073e",
   "metadata": {},
   "outputs": [],
   "source": [
    "model = LinearRegression()"
   ]
  },
  {
   "cell_type": "code",
   "execution_count": 21,
   "id": "0e7897e5-d695-4b08-8b0a-6ae5c7f065ce",
   "metadata": {},
   "outputs": [
    {
     "data": {
      "text/plain": [
       "Pipeline(steps=[('preprocessor',\n",
       "                 ColumnTransformer(transformers=[('num',\n",
       "                                                  Pipeline(steps=[('outlier',\n",
       "                                                                   FunctionTransformer(func=<function Outlier_Detector at 0x000001DAFB68A790>,\n",
       "                                                                                       kw_args={'factor': 1.5})),\n",
       "                                                                  ('imputer',\n",
       "                                                                   SimpleImputer(strategy='median'))]),\n",
       "                                                  ['carat', 'depth', 'table',\n",
       "                                                   'x', 'y', 'z']),\n",
       "                                                 ('cuts',\n",
       "                                                  OrdinalEncoder(categories=[['Fair',\n",
       "                                                                              'Good',\n",
       "                                                                              'Very '\n",
       "                                                                              'Good',\n",
       "                                                                              'Premium',\n",
       "                                                                              'Ideal']]),\n",
       "                                                  ['cut']),\n",
       "                                                 ('colors',\n",
       "                                                  OrdinalEncoder(categories=[['J',\n",
       "                                                                              'I',\n",
       "                                                                              'H',\n",
       "                                                                              'G',\n",
       "                                                                              'F',\n",
       "                                                                              'E',\n",
       "                                                                              'D']]),\n",
       "                                                  ['color']),\n",
       "                                                 ('clarities',\n",
       "                                                  OrdinalEncoder(categories=[['I1',\n",
       "                                                                              'SI2',\n",
       "                                                                              'SI1',\n",
       "                                                                              'VS2',\n",
       "                                                                              'VS1',\n",
       "                                                                              'VVS2',\n",
       "                                                                              'VVS1',\n",
       "                                                                              'IF']]),\n",
       "                                                  ['clarity'])])),\n",
       "                ('model', LinearRegression())])"
      ]
     },
     "execution_count": 21,
     "metadata": {},
     "output_type": "execute_result"
    }
   ],
   "source": [
    "# Bundle preprocessing and modeling code in a pipeline\n",
    "Baseline1 = Pipeline(steps=[('preprocessor', preprocessor),\n",
    "                              ('model', model)\n",
    "                             ])\n",
    "\n",
    "# Preprocessing of training data, fit model \n",
    "Baseline1.fit(X_train2, y_train2)"
   ]
  },
  {
   "cell_type": "code",
   "execution_count": 22,
   "id": "b03f38de-eefd-4b87-a2fe-7f37a178a9ef",
   "metadata": {},
   "outputs": [
    {
     "name": "stdout",
     "output_type": "stream",
     "text": [
      "MAE: 1227.2738971261278\n",
      "MSE:  2652792.3125459263\n",
      "R2:  0.8367188169244258\n"
     ]
    }
   ],
   "source": [
    "from sklearn.metrics import mean_absolute_error\n",
    "from sklearn.metrics import mean_squared_error\n",
    "from sklearn.metrics import r2_score\n",
    "\n",
    "\n",
    "# Preprocessing of validation data, get predictions\n",
    "b1_val_preds = Baseline1.predict(X_val)\n",
    "\n",
    "# Evaluate the model\n",
    "b1_val_mae = mean_absolute_error(y_val, b1_val_preds)\n",
    "b1_val_mse = mean_squared_error(y_val, b1_val_preds)\n",
    "b1_val_r2 = r2_score(y_val, b1_val_preds)\n",
    "\n",
    "print('MAE:', b1_val_mae)\n",
    "print(\"MSE: \",b1_val_mse)\n",
    "print(\"R2: \",b1_val_r2)"
   ]
  },
  {
   "cell_type": "code",
   "execution_count": 23,
   "id": "5a47b14b-052e-4f42-8b26-231ff144862d",
   "metadata": {},
   "outputs": [
    {
     "name": "stdout",
     "output_type": "stream",
     "text": [
      "validation negative root mean squared error on 5 fold cross validation: [-1674.34968697 -1594.12551928 -1562.22328898 -1589.48519538\n",
      " -1627.25022853]\n",
      "validation negative root mean squared error accuracy: -1609.4867838266748\n"
     ]
    }
   ],
   "source": [
    "from sklearn.model_selection import cross_val_score\n",
    "CV = cross_val_score(Baseline1, X_train, y_train, cv=5, scoring = \"neg_root_mean_squared_error\")\n",
    "print(f\"validation negative root mean squared error on 5 fold cross validation: {CV}\")\n",
    "print(f\"validation negative root mean squared error accuracy: {CV.mean()}\")"
   ]
  },
  {
   "cell_type": "code",
   "execution_count": 24,
   "id": "0e38d0d7-d515-4448-849f-e7b02bfcf9de",
   "metadata": {},
   "outputs": [
    {
     "name": "stdout",
     "output_type": "stream",
     "text": [
      "MAE: 1249.8900248224795\n",
      "MSE:  2697964.8791565355\n",
      "R2:  0.8331690897943889\n"
     ]
    }
   ],
   "source": [
    "Baseline1.fit(X_train, y_train)\n",
    "b1_test_preds = Baseline1.predict(X_test)\n",
    "b1_test_mae = mean_absolute_error(y_test, b1_test_preds)\n",
    "b1_test_mse = mean_squared_error(y_test, b1_test_preds)\n",
    "b1_test_r2 = r2_score(y_test, b1_test_preds)\n",
    "print('MAE:', b1_test_mae)\n",
    "print(\"MSE: \",b1_test_mse)\n",
    "print(\"R2: \",b1_test_r2)"
   ]
  },
  {
   "cell_type": "code",
   "execution_count": 25,
   "id": "a65aa5ab-b44c-4794-931e-7314aaac2033",
   "metadata": {},
   "outputs": [
    {
     "name": "stdout",
     "output_type": "stream",
     "text": [
      "NRMSE:  -1642.5482882267222\n"
     ]
    }
   ],
   "source": [
    "print(\"NRMSE: \",-np.sqrt(b1_test_mse))"
   ]
  },
  {
   "cell_type": "code",
   "execution_count": 28,
   "id": "693f2bbd-231b-4660-a874-2304f6ef5b21",
   "metadata": {},
   "outputs": [
    {
     "data": {
      "text/html": [
       "<div>\n",
       "<style scoped>\n",
       "    .dataframe tbody tr th:only-of-type {\n",
       "        vertical-align: middle;\n",
       "    }\n",
       "\n",
       "    .dataframe tbody tr th {\n",
       "        vertical-align: top;\n",
       "    }\n",
       "\n",
       "    .dataframe thead th {\n",
       "        text-align: right;\n",
       "    }\n",
       "</style>\n",
       "<table border=\"1\" class=\"dataframe\">\n",
       "  <thead>\n",
       "    <tr style=\"text-align: right;\">\n",
       "      <th></th>\n",
       "      <th>val_mae</th>\n",
       "      <th>val_mse</th>\n",
       "      <th>val_r2</th>\n",
       "      <th>val_nrmse</th>\n",
       "      <th>test_mae</th>\n",
       "      <th>test_mse</th>\n",
       "      <th>test_r2</th>\n",
       "      <th>test_nrmse</th>\n",
       "    </tr>\n",
       "  </thead>\n",
       "  <tbody>\n",
       "    <tr>\n",
       "      <th>Baseline1</th>\n",
       "      <td>1227.273897</td>\n",
       "      <td>2.652792e+06</td>\n",
       "      <td>0.836719</td>\n",
       "      <td>-1609.486784</td>\n",
       "      <td>1249.890025</td>\n",
       "      <td>2.697965e+06</td>\n",
       "      <td>0.833169</td>\n",
       "      <td>-1642.548288</td>\n",
       "    </tr>\n",
       "  </tbody>\n",
       "</table>\n",
       "</div>"
      ],
      "text/plain": [
       "               val_mae       val_mse    val_r2    val_nrmse     test_mae  \\\n",
       "Baseline1  1227.273897  2.652792e+06  0.836719 -1609.486784  1249.890025   \n",
       "\n",
       "               test_mse   test_r2   test_nrmse  \n",
       "Baseline1  2.697965e+06  0.833169 -1642.548288  "
      ]
     },
     "execution_count": 28,
     "metadata": {},
     "output_type": "execute_result"
    }
   ],
   "source": [
    "Baseline1 = pd.DataFrame({\"val_mae\": b1_val_mae,\"val_mse\": b1_val_mse,\"val_r2\": b1_val_r2,\"val_nrmse\": CV.mean(),\"test_mae\": b1_test_mae,\"test_mse\": b1_test_mse,\"test_r2\": b1_test_r2, \"test_nrmse\": -np.sqrt(b1_test_mse)}, index=[\"Baseline1\"])\n",
    "\n",
    "Baseline1"
   ]
  }
 ],
 "metadata": {
  "kernelspec": {
   "display_name": "Python 3.8 (pytorch)",
   "language": "python",
   "name": "pytorch"
  },
  "language_info": {
   "codemirror_mode": {
    "name": "ipython",
    "version": 3
   },
   "file_extension": ".py",
   "mimetype": "text/x-python",
   "name": "python",
   "nbconvert_exporter": "python",
   "pygments_lexer": "ipython3",
   "version": "3.8.10"
  }
 },
 "nbformat": 4,
 "nbformat_minor": 5
}
