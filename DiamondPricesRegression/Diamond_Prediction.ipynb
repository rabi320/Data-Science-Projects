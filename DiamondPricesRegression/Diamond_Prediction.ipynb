{
 "cells": [
  {
   "cell_type": "markdown",
   "id": "075de871-3109-48c7-8cb8-b95b09f9b470",
   "metadata": {},
   "source": [
    "# Diamond Prediction\n",
    "\n",
    "After the exploratory data analysis, a prediction will be made.\n",
    "The folowing steps for this prediction:\n",
    "1. **Preprocessing** - Handle outliers, Feature engineering.\n",
    "2. **Predictions** - predicting with validation data and then with test data, metrics.\n",
    "3. **Evaluation** - Baselines for comparison.\n",
    "\n",
    "## Libraries & settings"
   ]
  },
  {
   "cell_type": "code",
   "execution_count": 1,
   "id": "18f08e35-fd9c-401b-91ab-0fcad91c18e8",
   "metadata": {},
   "outputs": [],
   "source": [
    "#numpy\n",
    "import numpy as np\n",
    "\n",
    "from sklearn.preprocessing import LabelEncoder\n",
    "from sklearn.linear_model import LinearRegression\n",
    "from sklearn.impute import SimpleImputer\n",
    "\n",
    "#pipeline tools\n",
    "from sklearn.preprocessing import FunctionTransformer\n",
    "from sklearn.pipeline import Pipeline\n",
    "from sklearn.pipeline import FeatureUnion\n",
    "from pipelinehelper import PipelineHelper\n",
    "from sklearn.compose import ColumnTransformer\n",
    "from sklearn.preprocessing import OneHotEncoder\n",
    "#time related\n",
    "from timeit import default_timer as timer\n",
    "from datetime import timedelta\n",
    "\n",
    "#timer for entire code\n",
    "start = timer()\n",
    "\n",
    "#warning hadle\n",
    "import warnings\n",
    "warnings.filterwarnings(\"always\")\n",
    "warnings.filterwarnings(\"ignore\")\n",
    "\n",
    "#plotly\n",
    "import plotly.io as pio\n",
    "pio.renderers.default = \"plotly_mimetype+notebook_connected\""
   ]
  },
  {
   "cell_type": "markdown",
   "id": "30778a77-0008-4032-b0fd-64b13d9fb356",
   "metadata": {},
   "source": [
    "## Baseline 1: Basic approach\n",
    "\n",
    "### Decisions:\n",
    "* **Preprocessing:**\n",
    "    1. **Outliers:** **Categoric** - fill with most frequent. **continuous** - fill with median.               \n",
    "    2. **Feature Engineering**: only categoric labels, one hot encoding.\n",
    "* **Model training** - using cross validation in validation data on a simple linear regression model.\n",
    "* **Model testing** - train on whole train + validation set and use test data for results.\n",
    "* **Model evaluating** - record for validation and test the following metrics:\n",
    "    1. MSE - [Mean score error](https://en.wikipedia.org/wiki/Mean_squared_error)\n",
    "    2. R2 - [R Square](https://en.wikipedia.org/wiki/Coefficient_of_determination)\n",
    "    3. MAE - [Mean absolut error](https://en.wikipedia.org/wiki/Mean_absolute_error)\n",
    "    \n",
    "\n",
    "**Preprocessing**"
   ]
  }
 ],
 "metadata": {
  "kernelspec": {
   "display_name": "Python 3.8 (pytorch)",
   "language": "python",
   "name": "pytorch"
  },
  "language_info": {
   "codemirror_mode": {
    "name": "ipython",
    "version": 3
   },
   "file_extension": ".py",
   "mimetype": "text/x-python",
   "name": "python",
   "nbconvert_exporter": "python",
   "pygments_lexer": "ipython3",
   "version": "3.8.10"
  }
 },
 "nbformat": 4,
 "nbformat_minor": 5
}
