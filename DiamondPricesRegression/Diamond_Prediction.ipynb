{
 "cells": [
  {
   "cell_type": "markdown",
   "id": "075de871-3109-48c7-8cb8-b95b09f9b470",
   "metadata": {},
   "source": [
    "# Diamond Prediction\n",
    "\n",
    "After the exploratory data analysis, a prediction will be made.\n",
    "The folowing steps for this prediction:\n",
    "1. **Preprocessing** - Handle outliers, Feature engineering.\n",
    "2. **Predictions** - predicting with validation data and then with test data, metrics.\n",
    "3. **Evaluation** - Baselines for comparison.\n",
    "\n",
    "## Libraries & settings"
   ]
  },
  {
   "cell_type": "code",
   "execution_count": 57,
   "id": "18f08e35-fd9c-401b-91ab-0fcad91c18e8",
   "metadata": {},
   "outputs": [],
   "source": [
    "#numpy\n",
    "import numpy as np\n",
    "\n",
    "from sklearn.preprocessing import OrdinalEncoder\n",
    "from sklearn.linear_model import LinearRegression\n",
    "from sklearn.impute import SimpleImputer\n",
    "\n",
    "#pipeline tools\n",
    "from sklearn.preprocessing import FunctionTransformer\n",
    "from sklearn.pipeline import Pipeline\n",
    "from sklearn.pipeline import FeatureUnion\n",
    "from pipelinehelper import PipelineHelper\n",
    "from sklearn.compose import ColumnTransformer\n",
    "from sklearn.preprocessing import LabelEncoder\n",
    "#time related\n",
    "from timeit import default_timer as timer\n",
    "from datetime import timedelta\n",
    "\n",
    "#timer for entire code\n",
    "start = timer()\n",
    "\n",
    "#warning hadle\n",
    "import warnings\n",
    "warnings.filterwarnings(\"always\")\n",
    "warnings.filterwarnings(\"ignore\")\n",
    "\n",
    "#plotly\n",
    "import plotly.io as pio\n",
    "pio.renderers.default = \"plotly_mimetype+notebook_connected\"\n",
    "\n",
    "#settings\n",
    "pd.options.display.float_format = '{:.3f}'.format"
   ]
  },
  {
   "cell_type": "markdown",
   "id": "30778a77-0008-4032-b0fd-64b13d9fb356",
   "metadata": {},
   "source": [
    "## Baseline 1: Basic approach\n",
    "\n",
    "### Decisions:\n",
    "* **Preprocessing:**\n",
    "    1. **Outliers:** **continuous** - fill with median.               \n",
    "    2. **Feature Engineering**: only categoric labels, OrdinalEncoder.\n",
    "* **Model training** - using cross validation in validation data on a simple linear regression model.\n",
    "* **Model testing** - train on whole train + validation set and use test data for results.\n",
    "* **Model evaluating** - record for validation and test the following metrics:\n",
    "    1. MSE - [Mean squared error](https://en.wikipedia.org/wiki/Mean_squared_error)\n",
    "    2. R2 - [R Square](https://en.wikipedia.org/wiki/Coefficient_of_determination)\n",
    "    3. MAE - [Mean absolut error](https://en.wikipedia.org/wiki/Mean_absolute_error)\n",
    "    4. NRMSE - [Negative root mean squared error](https://en.wikipedia.org/wiki/Root-mean-square_deviation)\n",
    "    \n",
    "\n",
    "**Preprocessing**"
   ]
  },
  {
   "cell_type": "code",
   "execution_count": 43,
   "id": "4b677844-8394-404d-a101-0943b304aa35",
   "metadata": {},
   "outputs": [],
   "source": [
    "# Preprocessing for continuous data\n",
    "\n",
    "def Outlier_Detector(X,factor):\n",
    "    X = pd.DataFrame(X).copy()\n",
    "    for i in range(X.shape[1]):\n",
    "        x = pd.Series(X.iloc[:,i]).copy()\n",
    "        q1 = x.quantile(0.25)\n",
    "        q3 = x.quantile(0.75)\n",
    "        iqr = q3 - q1\n",
    "        lower_bound = q1 - (factor * iqr)\n",
    "        upper_bound = q3 + (factor * iqr)\n",
    "        X.iloc[((X.iloc[:,i] < lower_bound) | (X.iloc[:,i] > upper_bound)),i] = np.nan \n",
    "    return X\n",
    "\n",
    "#creating outlier_remover object using FunctionTransformer with factor=1.5\n",
    "Outlier = FunctionTransformer(Outlier_Detector,kw_args={'factor':1.5})\n",
    "\n",
    "#contiuous_transformer = SimpleImputer(strategy='median')\n",
    "\n",
    "contiuous_transformer = Pipeline(steps=[\n",
    "('outlier', Outlier),\n",
    "('imputer', SimpleImputer(strategy='median'))\n",
    "])\n",
    "\n",
    "# building categorical transformers (worst to best)\n",
    "cut_enc = OrdinalEncoder(categories=[[\"Fair\", \"Good\", \"Very Good\", \"Premium\",\"Ideal\"]])\n",
    "color_enc = OrdinalEncoder(categories=[['J', 'I', 'H', 'G', 'F', 'E','D']])\n",
    "clarity_enc = OrdinalEncoder(categories=[[\"I1\", \"SI2\", \"SI1\", \"VS2\", \"VS1\", \"VVS2\", \"VVS1\",'IF']])\n",
    "\n",
    "\n",
    "# Create preprocessor\n",
    "preprocessor = ColumnTransformer(\n",
    "    transformers=[\n",
    "        ('num', contiuous_transformer, Continuous),\n",
    "        ('cuts', cut_enc, [\"cut\"]),\n",
    "        ('colors', color_enc, [\"color\"]),\n",
    "        ('clarities', clarity_enc, [\"clarity\"])\n",
    "    ])"
   ]
  },
  {
   "cell_type": "markdown",
   "id": "6d26d7c0-67f6-416f-8b04-92c81257a8f7",
   "metadata": {},
   "source": [
    "**Model**"
   ]
  },
  {
   "cell_type": "code",
   "execution_count": 44,
   "id": "2caf2350-bccc-4674-a7f8-334012cf073e",
   "metadata": {},
   "outputs": [],
   "source": [
    "model = LinearRegression()"
   ]
  },
  {
   "cell_type": "markdown",
   "id": "6168dccc-d8fb-454b-825f-8636d27f0e62",
   "metadata": {},
   "source": [
    "**Final Pipeline**"
   ]
  },
  {
   "cell_type": "code",
   "execution_count": 45,
   "id": "0e7897e5-d695-4b08-8b0a-6ae5c7f065ce",
   "metadata": {},
   "outputs": [
    {
     "data": {
      "text/plain": [
       "Pipeline(steps=[('preprocessor',\n",
       "                 ColumnTransformer(transformers=[('num',\n",
       "                                                  Pipeline(steps=[('outlier',\n",
       "                                                                   FunctionTransformer(func=<function Outlier_Detector at 0x000001D9E66EDAF0>,\n",
       "                                                                                       kw_args={'factor': 1.5})),\n",
       "                                                                  ('imputer',\n",
       "                                                                   SimpleImputer(strategy='median'))]),\n",
       "                                                  ['carat', 'depth', 'table',\n",
       "                                                   'x', 'y', 'z']),\n",
       "                                                 ('cuts',\n",
       "                                                  OrdinalEncoder(categories=[['Fair',\n",
       "                                                                              'Good',\n",
       "                                                                              'Very '\n",
       "                                                                              'Good',\n",
       "                                                                              'Premium',\n",
       "                                                                              'Ideal']]),\n",
       "                                                  ['cut']),\n",
       "                                                 ('colors',\n",
       "                                                  OrdinalEncoder(categories=[['J',\n",
       "                                                                              'I',\n",
       "                                                                              'H',\n",
       "                                                                              'G',\n",
       "                                                                              'F',\n",
       "                                                                              'E',\n",
       "                                                                              'D']]),\n",
       "                                                  ['color']),\n",
       "                                                 ('clarities',\n",
       "                                                  OrdinalEncoder(categories=[['I1',\n",
       "                                                                              'SI2',\n",
       "                                                                              'SI1',\n",
       "                                                                              'VS2',\n",
       "                                                                              'VS1',\n",
       "                                                                              'VVS2',\n",
       "                                                                              'VVS1',\n",
       "                                                                              'IF']]),\n",
       "                                                  ['clarity'])])),\n",
       "                ('model', LinearRegression())])"
      ]
     },
     "execution_count": 45,
     "metadata": {},
     "output_type": "execute_result"
    }
   ],
   "source": [
    "# Bundle preprocessing and modeling code in a pipeline\n",
    "Baseline1 = Pipeline(steps=[('preprocessor', preprocessor),\n",
    "                              ('model', model)\n",
    "                             ])\n",
    "\n",
    "# Preprocessing of training data, fit model \n",
    "Baseline1.fit(X_train2, y_train2)"
   ]
  },
  {
   "cell_type": "markdown",
   "id": "6fd5d8de-891c-4d01-af1f-c10667c7551e",
   "metadata": {},
   "source": [
    "**Validation Prediction**"
   ]
  },
  {
   "cell_type": "code",
   "execution_count": 46,
   "id": "b03f38de-eefd-4b87-a2fe-7f37a178a9ef",
   "metadata": {},
   "outputs": [
    {
     "name": "stdout",
     "output_type": "stream",
     "text": [
      "MAE: 1227.2738971261278\n",
      "MSE:  2652792.3125459263\n",
      "R2:  0.8367188169244258\n"
     ]
    }
   ],
   "source": [
    "from sklearn.metrics import mean_absolute_error\n",
    "from sklearn.metrics import mean_squared_error\n",
    "from sklearn.metrics import r2_score\n",
    "\n",
    "\n",
    "# Preprocessing of validation data, get predictions\n",
    "b1_val_preds = Baseline1.predict(X_val)\n",
    "\n",
    "# Evaluate the model\n",
    "b1_val_mae = mean_absolute_error(y_val, b1_val_preds)\n",
    "b1_val_mse = mean_squared_error(y_val, b1_val_preds)\n",
    "b1_val_r2 = r2_score(y_val, b1_val_preds)\n",
    "\n",
    "print('MAE:', b1_val_mae)\n",
    "print(\"MSE: \",b1_val_mse)\n",
    "print(\"R2: \",b1_val_r2)"
   ]
  },
  {
   "cell_type": "markdown",
   "id": "0e649dc2-d86d-406e-8a46-13daa040d1d0",
   "metadata": {},
   "source": [
    "**Cross Validation Prediction (NRMSE)**"
   ]
  },
  {
   "cell_type": "code",
   "execution_count": 47,
   "id": "5a47b14b-052e-4f42-8b26-231ff144862d",
   "metadata": {},
   "outputs": [
    {
     "name": "stdout",
     "output_type": "stream",
     "text": [
      "validation negative root mean squared error on 5 fold cross validation: [-1674.34968697 -1594.12551928 -1562.22328898 -1589.48519538\n",
      " -1627.25022853]\n",
      "validation negative root mean squared error accuracy: -1609.4867838266748\n"
     ]
    }
   ],
   "source": [
    "from sklearn.model_selection import cross_val_score\n",
    "CV = cross_val_score(Baseline1, X_train, y_train, cv=5, scoring = \"neg_root_mean_squared_error\")\n",
    "print(f\"validation negative root mean squared error on 5 fold cross validation: {CV}\")\n",
    "print(f\"validation negative root mean squared error accuracy: {CV.mean()}\")"
   ]
  },
  {
   "cell_type": "markdown",
   "id": "ec0827ee-9894-4619-a21c-3208b27bff44",
   "metadata": {},
   "source": [
    "**Test Prediction**"
   ]
  },
  {
   "cell_type": "code",
   "execution_count": 48,
   "id": "0e38d0d7-d515-4448-849f-e7b02bfcf9de",
   "metadata": {},
   "outputs": [
    {
     "name": "stdout",
     "output_type": "stream",
     "text": [
      "MAE: 1249.8900248224795\n",
      "MSE:  2697964.8791565355\n",
      "R2:  0.8331690897943889\n"
     ]
    }
   ],
   "source": [
    "Baseline1.fit(X_train, y_train)\n",
    "b1_test_preds = Baseline1.predict(X_test)\n",
    "b1_test_mae = mean_absolute_error(y_test, b1_test_preds)\n",
    "b1_test_mse = mean_squared_error(y_test, b1_test_preds)\n",
    "b1_test_r2 = r2_score(y_test, b1_test_preds)\n",
    "print('MAE:', b1_test_mae)\n",
    "print(\"MSE: \",b1_test_mse)\n",
    "print(\"R2: \",b1_test_r2)"
   ]
  },
  {
   "cell_type": "markdown",
   "id": "4cf1888e-8bea-40eb-bf64-7de682e6f973",
   "metadata": {},
   "source": [
    "**Test NRMSE**"
   ]
  },
  {
   "cell_type": "code",
   "execution_count": 49,
   "id": "a65aa5ab-b44c-4794-931e-7314aaac2033",
   "metadata": {},
   "outputs": [
    {
     "name": "stdout",
     "output_type": "stream",
     "text": [
      "NRMSE:  -1642.5482882267222\n"
     ]
    }
   ],
   "source": [
    "print(\"NRMSE: \",-np.sqrt(b1_test_mse))"
   ]
  },
  {
   "cell_type": "markdown",
   "id": "e757c383-f10d-478e-ab82-81516d38196f",
   "metadata": {},
   "source": [
    "**Model Explainability**\n",
    "\n",
    "The chosen method is [Permutation](https://brilliant.org/wiki/permutations/#permutations-problem-solving) Importance.\n",
    "Each feature is shuffled and predicted with the rest of the normally ordered columns, where the weights are mostly changed in positive numbers means they most effect the model. negative means the model performed better with this random ordered feature, which means it's that it is useless as a predictor."
   ]
  },
  {
   "cell_type": "code",
   "execution_count": 50,
   "id": "6a30f74b-3de5-4b95-9277-9a9c9263d448",
   "metadata": {},
   "outputs": [
    {
     "data": {
      "text/html": [
       "\n",
       "    <style>\n",
       "    table.eli5-weights tr:hover {\n",
       "        filter: brightness(85%);\n",
       "    }\n",
       "</style>\n",
       "\n",
       "\n",
       "\n",
       "    \n",
       "\n",
       "    \n",
       "\n",
       "    \n",
       "\n",
       "    \n",
       "\n",
       "    \n",
       "\n",
       "    \n",
       "\n",
       "\n",
       "    \n",
       "\n",
       "    \n",
       "\n",
       "    \n",
       "\n",
       "    \n",
       "\n",
       "    \n",
       "\n",
       "    \n",
       "\n",
       "\n",
       "    \n",
       "\n",
       "    \n",
       "\n",
       "    \n",
       "\n",
       "    \n",
       "\n",
       "    \n",
       "        <table class=\"eli5-weights eli5-feature-importances\" style=\"border-collapse: collapse; border: none; margin-top: 0em; table-layout: auto;\">\n",
       "    <thead>\n",
       "    <tr style=\"border: none;\">\n",
       "        <th style=\"padding: 0 1em 0 0.5em; text-align: right; border: none;\">Weight</th>\n",
       "        <th style=\"padding: 0 0.5em 0 0.5em; text-align: left; border: none;\">Feature</th>\n",
       "    </tr>\n",
       "    </thead>\n",
       "    <tbody>\n",
       "    \n",
       "        <tr style=\"background-color: hsl(120, 100.00%, 80.00%); border: none;\">\n",
       "            <td style=\"padding: 0 1em 0 0.5em; text-align: right; border: none;\">\n",
       "                0.7125\n",
       "                \n",
       "                    &plusmn; 0.0063\n",
       "                \n",
       "            </td>\n",
       "            <td style=\"padding: 0 0.5em 0 0.5em; text-align: left; border: none;\">\n",
       "                depth\n",
       "            </td>\n",
       "        </tr>\n",
       "    \n",
       "        <tr style=\"background-color: hsl(120, 100.00%, 91.22%); border: none;\">\n",
       "            <td style=\"padding: 0 1em 0 0.5em; text-align: right; border: none;\">\n",
       "                0.2199\n",
       "                \n",
       "                    &plusmn; 0.0036\n",
       "                \n",
       "            </td>\n",
       "            <td style=\"padding: 0 0.5em 0 0.5em; text-align: left; border: none;\">\n",
       "                table\n",
       "            </td>\n",
       "        </tr>\n",
       "    \n",
       "        <tr style=\"background-color: hsl(120, 100.00%, 94.85%); border: none;\">\n",
       "            <td style=\"padding: 0 1em 0 0.5em; text-align: right; border: none;\">\n",
       "                0.1025\n",
       "                \n",
       "                    &plusmn; 0.0017\n",
       "                \n",
       "            </td>\n",
       "            <td style=\"padding: 0 0.5em 0 0.5em; text-align: left; border: none;\">\n",
       "                z\n",
       "            </td>\n",
       "        </tr>\n",
       "    \n",
       "        <tr style=\"background-color: hsl(120, 100.00%, 94.97%); border: none;\">\n",
       "            <td style=\"padding: 0 1em 0 0.5em; text-align: right; border: none;\">\n",
       "                0.0991\n",
       "                \n",
       "                    &plusmn; 0.0021\n",
       "                \n",
       "            </td>\n",
       "            <td style=\"padding: 0 0.5em 0 0.5em; text-align: left; border: none;\">\n",
       "                clarity\n",
       "            </td>\n",
       "        </tr>\n",
       "    \n",
       "        <tr style=\"background-color: hsl(120, 100.00%, 96.68%); border: none;\">\n",
       "            <td style=\"padding: 0 1em 0 0.5em; text-align: right; border: none;\">\n",
       "                0.0547\n",
       "                \n",
       "                    &plusmn; 0.0008\n",
       "                \n",
       "            </td>\n",
       "            <td style=\"padding: 0 0.5em 0 0.5em; text-align: left; border: none;\">\n",
       "                carat\n",
       "            </td>\n",
       "        </tr>\n",
       "    \n",
       "        <tr style=\"background-color: hsl(120, 100.00%, 98.17%); border: none;\">\n",
       "            <td style=\"padding: 0 1em 0 0.5em; text-align: right; border: none;\">\n",
       "                0.0233\n",
       "                \n",
       "                    &plusmn; 0.0007\n",
       "                \n",
       "            </td>\n",
       "            <td style=\"padding: 0 0.5em 0 0.5em; text-align: left; border: none;\">\n",
       "                y\n",
       "            </td>\n",
       "        </tr>\n",
       "    \n",
       "        <tr style=\"background-color: hsl(120, 100.00%, 99.54%); border: none;\">\n",
       "            <td style=\"padding: 0 1em 0 0.5em; text-align: right; border: none;\">\n",
       "                0.0033\n",
       "                \n",
       "                    &plusmn; 0.0003\n",
       "                \n",
       "            </td>\n",
       "            <td style=\"padding: 0 0.5em 0 0.5em; text-align: left; border: none;\">\n",
       "                x\n",
       "            </td>\n",
       "        </tr>\n",
       "    \n",
       "        <tr style=\"background-color: hsl(120, 100.00%, 99.85%); border: none;\">\n",
       "            <td style=\"padding: 0 1em 0 0.5em; text-align: right; border: none;\">\n",
       "                0.0007\n",
       "                \n",
       "                    &plusmn; 0.0001\n",
       "                \n",
       "            </td>\n",
       "            <td style=\"padding: 0 0.5em 0 0.5em; text-align: left; border: none;\">\n",
       "                cut\n",
       "            </td>\n",
       "        </tr>\n",
       "    \n",
       "        <tr style=\"background-color: hsl(120, 100.00%, 99.93%); border: none;\">\n",
       "            <td style=\"padding: 0 1em 0 0.5em; text-align: right; border: none;\">\n",
       "                0.0002\n",
       "                \n",
       "                    &plusmn; 0.0001\n",
       "                \n",
       "            </td>\n",
       "            <td style=\"padding: 0 0.5em 0 0.5em; text-align: left; border: none;\">\n",
       "                color\n",
       "            </td>\n",
       "        </tr>\n",
       "    \n",
       "    \n",
       "    </tbody>\n",
       "</table>\n",
       "    \n",
       "\n",
       "    \n",
       "\n",
       "\n",
       "    \n",
       "\n",
       "    \n",
       "\n",
       "    \n",
       "\n",
       "    \n",
       "\n",
       "    \n",
       "\n",
       "    \n",
       "\n",
       "\n",
       "\n"
      ],
      "text/plain": [
       "<IPython.core.display.HTML object>"
      ]
     },
     "execution_count": 50,
     "metadata": {},
     "output_type": "execute_result"
    }
   ],
   "source": [
    "import eli5\n",
    "from eli5.sklearn import PermutationImportance\n",
    "\n",
    "x_tr = Baseline1.named_steps[\"preprocessor\"].fit_transform(X_train)#preprocess inputs\n",
    "perm = PermutationImportance(Baseline1.named_steps[\"model\"]).fit(x_tr, y_train)#fit model\n",
    "eli5.show_weights(perm, feature_names = X_train.columns.tolist())#show results\n"
   ]
  },
  {
   "cell_type": "markdown",
   "id": "4c8bc88b-c123-49c9-a1a8-75597f8d21b9",
   "metadata": {},
   "source": [
    "**insights:**\n",
    "* depth is very important for this models prediction. \n",
    "* color has no effect on the models predictions.\n",
    "* only table, z and clarity has a big effect on the model other featres less so."
   ]
  },
  {
   "cell_type": "code",
   "execution_count": 51,
   "id": "8cb85ba1-c8a8-4396-83a6-a010b4bb5291",
   "metadata": {},
   "outputs": [
    {
     "data": {
      "text/plain": [
       "ColumnTransformer(transformers=[('num',\n",
       "                                 Pipeline(steps=[('outlier',\n",
       "                                                  FunctionTransformer(func=<function Outlier_Detector at 0x000001D9E66EDAF0>,\n",
       "                                                                      kw_args={'factor': 1.5})),\n",
       "                                                 ('imputer',\n",
       "                                                  SimpleImputer(strategy='median'))]),\n",
       "                                 ['carat', 'depth', 'table', 'x', 'y', 'z']),\n",
       "                                ('cuts',\n",
       "                                 OrdinalEncoder(categories=[['Fair', 'Good',\n",
       "                                                             'Very Good',\n",
       "                                                             'Premium',\n",
       "                                                             'Ideal']]),\n",
       "                                 ['cut']),\n",
       "                                ('colors',\n",
       "                                 OrdinalEncoder(categories=[['J', 'I', 'H', 'G',\n",
       "                                                             'F', 'E', 'D']]),\n",
       "                                 ['color']),\n",
       "                                ('clarities',\n",
       "                                 OrdinalEncoder(categories=[['I1', 'SI2', 'SI1',\n",
       "                                                             'VS2', 'VS1',\n",
       "                                                             'VVS2', 'VVS1',\n",
       "                                                             'IF']]),\n",
       "                                 ['clarity'])])"
      ]
     },
     "execution_count": 51,
     "metadata": {},
     "output_type": "execute_result"
    }
   ],
   "source": [
    "Baseline1.named_steps[\"preprocessor\"]"
   ]
  },
  {
   "cell_type": "markdown",
   "id": "02cbffaf-6838-4db5-a1d8-fb6181998b7f",
   "metadata": {},
   "source": [
    "### Baseline 1 Summary\n",
    "The model was validated with mse, mae and r2, cross validated 5 times for NRMSE, and tested 1 time for all the metrics:\n",
    "* **Mae**: validation set and test set around 1,200 and validation performed slightly better. \n",
    "* **Mse**: validation set and test set around 2,650,000 and validation performed slightly better.\n",
    "* **R2**: validation set and test set around 0.83 and validation performed slightly better.\n",
    "* **NRMSE**: validation set and test set around 1,600 and validation performed slightly better.\n",
    "\n",
    "The baseline is saved for comparison as a pandas dataframe: "
   ]
  },
  {
   "cell_type": "code",
   "execution_count": 59,
   "id": "693f2bbd-231b-4660-a874-2304f6ef5b21",
   "metadata": {},
   "outputs": [
    {
     "data": {
      "text/html": [
       "<div>\n",
       "<style scoped>\n",
       "    .dataframe tbody tr th:only-of-type {\n",
       "        vertical-align: middle;\n",
       "    }\n",
       "\n",
       "    .dataframe tbody tr th {\n",
       "        vertical-align: top;\n",
       "    }\n",
       "\n",
       "    .dataframe thead th {\n",
       "        text-align: right;\n",
       "    }\n",
       "</style>\n",
       "<table border=\"1\" class=\"dataframe\">\n",
       "  <thead>\n",
       "    <tr style=\"text-align: right;\">\n",
       "      <th></th>\n",
       "      <th>val_mae</th>\n",
       "      <th>val_mse</th>\n",
       "      <th>val_r2</th>\n",
       "      <th>val_nrmse</th>\n",
       "      <th>test_mae</th>\n",
       "      <th>test_mse</th>\n",
       "      <th>test_r2</th>\n",
       "      <th>test_nrmse</th>\n",
       "    </tr>\n",
       "  </thead>\n",
       "  <tbody>\n",
       "    <tr>\n",
       "      <th>Baseline1</th>\n",
       "      <td>1227.274</td>\n",
       "      <td>2652792.313</td>\n",
       "      <td>0.837</td>\n",
       "      <td>-1609.487</td>\n",
       "      <td>1249.890</td>\n",
       "      <td>2697964.879</td>\n",
       "      <td>0.833</td>\n",
       "      <td>-1642.548</td>\n",
       "    </tr>\n",
       "  </tbody>\n",
       "</table>\n",
       "</div>"
      ],
      "text/plain": [
       "           val_mae     val_mse  val_r2  val_nrmse  test_mae    test_mse  \\\n",
       "Baseline1 1227.274 2652792.313   0.837  -1609.487  1249.890 2697964.879   \n",
       "\n",
       "           test_r2  test_nrmse  \n",
       "Baseline1    0.833   -1642.548  "
      ]
     },
     "execution_count": 59,
     "metadata": {},
     "output_type": "execute_result"
    }
   ],
   "source": [
    "baseline1 = pd.DataFrame({\"val_mae\": b1_val_mae,\"val_mse\": b1_val_mse,\"val_r2\": b1_val_r2,\"val_nrmse\": CV.mean(),\"test_mae\": b1_test_mae,\"test_mse\": b1_test_mse,\"test_r2\": b1_test_r2, \"test_nrmse\": -np.sqrt(b1_test_mse)}, index=[\"Baseline1\"])\n",
    "baseline1"
   ]
  }
 ],
 "metadata": {
  "kernelspec": {
   "display_name": "Python 3.8 (pytorch)",
   "language": "python",
   "name": "pytorch"
  },
  "language_info": {
   "codemirror_mode": {
    "name": "ipython",
    "version": 3
   },
   "file_extension": ".py",
   "mimetype": "text/x-python",
   "name": "python",
   "nbconvert_exporter": "python",
   "pygments_lexer": "ipython3",
   "version": "3.8.10"
  }
 },
 "nbformat": 4,
 "nbformat_minor": 5
}
