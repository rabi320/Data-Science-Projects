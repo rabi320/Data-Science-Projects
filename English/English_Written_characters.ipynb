{
  "nbformat": 4,
  "nbformat_minor": 0,
  "metadata": {
    "colab": {
      "name": "English Written characters.ipynb",
      "provenance": [],
      "collapsed_sections": [],
      "authorship_tag": "ABX9TyM9eMGHLbbIQ6WJMmyNgnnJ",
      "include_colab_link": true
    },
    "kernelspec": {
      "name": "python3",
      "display_name": "Python 3"
    },
    "language_info": {
      "name": "python"
    },
    "accelerator": "GPU"
  },
  "cells": [
    {
      "cell_type": "markdown",
      "metadata": {
        "id": "view-in-github",
        "colab_type": "text"
      },
      "source": [
        "<a href=\"https://colab.research.google.com/github/rabi320/Data-Science-Projects/blob/master/English/English_Written_characters.ipynb\" target=\"_parent\"><img src=\"https://colab.research.google.com/assets/colab-badge.svg\" alt=\"Open In Colab\"/></a>"
      ]
    },
    {
      "cell_type": "markdown",
      "metadata": {
        "id": "LYSnojsd2Hps"
      },
      "source": [
        "#  English Written characters\n",
        "![](https://www.researchgate.net/profile/Niranjan-S-K/publication/265317661/figure/fig1/AS:306759173459968@1450148494911/Sample-image-of-English-characters.png)\n",
        "\n",
        "This notebook will be used to classify 3,410 images of handwritten characters in English. This is a classification dataset that can be used for Computer Vision tasks. It contains 62 classes with 55 images of each class. The 62 classes are 0-9, A-Z and a-z."
      ]
    },
    {
      "cell_type": "code",
      "metadata": {
        "id": "-o54bYja0H9_"
      },
      "source": [
        "# extract all files\n",
        "import zipfile\n",
        "zp = True\n",
        "if zp:\n",
        "    with zipfile.ZipFile(\"English Handwritten Characters.zip\",\"r\") as zip_ref:\n",
        "        zip_ref.extractall(\"English Handwritten Characters\")"
      ],
      "execution_count": null,
      "outputs": []
    },
    {
      "cell_type": "code",
      "metadata": {
        "id": "-TbYyMU931CS",
        "colab": {
          "base_uri": "https://localhost:8080/",
          "height": 110
        },
        "outputId": "db10bf24-5b56-4073-c808-252722da1708"
      },
      "source": [
        "import pandas as pd\n",
        "df = pd.read_csv(\"English Handwritten Characters/english.csv\")\n",
        "df.sample(2)"
      ],
      "execution_count": null,
      "outputs": [
        {
          "output_type": "execute_result",
          "data": {
            "text/html": [
              "<div>\n",
              "<style scoped>\n",
              "    .dataframe tbody tr th:only-of-type {\n",
              "        vertical-align: middle;\n",
              "    }\n",
              "\n",
              "    .dataframe tbody tr th {\n",
              "        vertical-align: top;\n",
              "    }\n",
              "\n",
              "    .dataframe thead th {\n",
              "        text-align: right;\n",
              "    }\n",
              "</style>\n",
              "<table border=\"1\" class=\"dataframe\">\n",
              "  <thead>\n",
              "    <tr style=\"text-align: right;\">\n",
              "      <th></th>\n",
              "      <th>image</th>\n",
              "      <th>label</th>\n",
              "    </tr>\n",
              "  </thead>\n",
              "  <tbody>\n",
              "    <tr>\n",
              "      <th>2234</th>\n",
              "      <td>Img/img041-035.png</td>\n",
              "      <td>e</td>\n",
              "    </tr>\n",
              "    <tr>\n",
              "      <th>1952</th>\n",
              "      <td>Img/img036-028.png</td>\n",
              "      <td>Z</td>\n",
              "    </tr>\n",
              "  </tbody>\n",
              "</table>\n",
              "</div>"
            ],
            "text/plain": [
              "                   image label\n",
              "2234  Img/img041-035.png     e\n",
              "1952  Img/img036-028.png     Z"
            ]
          },
          "metadata": {},
          "execution_count": 34
        }
      ]
    },
    {
      "cell_type": "code",
      "metadata": {
        "id": "wx_dN3oDgY3j"
      },
      "source": [
        "original = df.label.unique().tolist() #original labels\n",
        "replace = list(range(len(original))) #encode the labels\n",
        "\n",
        "labels = dict(zip(original,replace)) #make a dictionary of labels\n",
        "\n",
        "\n",
        "save = True\n",
        "if save:\n",
        "  df.replace(to_replace = original, value = replace, inplace = True)\n",
        "  df.to_csv(\"English Handwritten Characters/english.csv\")"
      ],
      "execution_count": null,
      "outputs": []
    },
    {
      "cell_type": "code",
      "metadata": {
        "colab": {
          "base_uri": "https://localhost:8080/"
        },
        "id": "kuo86SukkAp4",
        "outputId": "011f81b0-0ebb-4dd3-8c9b-d9dc6ee5cfee"
      },
      "source": [
        "df.info()"
      ],
      "execution_count": null,
      "outputs": [
        {
          "output_type": "stream",
          "name": "stdout",
          "text": [
            "<class 'pandas.core.frame.DataFrame'>\n",
            "RangeIndex: 3410 entries, 0 to 3409\n",
            "Data columns (total 2 columns):\n",
            " #   Column  Non-Null Count  Dtype \n",
            "---  ------  --------------  ----- \n",
            " 0   image   3410 non-null   object\n",
            " 1   label   3410 non-null   int64 \n",
            "dtypes: int64(1), object(1)\n",
            "memory usage: 53.4+ KB\n"
          ]
        }
      ]
    },
    {
      "cell_type": "code",
      "metadata": {
        "colab": {
          "base_uri": "https://localhost:8080/",
          "height": 269
        },
        "id": "xtoMbtv45Meu",
        "outputId": "53788690-1cf3-4550-9ae8-dc751dfccdf1"
      },
      "source": [
        "import matplotlib.pyplot as plt\n",
        "import matplotlib.pyplot as imread\n",
        "random_image = df.sample()[\"image\"].values[0]# get the image name\n",
        "img=plt.imread(f\"English Handwritten Characters/{random_image}\")\n",
        "plt.imshow(img)\n",
        "plt.show()"
      ],
      "execution_count": null,
      "outputs": [
        {
          "output_type": "display_data",
          "data": {
            "image/png": "[encoded data removed]",
            "text/plain": [
              "<Figure size 432x288 with 1 Axes>"
            ]
          },
          "metadata": {
            "needs_background": "light"
          }
        }
      ]
    },
    {
      "cell_type": "code",
      "metadata": {
        "colab": {
          "base_uri": "https://localhost:8080/"
        },
        "id": "uEYDzpWF683K",
        "outputId": "6dd3069b-c4d0-4d86-cdb0-96f73e76ed8c"
      },
      "source": [
        "img.shape"
      ],
      "execution_count": null,
      "outputs": [
        {
          "output_type": "execute_result",
          "data": {
            "text/plain": [
              "(900, 1200, 3)"
            ]
          },
          "metadata": {},
          "execution_count": 38
        }
      ]
    },
    {
      "cell_type": "code",
      "metadata": {
        "id": "2HqOVWGn9W6F"
      },
      "source": [
        "import os\n",
        "import torch\n",
        "import pandas as pd\n",
        "from skimage import io, transform\n",
        "import numpy as np\n",
        "import matplotlib.pyplot as plt\n",
        "from torch.utils.data import Dataset, DataLoader\n",
        "from torchvision import transforms, utils\n",
        "\n",
        "# Ignore warnings\n",
        "import warnings\n",
        "warnings.filterwarnings(\"ignore\")\n",
        "\n",
        "plt.ion()   # interactive mode\n",
        "\n"
      ],
      "execution_count": null,
      "outputs": []
    },
    {
      "cell_type": "code",
      "metadata": {
        "id": "A3L2k33J9gVN"
      },
      "source": [
        "class EnglishWrittencharacters(Dataset):\n",
        "    \"\"\"English Written characters.\"\"\"\n",
        "\n",
        "    def __init__(self, csv_file, root_dir, transform=None):\n",
        "        \"\"\"\n",
        "        Args:\n",
        "            csv_file (string): Path to the csv file with annotations.\n",
        "            root_dir (string): Directory with all the images.\n",
        "            transform (callable, optional): Optional transform to be applied\n",
        "                on a sample.\n",
        "        \"\"\"\n",
        "        self.English_Written_characters = pd.read_csv(csv_file)\n",
        "        self.root_dir = root_dir\n",
        "        self.transform = transform\n",
        "\n",
        "    def __len__(self):\n",
        "        return len(self.English_Written_characters)\n",
        "\n",
        "    def __getitem__(self, idx):\n",
        "\n",
        "        img_name = os.path.join(self.root_dir,self.English_Written_characters[\"image\"][idx])\n",
        "                                \n",
        "        image = io.imread(img_name)\n",
        "        y_label = self.English_Written_characters[\"label\"][idx]\n",
        "        if self.transform:\n",
        "            image = self.transform(image)\n",
        "\n",
        "        return image, y_label"
      ],
      "execution_count": null,
      "outputs": []
    },
    {
      "cell_type": "code",
      "metadata": {
        "colab": {
          "base_uri": "https://localhost:8080/",
          "height": 35
        },
        "id": "56BIG9wk-IXg",
        "outputId": "657eb169-90d2-4e70-e18b-e0dc54080633"
      },
      "source": [
        "English_dataset = EnglishWrittencharacters(csv_file='English Handwritten Characters/english.csv',root_dir='English Handwritten Characters',transform = transforms.ToTensor())\n",
        "                                    \n",
        "\n",
        "f\"the data has {English_dataset.__len__()} images\""
      ],
      "execution_count": null,
      "outputs": [
        {
          "output_type": "execute_result",
          "data": {
            "application/vnd.google.colaboratory.intrinsic+json": {
              "type": "string"
            },
            "text/plain": [
              "'the data has 3410 images'"
            ]
          },
          "metadata": {},
          "execution_count": 41
        }
      ]
    },
    {
      "cell_type": "code",
      "metadata": {
        "colab": {
          "base_uri": "https://localhost:8080/"
        },
        "id": "DaDbAJWe-0FG",
        "outputId": "aaae9ee3-4579-4436-eea7-46582eb360ba"
      },
      "source": [
        "train_size = int(English_dataset.__len__()*0.7)\n",
        "test_size = int(English_dataset.__len__() - train_size)\n",
        "train, test = torch.utils.data.random_split(English_dataset, [train_size,test_size])\n",
        "\n",
        "print(f\"train size: {train.__len__()}\\ntest size: {test.__len__()}\")"
      ],
      "execution_count": null,
      "outputs": [
        {
          "output_type": "stream",
          "name": "stdout",
          "text": [
            "train size: 2387\n",
            "test size: 1023\n"
          ]
        }
      ]
    },
    {
      "cell_type": "code",
      "metadata": {
        "id": "TDTrO_rdZakP"
      },
      "source": [
        "trainloader = torch.utils.data.DataLoader(train, batch_size=7, shuffle=True)\n",
        "testloader = torch.utils.data.DataLoader(test, batch_size=7, shuffle=False)"
      ],
      "execution_count": null,
      "outputs": []
    },
    {
      "cell_type": "code",
      "metadata": {
        "id": "7izg7t_CaoMk"
      },
      "source": [
        "import torch.nn as nn\n",
        "import torch.nn.functional as F\n",
        "device = torch.device('cuda' if torch.cuda.is_available() else 'cpu')\n",
        "\n",
        "class Net(nn.Module):\n",
        "    def __init__(self):\n",
        "        super().__init__()\n",
        "        self.conv1 = nn.Conv2d(3, 12, 5)\n",
        "        self.pool = nn.MaxPool2d(2, 2)\n",
        "        self.conv2 = nn.Conv2d(12, 16, 5)\n",
        "        self.fc1 = nn.Linear(222*297*16, 120)\n",
        "        self.fc2 = nn.Linear(120, 84)\n",
        "        self.fc3 = nn.Linear(84, 62) #62 classes (0-9.a-z,A-Z)\n",
        "\n",
        "    def forward(self, x):\n",
        "        x = self.pool(F.relu(self.conv1(x)))\n",
        "        x = self.pool(F.relu(self.conv2(x)))\n",
        "        x = torch.flatten(x, 1) # flatten all dimensions except batch\n",
        "        x = F.relu(self.fc1(x))\n",
        "        x = F.relu(self.fc2(x))\n",
        "        x = self.fc3(x)\n",
        "        return x\n",
        "\n",
        "\n",
        "net = Net().to(device)"
      ],
      "execution_count": null,
      "outputs": []
    },
    {
      "cell_type": "code",
      "metadata": {
        "id": "T6KdYjbXbTST"
      },
      "source": [
        "import torch.optim as optim\n",
        "\n",
        "criterion = nn.CrossEntropyLoss()\n",
        "optimizer = optim.SGD(net.parameters(), lr=0.001, momentum=0.9)"
      ],
      "execution_count": null,
      "outputs": []
    },
    {
      "cell_type": "code",
      "metadata": {
        "colab": {
          "base_uri": "https://localhost:8080/"
        },
        "id": "3v0VKtCwuVSg",
        "outputId": "408011b6-f441-49ce-8d55-babe3892c41e"
      },
      "source": [
        "len(labels)"
      ],
      "execution_count": null,
      "outputs": [
        {
          "output_type": "execute_result",
          "data": {
            "text/plain": [
              "62"
            ]
          },
          "metadata": {},
          "execution_count": 46
        }
      ]
    },
    {
      "cell_type": "code",
      "metadata": {
        "colab": {
          "base_uri": "https://localhost:8080/",
          "height": 166
        },
        "id": "CSwcT-OCvEnt",
        "outputId": "5207d9a2-cf6a-4bf1-8d4c-da9eca7dba8c"
      },
      "source": [
        "import matplotlib.pyplot as plt\n",
        "import numpy as np\n",
        "import torchvision\n",
        "\n",
        "# functions to show an image\n",
        "def imshow(img):    \n",
        "    plt.figure(figsize=(18, 16), dpi=80)\n",
        "    npimg = img.numpy()\n",
        "    plt.imshow(np.transpose(npimg, (1, 2, 0)))\n",
        "    plt.show()\n",
        "\n",
        "\n",
        "# get some random training images\n",
        "dataiter = iter(trainloader)\n",
        "images, targets = dataiter.next()\n",
        "\n",
        "# show images\n",
        "imshow(torchvision.utils.make_grid(images))\n",
        "\n",
        "\n",
        "# function to return key for any value\n",
        "def get_key(val):\n",
        "    for key, value in labels.items():\n",
        "         if val == value:\n",
        "             return key\n",
        " \n",
        "    return \"key doesn't exist\"\n",
        "print([get_key(target) for target in targets.numpy().tolist()])"
      ],
      "execution_count": null,
      "outputs": [
        {
          "output_type": "display_data",
          "data": {
            "image/png": "[encoded data removed]",
            "text/plain": [
              "<Figure size 1440x1280 with 1 Axes>"
            ]
          },
          "metadata": {
            "needs_background": "light"
          }
        },
        {
          "output_type": "stream",
          "name": "stdout",
          "text": [
            "['b', 'd', 'A', 'k', 'i', 'G', 'A']\n"
          ]
        }
      ]
    },
    {
      "cell_type": "code",
      "metadata": {
        "colab": {
          "base_uri": "https://localhost:8080/"
        },
        "id": "5REr8SeEwW05",
        "outputId": "b036ced3-8a99-4899-ba6a-1eacac0e8d89"
      },
      "source": [
        "#random data for testing the net\n",
        "x = torch.rand((10,3,900,1200),device = device)\n",
        "print(net(x).size())"
      ],
      "execution_count": null,
      "outputs": [
        {
          "output_type": "stream",
          "name": "stdout",
          "text": [
            "torch.Size([10, 62])\n"
          ]
        }
      ]
    },
    {
      "cell_type": "code",
      "metadata": {
        "id": "dko-BAQiFJCa",
        "colab": {
          "base_uri": "https://localhost:8080/"
        },
        "outputId": "2f0005e0-3f91-4dcb-b50b-f53860815e80"
      },
      "source": [
        "%%time\n",
        "for epoch in range(15):  # loop over the dataset multiple times\n",
        "\n",
        "    running_loss = 0.0\n",
        "    for i, data in enumerate(trainloader, 0):\n",
        "        # get the inputs; data is a list of [inputs, labels]\n",
        "        inputs, targets = data\n",
        "        inputs = inputs.to(device)\n",
        "        targets = targets.to(device)\n",
        "        #inputs = inputs.permute(0,3,2,1)\n",
        "\n",
        "        # zero the parameter gradients\n",
        "        optimizer.zero_grad()\n",
        "\n",
        "        # forward + backward + optimize\n",
        "        outputs = net(inputs)\n",
        "        loss = criterion(outputs, targets)\n",
        "        loss.backward()\n",
        "        optimizer.step()\n",
        "\n",
        "        # print statistics\n",
        "        running_loss += loss.item()\n",
        "        if i % 50 == 49:    # print every 50 mini-batches\n",
        "            print('[%d, %5d] loss: %.3f' %\n",
        "                  (epoch + 1, i + 1, running_loss / 50))\n",
        "            running_loss = 0.0\n",
        "\n",
        "print('Finished Training')"
      ],
      "execution_count": null,
      "outputs": [
        {
          "output_type": "stream",
          "name": "stdout",
          "text": [
            "[1,    50] loss: 4.138\n",
            "[1,   100] loss: 4.132\n",
            "[1,   150] loss: 4.128\n",
            "[1,   200] loss: 4.129\n",
            "[1,   250] loss: 4.130\n",
            "[1,   300] loss: 4.123\n",
            "[2,    50] loss: 4.121\n",
            "[2,   100] loss: 4.113\n",
            "[2,   150] loss: 4.115\n",
            "[2,   200] loss: 4.117\n",
            "[2,   250] loss: 4.098\n",
            "[2,   300] loss: 4.086\n",
            "[3,    50] loss: 3.962\n",
            "[3,   100] loss: 3.825\n",
            "[3,   150] loss: 3.657\n",
            "[3,   200] loss: 3.514\n",
            "[3,   250] loss: 3.416\n",
            "[3,   300] loss: 3.448\n",
            "[4,    50] loss: 2.644\n",
            "[4,   100] loss: 2.892\n",
            "[4,   150] loss: 2.620\n",
            "[4,   200] loss: 2.724\n",
            "[4,   250] loss: 2.682\n",
            "[4,   300] loss: 2.882\n",
            "[5,    50] loss: 2.095\n",
            "[5,   100] loss: 2.206\n",
            "[5,   150] loss: 2.138\n",
            "[5,   200] loss: 2.073\n",
            "[5,   250] loss: 2.190\n",
            "[5,   300] loss: 2.214\n",
            "[6,    50] loss: 1.556\n",
            "[6,   100] loss: 1.608\n",
            "[6,   150] loss: 1.789\n",
            "[6,   200] loss: 1.505\n",
            "[6,   250] loss: 1.660\n",
            "[6,   300] loss: 1.625\n",
            "[7,    50] loss: 0.974\n",
            "[7,   100] loss: 1.247\n",
            "[7,   150] loss: 0.869\n",
            "[7,   200] loss: 1.084\n",
            "[7,   250] loss: 1.096\n",
            "[7,   300] loss: 1.027\n",
            "[8,    50] loss: 0.396\n",
            "[8,   100] loss: 0.382\n",
            "[8,   150] loss: 0.408\n",
            "[8,   200] loss: 0.539\n",
            "[8,   250] loss: 0.722\n",
            "[8,   300] loss: 0.628\n",
            "[9,    50] loss: 0.284\n",
            "[9,   100] loss: 0.316\n",
            "[9,   150] loss: 0.263\n",
            "[9,   200] loss: 0.361\n",
            "[9,   250] loss: 0.462\n",
            "[9,   300] loss: 0.444\n",
            "[10,    50] loss: 0.218\n",
            "[10,   100] loss: 0.143\n",
            "[10,   150] loss: 0.235\n",
            "[10,   200] loss: 0.305\n",
            "[10,   250] loss: 0.192\n",
            "[10,   300] loss: 0.236\n",
            "[11,    50] loss: 0.134\n",
            "[11,   100] loss: 0.100\n",
            "[11,   150] loss: 0.126\n",
            "[11,   200] loss: 0.108\n",
            "[11,   250] loss: 0.079\n",
            "[11,   300] loss: 0.083\n",
            "[12,    50] loss: 0.160\n",
            "[12,   100] loss: 0.139\n",
            "[12,   150] loss: 0.109\n",
            "[12,   200] loss: 0.120\n",
            "[12,   250] loss: 0.067\n",
            "[12,   300] loss: 0.054\n",
            "[13,    50] loss: 0.090\n",
            "[13,   100] loss: 0.041\n",
            "[13,   150] loss: 0.043\n",
            "[13,   200] loss: 0.018\n",
            "[13,   250] loss: 0.042\n",
            "[13,   300] loss: 0.018\n",
            "[14,    50] loss: 0.053\n",
            "[14,   100] loss: 0.069\n",
            "[14,   150] loss: 0.054\n",
            "[14,   200] loss: 0.031\n",
            "[14,   250] loss: 0.017\n",
            "[14,   300] loss: 0.022\n",
            "[15,    50] loss: 0.007\n",
            "[15,   100] loss: 0.011\n",
            "[15,   150] loss: 0.007\n",
            "[15,   200] loss: 0.003\n",
            "[15,   250] loss: 0.070\n",
            "[15,   300] loss: 0.088\n",
            "[16,    50] loss: 0.027\n",
            "[16,   100] loss: 0.018\n",
            "[16,   150] loss: 0.010\n",
            "[16,   200] loss: 0.004\n",
            "[16,   250] loss: 0.009\n",
            "[16,   300] loss: 0.046\n",
            "[17,    50] loss: 0.035\n",
            "[17,   100] loss: 0.031\n",
            "[17,   150] loss: 0.053\n",
            "[17,   200] loss: 0.006\n",
            "[17,   250] loss: 0.017\n",
            "[17,   300] loss: 0.019\n",
            "[18,    50] loss: 0.008\n",
            "[18,   100] loss: 0.008\n",
            "[18,   150] loss: 0.004\n",
            "[18,   200] loss: 0.005\n",
            "[18,   250] loss: 0.009\n",
            "[18,   300] loss: 0.090\n"
          ]
        }
      ]
    },
    {
      "cell_type": "code",
      "metadata": {
        "id": "Bg4VamhMaais"
      },
      "source": [
        "correct = 0\n",
        "total = 0\n",
        "# since we're not training, we don't need to calculate the gradients for our outputs\n",
        "with torch.no_grad():\n",
        "    for data in trainloader:\n",
        "        inputs, targets = data\n",
        "        inputs = inputs.to(device)\n",
        "        targets = targets.to(device)\n",
        "        # calculate outputs by running images through the network \n",
        "        outputs = net(inputs)\n",
        "        # the class with the highest energy is what we choose as prediction\n",
        "        _, predicted = torch.max(outputs.data, 1)\n",
        "        total += targets.size(0)\n",
        "        correct += (predicted == targets).sum().item()\n",
        "\n",
        "print('Accuracy of the network on the 2387 train images: %.3f %%' % (\n",
        "    100 * correct / total))"
      ],
      "execution_count": null,
      "outputs": []
    },
    {
      "cell_type": "code",
      "metadata": {
        "id": "Iv-sfVb9mCIO"
      },
      "source": [
        "correct = 0\n",
        "total = 0\n",
        "# since we're not training, we don't need to calculate the gradients for our outputs\n",
        "with torch.no_grad():\n",
        "    for data in testloader:\n",
        "        inputs, targets = data\n",
        "        inputs = inputs.to(device)\n",
        "        targets = targets.to(device)\n",
        "        # calculate outputs by running images through the network \n",
        "        outputs = net(inputs)\n",
        "        # the class with the highest energy is what we choose as prediction\n",
        "        _, predicted = torch.max(outputs.data, 1)\n",
        "        total += targets.size(0)\n",
        "        correct += (predicted == targets).sum().item()\n",
        "\n",
        "print('Accuracy of the network on the 1023 test images: %.3f %%' % (\n",
        "    100 * correct / total))"
      ],
      "execution_count": null,
      "outputs": []
    },
    {
      "cell_type": "code",
      "metadata": {
        "id": "TiB0d2vZcYPs"
      },
      "source": [
        "# prepare to count predictions for each class\n",
        "classes = list(labels.values())\n",
        "correct_pred = {classname: 0 for classname in classes}\n",
        "total_pred = {classname: 0 for classname in classes}\n",
        "\n",
        "# again no gradients needed\n",
        "with torch.no_grad():\n",
        "    for data in testloader:\n",
        "        inputs, targets = data \n",
        "        inputs = inputs.to(device)\n",
        "        targets = targets.to(device)           \n",
        "        outputs = net(inputs)    \n",
        "        _, predictions = torch.max(outputs, 1)\n",
        "        # collect the correct predictions for each class\n",
        "        for target, prediction in zip(targets, predictions):\n",
        "            if target == prediction:\n",
        "                correct_pred[classes[target]] += 1\n",
        "            total_pred[classes[target]] += 1\n",
        "\n",
        "  \n",
        "# print accuracy for each class\n",
        "for classname, correct_count in correct_pred.items():\n",
        "    accuracy = 100 * float(correct_count) / total_pred[classname]\n",
        "    print(\"Accuracy for class {:5s} is: {:.1f} %\".format(get_key(classname), \n",
        "                                                   accuracy))"
      ],
      "execution_count": null,
      "outputs": []
    }
  ]
}