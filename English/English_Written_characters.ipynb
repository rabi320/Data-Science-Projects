{
  "nbformat": 4,
  "nbformat_minor": 0,
  "metadata": {
    "colab": {
      "name": "English Written characters.ipynb",
      "provenance": [],
      "collapsed_sections": [],
      "authorship_tag": "ABX9TyN1mDx6peDGf0j2J3xUYppC",
      "include_colab_link": true
    },
    "kernelspec": {
      "name": "python3",
      "display_name": "Python 3"
    },
    "language_info": {
      "name": "python"
    },
    "accelerator": "GPU"
  },
  "cells": [
    {
      "cell_type": "markdown",
      "metadata": {
        "id": "view-in-github",
        "colab_type": "text"
      },
      "source": [
        "<a href=\"https://colab.research.google.com/github/rabi320/Data-Science-Projects/blob/master/English/English_Written_characters.ipynb\" target=\"_parent\"><img src=\"https://colab.research.google.com/assets/colab-badge.svg\" alt=\"Open In Colab\"/></a>"
      ]
    },
    {
      "cell_type": "markdown",
      "metadata": {
        "id": "LYSnojsd2Hps"
      },
      "source": [
        "#  English Written characters\n",
        "![](https://www.researchgate.net/profile/Niranjan-S-K/publication/265317661/figure/fig1/AS:306759173459968@1450148494911/Sample-image-of-English-characters.png)\n",
        "\n",
        "This notebook will be used to classify 3,410 images of handwritten characters in English. This is a classification dataset that can be used for Computer Vision tasks. It contains 62 classes with 55 images of each class. The 62 classes are 0-9, A-Z and a-z."
      ]
    },
    {
      "cell_type": "code",
      "metadata": {
        "id": "-o54bYja0H9_"
      },
      "source": [
        "# extract all files\n",
        "import zipfile\n",
        "zp = True\n",
        "if zp:\n",
        "    with zipfile.ZipFile(\"English Handwritten Characters.zip\",\"r\") as zip_ref:\n",
        "        zip_ref.extractall(\"English Handwritten Characters\")"
      ],
      "execution_count": 1,
      "outputs": []
    },
    {
      "cell_type": "code",
      "metadata": {
        "id": "-TbYyMU931CS",
        "colab": {
          "base_uri": "https://localhost:8080/",
          "height": 110
        },
        "outputId": "2685fbbc-c2f9-43da-e4f7-7106991c8390"
      },
      "source": [
        "import pandas as pd\n",
        "df = pd.read_csv(\"English Handwritten Characters/english.csv\")\n",
        "df.sample(2)"
      ],
      "execution_count": 2,
      "outputs": [
        {
          "output_type": "execute_result",
          "data": {
            "text/html": [
              "<div>\n",
              "<style scoped>\n",
              "    .dataframe tbody tr th:only-of-type {\n",
              "        vertical-align: middle;\n",
              "    }\n",
              "\n",
              "    .dataframe tbody tr th {\n",
              "        vertical-align: top;\n",
              "    }\n",
              "\n",
              "    .dataframe thead th {\n",
              "        text-align: right;\n",
              "    }\n",
              "</style>\n",
              "<table border=\"1\" class=\"dataframe\">\n",
              "  <thead>\n",
              "    <tr style=\"text-align: right;\">\n",
              "      <th></th>\n",
              "      <th>image</th>\n",
              "      <th>label</th>\n",
              "    </tr>\n",
              "  </thead>\n",
              "  <tbody>\n",
              "    <tr>\n",
              "      <th>2815</th>\n",
              "      <td>Img/img052-011.png</td>\n",
              "      <td>p</td>\n",
              "    </tr>\n",
              "    <tr>\n",
              "      <th>2153</th>\n",
              "      <td>Img/img040-009.png</td>\n",
              "      <td>d</td>\n",
              "    </tr>\n",
              "  </tbody>\n",
              "</table>\n",
              "</div>"
            ],
            "text/plain": [
              "                   image label\n",
              "2815  Img/img052-011.png     p\n",
              "2153  Img/img040-009.png     d"
            ]
          },
          "metadata": {},
          "execution_count": 2
        }
      ]
    },
    {
      "cell_type": "code",
      "metadata": {
        "id": "wx_dN3oDgY3j"
      },
      "source": [
        "original = df.label.unique().tolist() #original labels\n",
        "replace = list(range(len(original))) #encode the labels\n",
        "\n",
        "labels = dict(zip(original,replace)) #make a dictionary of labels\n",
        "\n",
        "\n",
        "save = True\n",
        "if save:\n",
        "  df.replace(to_replace = original, value = replace, inplace = True)\n",
        "  df.to_csv(\"English Handwritten Characters/english.csv\")"
      ],
      "execution_count": 3,
      "outputs": []
    },
    {
      "cell_type": "code",
      "metadata": {
        "colab": {
          "base_uri": "https://localhost:8080/"
        },
        "id": "kuo86SukkAp4",
        "outputId": "3157484e-81c6-4593-90f0-f2cb745b4979"
      },
      "source": [
        "df.info()"
      ],
      "execution_count": 4,
      "outputs": [
        {
          "output_type": "stream",
          "name": "stdout",
          "text": [
            "<class 'pandas.core.frame.DataFrame'>\n",
            "RangeIndex: 3410 entries, 0 to 3409\n",
            "Data columns (total 2 columns):\n",
            " #   Column  Non-Null Count  Dtype \n",
            "---  ------  --------------  ----- \n",
            " 0   image   3410 non-null   object\n",
            " 1   label   3410 non-null   int64 \n",
            "dtypes: int64(1), object(1)\n",
            "memory usage: 53.4+ KB\n"
          ]
        }
      ]
    },
    {
      "cell_type": "code",
      "metadata": {
        "colab": {
          "base_uri": "https://localhost:8080/",
          "height": 269
        },
        "id": "xtoMbtv45Meu",
        "outputId": "bd6676c0-cd38-4d38-8843-20550393ad06"
      },
      "source": [
        "import matplotlib.pyplot as plt\n",
        "import matplotlib.pyplot as imread\n",
        "random_image = df.sample()[\"image\"].values[0]# get the image name\n",
        "img=plt.imread(f\"English Handwritten Characters/{random_image}\")\n",
        "plt.imshow(img)\n",
        "plt.show()"
      ],
      "execution_count": 5,
      "outputs": [
        {
          "output_type": "display_data",
          "data": {
            "image/png": "[encoded data removed]",
            "text/plain": [
              "<Figure size 432x288 with 1 Axes>"
            ]
          },
          "metadata": {
            "needs_background": "light"
          }
        }
      ]
    },
    {
      "cell_type": "code",
      "metadata": {
        "colab": {
          "base_uri": "https://localhost:8080/"
        },
        "id": "uEYDzpWF683K",
        "outputId": "7a89d5b8-c42d-469a-c581-de7a4b837449"
      },
      "source": [
        "img.shape"
      ],
      "execution_count": 6,
      "outputs": [
        {
          "output_type": "execute_result",
          "data": {
            "text/plain": [
              "(900, 1200, 3)"
            ]
          },
          "metadata": {},
          "execution_count": 6
        }
      ]
    },
    {
      "cell_type": "code",
      "metadata": {
        "id": "2HqOVWGn9W6F"
      },
      "source": [
        "import os\n",
        "import torch\n",
        "import pandas as pd\n",
        "from skimage import io, transform\n",
        "import numpy as np\n",
        "import matplotlib.pyplot as plt\n",
        "from torch.utils.data import Dataset, DataLoader\n",
        "from torchvision import transforms, utils\n",
        "\n",
        "# Ignore warnings\n",
        "import warnings\n",
        "warnings.filterwarnings(\"ignore\")\n",
        "\n",
        "plt.ion()   # interactive mode\n",
        "\n"
      ],
      "execution_count": 7,
      "outputs": []
    },
    {
      "cell_type": "code",
      "metadata": {
        "id": "A3L2k33J9gVN"
      },
      "source": [
        "class EnglishWrittencharacters(Dataset):\n",
        "    \"\"\"English Written characters.\"\"\"\n",
        "\n",
        "    def __init__(self, csv_file, root_dir, transform=None):\n",
        "        \"\"\"\n",
        "        Args:\n",
        "            csv_file (string): Path to the csv file with annotations.\n",
        "            root_dir (string): Directory with all the images.\n",
        "            transform (callable, optional): Optional transform to be applied\n",
        "                on a sample.\n",
        "        \"\"\"\n",
        "        self.English_Written_characters = pd.read_csv(csv_file)\n",
        "        self.root_dir = root_dir\n",
        "        self.transform = transform\n",
        "\n",
        "    def __len__(self):\n",
        "        return len(self.English_Written_characters)\n",
        "\n",
        "    def __getitem__(self, idx):\n",
        "\n",
        "        img_name = os.path.join(self.root_dir,self.English_Written_characters[\"image\"][idx])\n",
        "                                \n",
        "        image = io.imread(img_name)\n",
        "        y_label = self.English_Written_characters[\"label\"][idx]\n",
        "        if self.transform:\n",
        "            image = self.transform(image)\n",
        "\n",
        "        return image, y_label"
      ],
      "execution_count": 8,
      "outputs": []
    },
    {
      "cell_type": "code",
      "metadata": {
        "colab": {
          "base_uri": "https://localhost:8080/",
          "height": 35
        },
        "id": "56BIG9wk-IXg",
        "outputId": "9e94faa8-b760-4ffe-b9d9-ffa4f8ec9176"
      },
      "source": [
        "English_dataset = EnglishWrittencharacters(csv_file='English Handwritten Characters/english.csv',root_dir='English Handwritten Characters',transform = transforms.ToTensor())\n",
        "                                    \n",
        "\n",
        "f\"the data has {English_dataset.__len__()} images\""
      ],
      "execution_count": 9,
      "outputs": [
        {
          "output_type": "execute_result",
          "data": {
            "application/vnd.google.colaboratory.intrinsic+json": {
              "type": "string"
            },
            "text/plain": [
              "'the data has 3410 images'"
            ]
          },
          "metadata": {},
          "execution_count": 9
        }
      ]
    },
    {
      "cell_type": "code",
      "metadata": {
        "colab": {
          "base_uri": "https://localhost:8080/"
        },
        "id": "DaDbAJWe-0FG",
        "outputId": "e5dda14e-b515-46e3-934d-431b5e2d4e8c"
      },
      "source": [
        "train_size = int(English_dataset.__len__()*0.7)\n",
        "test_size = int(English_dataset.__len__() - train_size)\n",
        "train, test = torch.utils.data.random_split(English_dataset, [train_size,test_size])\n",
        "\n",
        "print(f\"train size: {train.__len__()}\\ntest size: {test.__len__()}\")"
      ],
      "execution_count": 10,
      "outputs": [
        {
          "output_type": "stream",
          "name": "stdout",
          "text": [
            "train size: 2387\n",
            "test size: 1023\n"
          ]
        }
      ]
    },
    {
      "cell_type": "code",
      "metadata": {
        "id": "TDTrO_rdZakP"
      },
      "source": [
        "trainloader = torch.utils.data.DataLoader(train, batch_size=7, shuffle=True)\n",
        "testloader = torch.utils.data.DataLoader(test, batch_size=7, shuffle=False)"
      ],
      "execution_count": 11,
      "outputs": []
    },
    {
      "cell_type": "code",
      "metadata": {
        "id": "7izg7t_CaoMk"
      },
      "source": [
        "import torch.nn as nn\n",
        "import torch.nn.functional as F\n",
        "device = torch.device('cuda' if torch.cuda.is_available() else 'cpu')\n",
        "\n",
        "class Net(nn.Module):\n",
        "    def __init__(self):\n",
        "        super().__init__()\n",
        "        self.conv1 = nn.Conv2d(3, 12, 5)\n",
        "        self.pool = nn.MaxPool2d(2, 2)\n",
        "        self.conv2 = nn.Conv2d(12, 16, 5)\n",
        "        self.fc1 = nn.Linear(222*297*16, 120)\n",
        "        self.fc2 = nn.Linear(120, 84)\n",
        "        self.fc3 = nn.Linear(84, 62) #62 classes (0-9.a-z,A-Z)\n",
        "\n",
        "    def forward(self, x):\n",
        "        x = self.pool(F.relu(self.conv1(x)))\n",
        "        x = self.pool(F.relu(self.conv2(x)))\n",
        "        x = torch.flatten(x, 1) # flatten all dimensions except batch\n",
        "        x = F.relu(self.fc1(x))\n",
        "        x = F.relu(self.fc2(x))\n",
        "        x = self.fc3(x)\n",
        "        return x\n",
        "\n",
        "\n",
        "net = Net().to(device)"
      ],
      "execution_count": 12,
      "outputs": []
    },
    {
      "cell_type": "code",
      "metadata": {
        "id": "T6KdYjbXbTST"
      },
      "source": [
        "import torch.optim as optim\n",
        "\n",
        "criterion = nn.CrossEntropyLoss()\n",
        "optimizer = optim.SGD(net.parameters(), lr=0.001, momentum=0.9)"
      ],
      "execution_count": 13,
      "outputs": []
    },
    {
      "cell_type": "code",
      "metadata": {
        "colab": {
          "base_uri": "https://localhost:8080/"
        },
        "id": "3v0VKtCwuVSg",
        "outputId": "8aa27bf8-11db-4fcc-d84e-680a22d4726a"
      },
      "source": [
        "len(labels)"
      ],
      "execution_count": 14,
      "outputs": [
        {
          "output_type": "execute_result",
          "data": {
            "text/plain": [
              "62"
            ]
          },
          "metadata": {},
          "execution_count": 14
        }
      ]
    },
    {
      "cell_type": "code",
      "metadata": {
        "colab": {
          "base_uri": "https://localhost:8080/",
          "height": 166
        },
        "id": "CSwcT-OCvEnt",
        "outputId": "a419b819-f717-4f74-ef07-f56dd1a309d1"
      },
      "source": [
        "import matplotlib.pyplot as plt\n",
        "import numpy as np\n",
        "import torchvision\n",
        "\n",
        "# functions to show an image\n",
        "def imshow(img):    \n",
        "    plt.figure(figsize=(18, 16), dpi=80)\n",
        "    npimg = img.numpy()\n",
        "    plt.imshow(np.transpose(npimg, (1, 2, 0)))\n",
        "    plt.show()\n",
        "\n",
        "\n",
        "# get some random training images\n",
        "dataiter = iter(trainloader)\n",
        "images, targets = dataiter.next()\n",
        "\n",
        "# show images\n",
        "imshow(torchvision.utils.make_grid(images))\n",
        "\n",
        "\n",
        "# function to return key for any value\n",
        "def get_key(val):\n",
        "    for key, value in labels.items():\n",
        "         if val == value:\n",
        "             return key\n",
        " \n",
        "    return \"key doesn't exist\"\n",
        "print([get_key(target) for target in targets.numpy().tolist()])"
      ],
      "execution_count": 15,
      "outputs": [
        {
          "output_type": "display_data",
          "data": {
            "image/png": "[encoded data removed]",
            "text/plain": [
              "<Figure size 1440x1280 with 1 Axes>"
            ]
          },
          "metadata": {
            "needs_background": "light"
          }
        },
        {
          "output_type": "stream",
          "name": "stdout",
          "text": [
            "['d', 'T', 'p', 'A', 'p', 'x', 'q']\n"
          ]
        }
      ]
    },
    {
      "cell_type": "code",
      "metadata": {
        "colab": {
          "base_uri": "https://localhost:8080/"
        },
        "id": "5REr8SeEwW05",
        "outputId": "9075f434-ab66-4af0-c6cc-93b04cdfe0ab"
      },
      "source": [
        "#random data for testing the net\n",
        "x = torch.rand((10,3,900,1200),device = device)\n",
        "print(net(x).size())"
      ],
      "execution_count": 16,
      "outputs": [
        {
          "output_type": "stream",
          "name": "stdout",
          "text": [
            "torch.Size([10, 62])\n"
          ]
        }
      ]
    },
    {
      "cell_type": "code",
      "metadata": {
        "id": "dko-BAQiFJCa",
        "colab": {
          "base_uri": "https://localhost:8080/"
        },
        "outputId": "187955c7-fba2-4e7c-d760-7d3399cb8351"
      },
      "source": [
        "%%time\n",
        "for epoch in range(8):  # loop over the dataset multiple times\n",
        "\n",
        "    running_loss = 0.0\n",
        "    for i, data in enumerate(trainloader, 0):\n",
        "        # get the inputs; data is a list of [inputs, labels]\n",
        "        inputs, targets = data\n",
        "        inputs = inputs.to(device)\n",
        "        targets = targets.to(device)\n",
        "        #inputs = inputs.permute(0,3,2,1)\n",
        "\n",
        "        # zero the parameter gradients\n",
        "        optimizer.zero_grad()\n",
        "\n",
        "        # forward + backward + optimize\n",
        "        outputs = net(inputs)\n",
        "        loss = criterion(outputs, targets)\n",
        "        loss.backward()\n",
        "        optimizer.step()\n",
        "\n",
        "        # print statistics\n",
        "        running_loss += loss.item()\n",
        "        if i % 50 == 49:    # print every 50 mini-batches\n",
        "            print('[%d, %5d] loss: %.3f' %\n",
        "                  (epoch + 1, i + 1, running_loss / 50))\n",
        "            running_loss = 0.0\n",
        "\n",
        "print('Finished Training')"
      ],
      "execution_count": 17,
      "outputs": [
        {
          "output_type": "stream",
          "name": "stdout",
          "text": [
            "[1,    50] loss: 4.137\n",
            "[1,   100] loss: 4.132\n",
            "[1,   150] loss: 4.130\n",
            "[1,   200] loss: 4.126\n",
            "[1,   250] loss: 4.127\n",
            "[1,   300] loss: 4.128\n",
            "[2,    50] loss: 4.124\n",
            "[2,   100] loss: 4.110\n",
            "[2,   150] loss: 4.125\n",
            "[2,   200] loss: 4.110\n",
            "[2,   250] loss: 4.114\n",
            "[2,   300] loss: 4.107\n",
            "[3,    50] loss: 4.036\n",
            "[3,   100] loss: 4.022\n",
            "[3,   150] loss: 3.885\n",
            "[3,   200] loss: 3.815\n",
            "[3,   250] loss: 3.718\n",
            "[3,   300] loss: 3.435\n",
            "[4,    50] loss: 2.858\n",
            "[4,   100] loss: 2.901\n",
            "[4,   150] loss: 2.802\n",
            "[4,   200] loss: 2.910\n",
            "[4,   250] loss: 2.823\n",
            "[4,   300] loss: 2.856\n",
            "[5,    50] loss: 1.963\n",
            "[5,   100] loss: 2.027\n",
            "[5,   150] loss: 1.911\n",
            "[5,   200] loss: 1.942\n",
            "[5,   250] loss: 1.850\n",
            "[5,   300] loss: 1.869\n",
            "[6,    50] loss: 0.809\n",
            "[6,   100] loss: 0.563\n",
            "[6,   150] loss: 0.865\n",
            "[6,   200] loss: 0.853\n",
            "[6,   250] loss: 0.908\n",
            "[6,   300] loss: 0.734\n",
            "[7,    50] loss: 0.255\n",
            "[7,   100] loss: 0.181\n",
            "[7,   150] loss: 0.218\n",
            "[7,   200] loss: 0.347\n",
            "[7,   250] loss: 0.260\n",
            "[7,   300] loss: 0.182\n",
            "[8,    50] loss: 0.168\n",
            "[8,   100] loss: 0.117\n",
            "[8,   150] loss: 0.078\n",
            "[8,   200] loss: 0.263\n",
            "[8,   250] loss: 0.335\n",
            "[8,   300] loss: 0.152\n",
            "Finished Training\n",
            "CPU times: user 33min 43s, sys: 4min 44s, total: 38min 28s\n",
            "Wall time: 38min 25s\n"
          ]
        }
      ]
    },
    {
      "cell_type": "code",
      "metadata": {
        "id": "Bg4VamhMaais",
        "colab": {
          "base_uri": "https://localhost:8080/"
        },
        "outputId": "ecd0e5ae-7250-4cbd-f2c1-6a4e330e9142"
      },
      "source": [
        "correct = 0\n",
        "total = 0\n",
        "# since we're not training, we don't need to calculate the gradients for our outputs\n",
        "with torch.no_grad():\n",
        "    for data in trainloader:\n",
        "        inputs, targets = data\n",
        "        inputs = inputs.to(device)\n",
        "        targets = targets.to(device)\n",
        "        # calculate outputs by running images through the network \n",
        "        outputs = net(inputs)\n",
        "        # the class with the highest energy is what we choose as prediction\n",
        "        _, predicted = torch.max(outputs.data, 1)\n",
        "        total += targets.size(0)\n",
        "        correct += (predicted == targets).sum().item()\n",
        "\n",
        "print('Accuracy of the network on the 2387 train images: %.3f %%' % (\n",
        "    100 * correct / total))"
      ],
      "execution_count": 18,
      "outputs": [
        {
          "output_type": "stream",
          "name": "stdout",
          "text": [
            "Accuracy of the network on the 2387 train images: 97.151 %\n"
          ]
        }
      ]
    },
    {
      "cell_type": "code",
      "metadata": {
        "id": "Iv-sfVb9mCIO",
        "colab": {
          "base_uri": "https://localhost:8080/"
        },
        "outputId": "9df055f2-c6c7-4bbb-fdbb-9b865eef73ee"
      },
      "source": [
        "correct = 0\n",
        "total = 0\n",
        "# since we're not training, we don't need to calculate the gradients for our outputs\n",
        "with torch.no_grad():\n",
        "    for data in testloader:\n",
        "        inputs, targets = data\n",
        "        inputs = inputs.to(device)\n",
        "        targets = targets.to(device)\n",
        "        # calculate outputs by running images through the network \n",
        "        outputs = net(inputs)\n",
        "        # the class with the highest energy is what we choose as prediction\n",
        "        _, predicted = torch.max(outputs.data, 1)\n",
        "        total += targets.size(0)\n",
        "        correct += (predicted == targets).sum().item()\n",
        "\n",
        "print('Accuracy of the network on the 1023 test images: %.3f %%' % (\n",
        "    100 * correct / total))"
      ],
      "execution_count": 19,
      "outputs": [
        {
          "metadata": {
            "tags": null
          },
          "name": "stdout",
          "output_type": "stream",
          "text": [
            "Accuracy of the network on the 1023 test images: 23.265 %\n"
          ]
        }
      ]
    },
    {
      "cell_type": "code",
      "metadata": {
        "id": "TiB0d2vZcYPs",
        "colab": {
          "base_uri": "https://localhost:8080/"
        },
        "outputId": "84440bbd-74ad-4ae2-fb05-d0ca5384dde3"
      },
      "source": [
        "# prepare to count predictions for each class\n",
        "classes = list(labels.values())\n",
        "correct_pred = {classname: 0 for classname in classes}\n",
        "total_pred = {classname: 0 for classname in classes}\n",
        "\n",
        "# again no gradients needed\n",
        "with torch.no_grad():\n",
        "    for data in testloader:\n",
        "        inputs, targets = data \n",
        "        inputs = inputs.to(device)\n",
        "        targets = targets.to(device)           \n",
        "        outputs = net(inputs)    \n",
        "        _, predictions = torch.max(outputs, 1)\n",
        "        # collect the correct predictions for each class\n",
        "        for target, prediction in zip(targets, predictions):\n",
        "            if target == prediction:\n",
        "                correct_pred[classes[target]] += 1\n",
        "            total_pred[classes[target]] += 1\n",
        "\n",
        "  \n",
        "# print accuracy for each class\n",
        "for classname, correct_count in correct_pred.items():\n",
        "    accuracy = 100 * float(correct_count) / total_pred[classname]\n",
        "    print(\"Accuracy for class {:5s} is: {:.1f} %\".format(get_key(classname), accuracy)) "
      ],
      "execution_count": 23,
      "outputs": [
        {
          "output_type": "stream",
          "name": "stdout",
          "text": [
            "Accuracy for class 0     is: 38.5 %\n",
            "Accuracy for class 1     is: 15.4 %\n",
            "Accuracy for class 2     is: 23.8 %\n",
            "Accuracy for class 3     is: 15.8 %\n",
            "Accuracy for class 4     is: 18.8 %\n",
            "Accuracy for class 5     is: 23.1 %\n",
            "Accuracy for class 6     is: 22.2 %\n",
            "Accuracy for class 7     is: 7.1 %\n",
            "Accuracy for class 8     is: 21.4 %\n",
            "Accuracy for class 9     is: 8.3 %\n",
            "Accuracy for class A     is: 10.5 %\n",
            "Accuracy for class B     is: 18.2 %\n",
            "Accuracy for class C     is: 5.9 %\n",
            "Accuracy for class D     is: 21.1 %\n",
            "Accuracy for class E     is: 58.3 %\n",
            "Accuracy for class F     is: 6.2 %\n",
            "Accuracy for class G     is: 12.5 %\n",
            "Accuracy for class H     is: 13.6 %\n",
            "Accuracy for class I     is: 15.4 %\n",
            "Accuracy for class J     is: 36.8 %\n",
            "Accuracy for class K     is: 20.0 %\n",
            "Accuracy for class L     is: 27.3 %\n",
            "Accuracy for class M     is: 66.7 %\n",
            "Accuracy for class N     is: 0.0 %\n",
            "Accuracy for class O     is: 11.8 %\n",
            "Accuracy for class P     is: 58.8 %\n",
            "Accuracy for class Q     is: 29.4 %\n",
            "Accuracy for class R     is: 16.7 %\n",
            "Accuracy for class S     is: 30.0 %\n",
            "Accuracy for class T     is: 29.4 %\n",
            "Accuracy for class U     is: 37.5 %\n",
            "Accuracy for class V     is: 47.1 %\n",
            "Accuracy for class W     is: 42.1 %\n",
            "Accuracy for class X     is: 38.5 %\n",
            "Accuracy for class Y     is: 22.7 %\n",
            "Accuracy for class Z     is: 33.3 %\n",
            "Accuracy for class a     is: 11.1 %\n",
            "Accuracy for class b     is: 27.8 %\n",
            "Accuracy for class c     is: 53.8 %\n",
            "Accuracy for class d     is: 25.0 %\n",
            "Accuracy for class e     is: 13.3 %\n",
            "Accuracy for class f     is: 19.0 %\n",
            "Accuracy for class g     is: 17.6 %\n",
            "Accuracy for class h     is: 13.3 %\n",
            "Accuracy for class i     is: 26.1 %\n",
            "Accuracy for class j     is: 40.0 %\n",
            "Accuracy for class k     is: 7.1 %\n",
            "Accuracy for class l     is: 16.7 %\n",
            "Accuracy for class m     is: 47.1 %\n",
            "Accuracy for class n     is: 8.3 %\n",
            "Accuracy for class o     is: 11.8 %\n",
            "Accuracy for class p     is: 33.3 %\n",
            "Accuracy for class q     is: 17.6 %\n",
            "Accuracy for class r     is: 17.6 %\n",
            "Accuracy for class s     is: 6.2 %\n",
            "Accuracy for class t     is: 15.8 %\n",
            "Accuracy for class u     is: 15.8 %\n",
            "Accuracy for class v     is: 29.4 %\n",
            "Accuracy for class w     is: 37.5 %\n",
            "Accuracy for class x     is: 12.5 %\n",
            "Accuracy for class y     is: 36.4 %\n",
            "Accuracy for class z     is: 0.0 %\n"
          ]
        }
      ]
    },
    {
      "cell_type": "markdown",
      "metadata": {
        "id": "495Jw76420LL"
      },
      "source": [
        "## Resnet 18 Model"
      ]
    },
    {
      "cell_type": "code",
      "metadata": {
        "colab": {
          "base_uri": "https://localhost:8080/"
        },
        "id": "lwx_UeKs22zd",
        "outputId": "468d0c90-e8b6-4ecd-94af-938eb6ca15e3"
      },
      "source": [
        "from torchvision import models\n",
        "model_ft = models.resnet18(pretrained=True)\n",
        "num_ftrs = model_ft.fc.in_features\n",
        "# Here the size of each output sample is set to 62.\n",
        "# Alternatively, it can be generalized to nn.Linear(num_ftrs, len(class_names)).\n",
        "model_ft.fc = nn.Linear(num_ftrs, 62)\n",
        "\n",
        "model_ft = model_ft.to(device)\n",
        "model_ft"
      ],
      "execution_count": 24,
      "outputs": [
        {
          "output_type": "execute_result",
          "data": {
            "text/plain": [
              "ResNet(\n",
              "  (conv1): Conv2d(3, 64, kernel_size=(7, 7), stride=(2, 2), padding=(3, 3), bias=False)\n",
              "  (bn1): BatchNorm2d(64, eps=1e-05, momentum=0.1, affine=True, track_running_stats=True)\n",
              "  (relu): ReLU(inplace=True)\n",
              "  (maxpool): MaxPool2d(kernel_size=3, stride=2, padding=1, dilation=1, ceil_mode=False)\n",
              "  (layer1): Sequential(\n",
              "    (0): BasicBlock(\n",
              "      (conv1): Conv2d(64, 64, kernel_size=(3, 3), stride=(1, 1), padding=(1, 1), bias=False)\n",
              "      (bn1): BatchNorm2d(64, eps=1e-05, momentum=0.1, affine=True, track_running_stats=True)\n",
              "      (relu): ReLU(inplace=True)\n",
              "      (conv2): Conv2d(64, 64, kernel_size=(3, 3), stride=(1, 1), padding=(1, 1), bias=False)\n",
              "      (bn2): BatchNorm2d(64, eps=1e-05, momentum=0.1, affine=True, track_running_stats=True)\n",
              "    )\n",
              "    (1): BasicBlock(\n",
              "      (conv1): Conv2d(64, 64, kernel_size=(3, 3), stride=(1, 1), padding=(1, 1), bias=False)\n",
              "      (bn1): BatchNorm2d(64, eps=1e-05, momentum=0.1, affine=True, track_running_stats=True)\n",
              "      (relu): ReLU(inplace=True)\n",
              "      (conv2): Conv2d(64, 64, kernel_size=(3, 3), stride=(1, 1), padding=(1, 1), bias=False)\n",
              "      (bn2): BatchNorm2d(64, eps=1e-05, momentum=0.1, affine=True, track_running_stats=True)\n",
              "    )\n",
              "  )\n",
              "  (layer2): Sequential(\n",
              "    (0): BasicBlock(\n",
              "      (conv1): Conv2d(64, 128, kernel_size=(3, 3), stride=(2, 2), padding=(1, 1), bias=False)\n",
              "      (bn1): BatchNorm2d(128, eps=1e-05, momentum=0.1, affine=True, track_running_stats=True)\n",
              "      (relu): ReLU(inplace=True)\n",
              "      (conv2): Conv2d(128, 128, kernel_size=(3, 3), stride=(1, 1), padding=(1, 1), bias=False)\n",
              "      (bn2): BatchNorm2d(128, eps=1e-05, momentum=0.1, affine=True, track_running_stats=True)\n",
              "      (downsample): Sequential(\n",
              "        (0): Conv2d(64, 128, kernel_size=(1, 1), stride=(2, 2), bias=False)\n",
              "        (1): BatchNorm2d(128, eps=1e-05, momentum=0.1, affine=True, track_running_stats=True)\n",
              "      )\n",
              "    )\n",
              "    (1): BasicBlock(\n",
              "      (conv1): Conv2d(128, 128, kernel_size=(3, 3), stride=(1, 1), padding=(1, 1), bias=False)\n",
              "      (bn1): BatchNorm2d(128, eps=1e-05, momentum=0.1, affine=True, track_running_stats=True)\n",
              "      (relu): ReLU(inplace=True)\n",
              "      (conv2): Conv2d(128, 128, kernel_size=(3, 3), stride=(1, 1), padding=(1, 1), bias=False)\n",
              "      (bn2): BatchNorm2d(128, eps=1e-05, momentum=0.1, affine=True, track_running_stats=True)\n",
              "    )\n",
              "  )\n",
              "  (layer3): Sequential(\n",
              "    (0): BasicBlock(\n",
              "      (conv1): Conv2d(128, 256, kernel_size=(3, 3), stride=(2, 2), padding=(1, 1), bias=False)\n",
              "      (bn1): BatchNorm2d(256, eps=1e-05, momentum=0.1, affine=True, track_running_stats=True)\n",
              "      (relu): ReLU(inplace=True)\n",
              "      (conv2): Conv2d(256, 256, kernel_size=(3, 3), stride=(1, 1), padding=(1, 1), bias=False)\n",
              "      (bn2): BatchNorm2d(256, eps=1e-05, momentum=0.1, affine=True, track_running_stats=True)\n",
              "      (downsample): Sequential(\n",
              "        (0): Conv2d(128, 256, kernel_size=(1, 1), stride=(2, 2), bias=False)\n",
              "        (1): BatchNorm2d(256, eps=1e-05, momentum=0.1, affine=True, track_running_stats=True)\n",
              "      )\n",
              "    )\n",
              "    (1): BasicBlock(\n",
              "      (conv1): Conv2d(256, 256, kernel_size=(3, 3), stride=(1, 1), padding=(1, 1), bias=False)\n",
              "      (bn1): BatchNorm2d(256, eps=1e-05, momentum=0.1, affine=True, track_running_stats=True)\n",
              "      (relu): ReLU(inplace=True)\n",
              "      (conv2): Conv2d(256, 256, kernel_size=(3, 3), stride=(1, 1), padding=(1, 1), bias=False)\n",
              "      (bn2): BatchNorm2d(256, eps=1e-05, momentum=0.1, affine=True, track_running_stats=True)\n",
              "    )\n",
              "  )\n",
              "  (layer4): Sequential(\n",
              "    (0): BasicBlock(\n",
              "      (conv1): Conv2d(256, 512, kernel_size=(3, 3), stride=(2, 2), padding=(1, 1), bias=False)\n",
              "      (bn1): BatchNorm2d(512, eps=1e-05, momentum=0.1, affine=True, track_running_stats=True)\n",
              "      (relu): ReLU(inplace=True)\n",
              "      (conv2): Conv2d(512, 512, kernel_size=(3, 3), stride=(1, 1), padding=(1, 1), bias=False)\n",
              "      (bn2): BatchNorm2d(512, eps=1e-05, momentum=0.1, affine=True, track_running_stats=True)\n",
              "      (downsample): Sequential(\n",
              "        (0): Conv2d(256, 512, kernel_size=(1, 1), stride=(2, 2), bias=False)\n",
              "        (1): BatchNorm2d(512, eps=1e-05, momentum=0.1, affine=True, track_running_stats=True)\n",
              "      )\n",
              "    )\n",
              "    (1): BasicBlock(\n",
              "      (conv1): Conv2d(512, 512, kernel_size=(3, 3), stride=(1, 1), padding=(1, 1), bias=False)\n",
              "      (bn1): BatchNorm2d(512, eps=1e-05, momentum=0.1, affine=True, track_running_stats=True)\n",
              "      (relu): ReLU(inplace=True)\n",
              "      (conv2): Conv2d(512, 512, kernel_size=(3, 3), stride=(1, 1), padding=(1, 1), bias=False)\n",
              "      (bn2): BatchNorm2d(512, eps=1e-05, momentum=0.1, affine=True, track_running_stats=True)\n",
              "    )\n",
              "  )\n",
              "  (avgpool): AdaptiveAvgPool2d(output_size=(1, 1))\n",
              "  (fc): Linear(in_features=512, out_features=62, bias=True)\n",
              ")"
            ]
          },
          "metadata": {},
          "execution_count": 24
        }
      ]
    },
    {
      "cell_type": "code",
      "metadata": {
        "id": "XQXhVjr928Gy"
      },
      "source": [
        "English_dataset = EnglishWrittencharacters(csv_file='English Handwritten Characters/english.csv',root_dir='English Handwritten Characters',transform = transforms.Compose([\n",
        "\n",
        "        transforms.ToTensor(),\n",
        "        transforms.RandomResizedCrop(224),\n",
        "        transforms.RandomHorizontalFlip(),\n",
        "        transforms.Normalize([0.485, 0.456, 0.406], [0.229, 0.224, 0.225])]))\n",
        "                                           \n",
        "                                           \n",
        "train_size = int(English_dataset.__len__()*0.7)\n",
        "test_size = int(English_dataset.__len__() - train_size)\n",
        "train, test = torch.utils.data.random_split(English_dataset, [train_size,test_size])\n",
        "\n",
        "                                           \n",
        "trainloader = torch.utils.data.DataLoader(train, batch_size=7, shuffle=True)\n",
        "testloader = torch.utils.data.DataLoader(test, batch_size=7, shuffle=False)\n",
        "                                           \n",
        "\n",
        "criterion = nn.CrossEntropyLoss()\n",
        "optimizer = optim.SGD(model_ft.parameters(), lr=0.001, momentum=0.9)\n"
      ],
      "execution_count": 26,
      "outputs": []
    },
    {
      "cell_type": "code",
      "metadata": {
        "colab": {
          "base_uri": "https://localhost:8080/"
        },
        "id": "AN0NpRdj3AFj",
        "outputId": "41799596-67fc-430d-fdc6-05c2a39fc6e9"
      },
      "source": [
        "%%time\n",
        "for epoch in range(10):  # loop over the dataset multiple times\n",
        "\n",
        "    running_loss = 0.0\n",
        "    for i, data in enumerate(trainloader, 0):\n",
        "        # get the inputs; data is a list of [inputs, labels]\n",
        "        inputs, targets = data\n",
        "        inputs = inputs.to(device)\n",
        "        targets = targets.to(device)\n",
        "        #inputs = inputs.permute(0,3,2,1)\n",
        "\n",
        "        # zero the parameter gradients\n",
        "        optimizer.zero_grad()\n",
        "\n",
        "        # forward + backward + optimize\n",
        "        outputs = model_ft(inputs)\n",
        "        loss = criterion(outputs, targets)\n",
        "        loss.backward()\n",
        "        optimizer.step()\n",
        "\n",
        "        # print statistics\n",
        "        running_loss += loss.item()\n",
        "        if i % 50 == 49:    # print every 50 mini-batches\n",
        "            print('[%d, %5d] loss: %.3f' %\n",
        "                  (epoch + 1, i + 1, running_loss / 50))\n",
        "            running_loss = 0.0\n",
        "\n",
        "print('Finished Training')"
      ],
      "execution_count": 27,
      "outputs": [
        {
          "output_type": "stream",
          "name": "stdout",
          "text": [
            "[1,    50] loss: 4.257\n",
            "[1,   100] loss: 3.926\n",
            "[1,   150] loss: 3.552\n",
            "[1,   200] loss: 3.387\n",
            "[1,   250] loss: 3.019\n",
            "[1,   300] loss: 2.734\n",
            "[2,    50] loss: 2.506\n",
            "[2,   100] loss: 2.250\n",
            "[2,   150] loss: 2.207\n",
            "[2,   200] loss: 2.272\n",
            "[2,   250] loss: 2.110\n",
            "[2,   300] loss: 2.050\n",
            "[3,    50] loss: 1.899\n",
            "[3,   100] loss: 1.878\n",
            "[3,   150] loss: 1.757\n",
            "[3,   200] loss: 1.682\n",
            "[3,   250] loss: 1.599\n",
            "[3,   300] loss: 1.865\n",
            "[4,    50] loss: 1.582\n",
            "[4,   100] loss: 1.588\n",
            "[4,   150] loss: 1.609\n",
            "[4,   200] loss: 1.607\n",
            "[4,   250] loss: 1.552\n",
            "[4,   300] loss: 1.548\n",
            "[5,    50] loss: 1.534\n",
            "[5,   100] loss: 1.544\n",
            "[5,   150] loss: 1.425\n",
            "[5,   200] loss: 1.446\n",
            "[5,   250] loss: 1.599\n",
            "[5,   300] loss: 1.339\n",
            "[6,    50] loss: 1.447\n",
            "[6,   100] loss: 1.357\n",
            "[6,   150] loss: 1.414\n",
            "[6,   200] loss: 1.445\n",
            "[6,   250] loss: 1.396\n",
            "[6,   300] loss: 1.260\n",
            "[7,    50] loss: 1.253\n",
            "[7,   100] loss: 1.260\n",
            "[7,   150] loss: 1.316\n",
            "[7,   200] loss: 1.301\n",
            "[7,   250] loss: 1.330\n",
            "[7,   300] loss: 1.270\n",
            "[8,    50] loss: 1.291\n",
            "[8,   100] loss: 1.350\n",
            "[8,   150] loss: 1.239\n",
            "[8,   200] loss: 1.368\n",
            "[8,   250] loss: 1.351\n",
            "[8,   300] loss: 1.283\n",
            "[9,    50] loss: 1.213\n",
            "[9,   100] loss: 1.425\n",
            "[9,   150] loss: 1.234\n",
            "[9,   200] loss: 1.103\n",
            "[9,   250] loss: 1.104\n",
            "[9,   300] loss: 1.193\n",
            "[10,    50] loss: 1.281\n",
            "[10,   100] loss: 1.276\n",
            "[10,   150] loss: 1.258\n",
            "[10,   200] loss: 1.156\n",
            "[10,   250] loss: 1.165\n",
            "[10,   300] loss: 1.173\n",
            "Finished Training\n",
            "CPU times: user 16min 3s, sys: 12.2 s, total: 16min 15s\n",
            "Wall time: 16min 15s\n"
          ]
        }
      ]
    },
    {
      "cell_type": "code",
      "metadata": {
        "colab": {
          "base_uri": "https://localhost:8080/"
        },
        "id": "Y8GiBGWQ3CTf",
        "outputId": "94a866a4-0256-458c-afc4-c96b2761080a"
      },
      "source": [
        "correct = 0\n",
        "total = 0\n",
        "# since we're not training, we don't need to calculate the gradients for our outputs\n",
        "with torch.no_grad():\n",
        "    for data in trainloader:\n",
        "        inputs, targets = data\n",
        "        inputs = inputs.to(device)\n",
        "        targets = targets.to(device)\n",
        "        # calculate outputs by running images through the network \n",
        "        outputs = model_ft(inputs)\n",
        "        # the class with the highest energy is what we choose as prediction\n",
        "        _, predicted = torch.max(outputs.data, 1)\n",
        "        total += targets.size(0)\n",
        "        correct += (predicted == targets).sum().item()\n",
        "\n",
        "print('Accuracy of the network on the 2387 train images: %.3f %%' % (\n",
        "    100 * correct / total))"
      ],
      "execution_count": 28,
      "outputs": [
        {
          "output_type": "stream",
          "name": "stdout",
          "text": [
            "Accuracy of the network on the 2387 train images: 68.538 %\n"
          ]
        }
      ]
    },
    {
      "cell_type": "code",
      "metadata": {
        "colab": {
          "base_uri": "https://localhost:8080/"
        },
        "id": "P5ir_jdM3G7T",
        "outputId": "5aee6985-4a41-4e8e-e585-e0db2c3444e2"
      },
      "source": [
        "correct = 0\n",
        "total = 0\n",
        "# since we're not training, we don't need to calculate the gradients for our outputs\n",
        "with torch.no_grad():\n",
        "    for data in testloader:\n",
        "        inputs, targets = data\n",
        "        inputs = inputs.to(device)\n",
        "        targets = targets.to(device)\n",
        "        # calculate outputs by running images through the network \n",
        "        outputs = model_ft(inputs)\n",
        "        # the class with the highest energy is what we choose as prediction\n",
        "        _, predicted = torch.max(outputs.data, 1)\n",
        "        total += targets.size(0)\n",
        "        correct += (predicted == targets).sum().item()\n",
        "\n",
        "print('Accuracy of the network on the 1023 test images: %.3f %%' % (\n",
        "    100 * correct / total))"
      ],
      "execution_count": 29,
      "outputs": [
        {
          "output_type": "stream",
          "name": "stdout",
          "text": [
            "Accuracy of the network on the 1023 test images: 64.418 %\n"
          ]
        }
      ]
    },
    {
      "cell_type": "code",
      "metadata": {
        "colab": {
          "base_uri": "https://localhost:8080/"
        },
        "id": "ZONxqwIp3JtC",
        "outputId": "4c94d072-de31-48c3-ea66-0292d1ae9585"
      },
      "source": [
        "# prepare to count predictions for each class\n",
        "classes = list(labels.values())\n",
        "correct_pred = {classname: 0 for classname in classes}\n",
        "total_pred = {classname: 0 for classname in classes}\n",
        "\n",
        "# again no gradients needed\n",
        "with torch.no_grad():\n",
        "    for data in testloader:\n",
        "        inputs, targets = data \n",
        "        inputs = inputs.to(device)\n",
        "        targets = targets.to(device)           \n",
        "        outputs = model_ft(inputs)    \n",
        "        _, predictions = torch.max(outputs, 1)\n",
        "        # collect the correct predictions for each class\n",
        "        for target, prediction in zip(targets, predictions):\n",
        "            if target == prediction:\n",
        "                correct_pred[classes[target]] += 1\n",
        "            total_pred[classes[target]] += 1\n",
        "\n",
        "  \n",
        "# print accuracy for each class\n",
        "for classname, correct_count in correct_pred.items():\n",
        "    accuracy = 100 * float(correct_count) / total_pred[classname]\n",
        "    print(\"Accuracy for class {:5s} is: {:.1f} %\".format(get_key(classname), accuracy))       "
      ],
      "execution_count": 30,
      "outputs": [
        {
          "output_type": "stream",
          "name": "stdout",
          "text": [
            "Accuracy for class 0     is: 5.9 %\n",
            "Accuracy for class 1     is: 70.6 %\n",
            "Accuracy for class 2     is: 66.7 %\n",
            "Accuracy for class 3     is: 90.0 %\n",
            "Accuracy for class 4     is: 78.6 %\n",
            "Accuracy for class 5     is: 81.2 %\n",
            "Accuracy for class 6     is: 64.7 %\n",
            "Accuracy for class 7     is: 66.7 %\n",
            "Accuracy for class 8     is: 72.2 %\n",
            "Accuracy for class 9     is: 64.3 %\n",
            "Accuracy for class A     is: 72.2 %\n",
            "Accuracy for class B     is: 78.9 %\n",
            "Accuracy for class C     is: 81.0 %\n",
            "Accuracy for class D     is: 83.3 %\n",
            "Accuracy for class E     is: 61.1 %\n",
            "Accuracy for class F     is: 62.5 %\n",
            "Accuracy for class G     is: 76.5 %\n",
            "Accuracy for class H     is: 76.5 %\n",
            "Accuracy for class I     is: 41.2 %\n",
            "Accuracy for class J     is: 52.4 %\n",
            "Accuracy for class K     is: 22.2 %\n",
            "Accuracy for class L     is: 81.8 %\n",
            "Accuracy for class M     is: 65.0 %\n",
            "Accuracy for class N     is: 69.2 %\n",
            "Accuracy for class O     is: 92.3 %\n",
            "Accuracy for class P     is: 62.5 %\n",
            "Accuracy for class Q     is: 76.5 %\n",
            "Accuracy for class R     is: 63.2 %\n",
            "Accuracy for class S     is: 37.5 %\n",
            "Accuracy for class T     is: 87.5 %\n",
            "Accuracy for class U     is: 76.9 %\n",
            "Accuracy for class V     is: 75.0 %\n",
            "Accuracy for class W     is: 73.7 %\n",
            "Accuracy for class X     is: 50.0 %\n",
            "Accuracy for class Y     is: 81.2 %\n",
            "Accuracy for class Z     is: 46.2 %\n",
            "Accuracy for class a     is: 76.5 %\n",
            "Accuracy for class b     is: 78.6 %\n",
            "Accuracy for class c     is: 37.5 %\n",
            "Accuracy for class d     is: 26.1 %\n",
            "Accuracy for class e     is: 66.7 %\n",
            "Accuracy for class f     is: 52.9 %\n",
            "Accuracy for class g     is: 75.0 %\n",
            "Accuracy for class h     is: 88.2 %\n",
            "Accuracy for class i     is: 73.9 %\n",
            "Accuracy for class j     is: 61.1 %\n",
            "Accuracy for class k     is: 75.0 %\n",
            "Accuracy for class l     is: 46.2 %\n",
            "Accuracy for class m     is: 82.4 %\n",
            "Accuracy for class n     is: 63.2 %\n",
            "Accuracy for class o     is: 50.0 %\n",
            "Accuracy for class p     is: 38.9 %\n",
            "Accuracy for class q     is: 80.0 %\n",
            "Accuracy for class r     is: 50.0 %\n",
            "Accuracy for class s     is: 56.2 %\n",
            "Accuracy for class t     is: 76.9 %\n",
            "Accuracy for class u     is: 42.9 %\n",
            "Accuracy for class v     is: 66.7 %\n",
            "Accuracy for class w     is: 66.7 %\n",
            "Accuracy for class x     is: 82.4 %\n",
            "Accuracy for class y     is: 76.5 %\n",
            "Accuracy for class z     is: 84.6 %\n"
          ]
        }
      ]
    }
  ]
}