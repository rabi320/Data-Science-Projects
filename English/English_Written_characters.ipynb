{
  "nbformat": 4,
  "nbformat_minor": 0,
  "metadata": {
    "colab": {
      "name": "English Written characters.ipynb",
      "provenance": [],
      "collapsed_sections": [],
      "authorship_tag": "ABX9TyOebW+yqFULp8o/BJgZsKTW",
      "include_colab_link": true
    },
    "kernelspec": {
      "name": "python3",
      "display_name": "Python 3"
    },
    "language_info": {
      "name": "python"
    }
  },
  "cells": [
    {
      "cell_type": "markdown",
      "metadata": {
        "id": "view-in-github",
        "colab_type": "text"
      },
      "source": [
        "<a href=\"https://colab.research.google.com/github/rabi320/Data-Science-Projects/blob/master/English/English_Written_characters.ipynb\" target=\"_parent\"><img src=\"https://colab.research.google.com/assets/colab-badge.svg\" alt=\"Open In Colab\"/></a>"
      ]
    },
    {
      "cell_type": "markdown",
      "metadata": {
        "id": "LYSnojsd2Hps"
      },
      "source": [
        "#  English Written characters\n",
        "![](https://www.researchgate.net/profile/Niranjan-S-K/publication/265317661/figure/fig1/AS:306759173459968@1450148494911/Sample-image-of-English-characters.png)\n",
        "\n",
        "This notebook will be used to classify 3,410 images of handwritten characters in English. This is a classification dataset that can be used for Computer Vision tasks. It contains 62 classes with 55 images of each class. The 62 classes are 0-9, A-Z and a-z."
      ]
    },
    {
      "cell_type": "code",
      "metadata": {
        "id": "-o54bYja0H9_"
      },
      "source": [
        "# extract all files\n",
        "import zipfile\n",
        "zp = True\n",
        "if zp:\n",
        "    with zipfile.ZipFile(\"English Handwritten Characters.zip\",\"r\") as zip_ref:\n",
        "        zip_ref.extractall(\"English Handwritten Characters\")"
      ],
      "execution_count": 298,
      "outputs": []
    },
    {
      "cell_type": "code",
      "metadata": {
        "id": "-TbYyMU931CS",
        "colab": {
          "base_uri": "https://localhost:8080/",
          "height": 110
        },
        "outputId": "b3c06dd1-479f-4f93-e1a8-3c8196699f1b"
      },
      "source": [
        "import pandas as pd\n",
        "df = pd.read_csv(\"English Handwritten Characters/english.csv\")\n",
        "df.sample(2)"
      ],
      "execution_count": 299,
      "outputs": [
        {
          "output_type": "execute_result",
          "data": {
            "text/html": [
              "<div>\n",
              "<style scoped>\n",
              "    .dataframe tbody tr th:only-of-type {\n",
              "        vertical-align: middle;\n",
              "    }\n",
              "\n",
              "    .dataframe tbody tr th {\n",
              "        vertical-align: top;\n",
              "    }\n",
              "\n",
              "    .dataframe thead th {\n",
              "        text-align: right;\n",
              "    }\n",
              "</style>\n",
              "<table border=\"1\" class=\"dataframe\">\n",
              "  <thead>\n",
              "    <tr style=\"text-align: right;\">\n",
              "      <th></th>\n",
              "      <th>image</th>\n",
              "      <th>label</th>\n",
              "    </tr>\n",
              "  </thead>\n",
              "  <tbody>\n",
              "    <tr>\n",
              "      <th>1578</th>\n",
              "      <td>Img/img029-039.png</td>\n",
              "      <td>S</td>\n",
              "    </tr>\n",
              "    <tr>\n",
              "      <th>1436</th>\n",
              "      <td>Img/img027-007.png</td>\n",
              "      <td>Q</td>\n",
              "    </tr>\n",
              "  </tbody>\n",
              "</table>\n",
              "</div>"
            ],
            "text/plain": [
              "                   image label\n",
              "1578  Img/img029-039.png     S\n",
              "1436  Img/img027-007.png     Q"
            ]
          },
          "metadata": {},
          "execution_count": 299
        }
      ]
    },
    {
      "cell_type": "code",
      "metadata": {
        "id": "wx_dN3oDgY3j"
      },
      "source": [
        "original = df.label.unique().tolist() #original labels\n",
        "replace = list(range(len(original))) #encode the labels\n",
        "\n",
        "labels = dict(zip(original,replace)) #make a dictionary of labels\n",
        "\n",
        "\n",
        "save = True\n",
        "if save:\n",
        "  df.replace(to_replace = original, value = replace, inplace = True)\n",
        "  df.to_csv(\"English Handwritten Characters/english.csv\")"
      ],
      "execution_count": 300,
      "outputs": []
    },
    {
      "cell_type": "code",
      "metadata": {
        "colab": {
          "base_uri": "https://localhost:8080/"
        },
        "id": "kuo86SukkAp4",
        "outputId": "3d7fd114-648a-4980-fc57-ed9994ceab5a"
      },
      "source": [
        "df.info()"
      ],
      "execution_count": 301,
      "outputs": [
        {
          "output_type": "stream",
          "name": "stdout",
          "text": [
            "<class 'pandas.core.frame.DataFrame'>\n",
            "RangeIndex: 3410 entries, 0 to 3409\n",
            "Data columns (total 2 columns):\n",
            " #   Column  Non-Null Count  Dtype \n",
            "---  ------  --------------  ----- \n",
            " 0   image   3410 non-null   object\n",
            " 1   label   3410 non-null   int64 \n",
            "dtypes: int64(1), object(1)\n",
            "memory usage: 53.4+ KB\n"
          ]
        }
      ]
    },
    {
      "cell_type": "code",
      "metadata": {
        "colab": {
          "base_uri": "https://localhost:8080/",
          "height": 269
        },
        "id": "xtoMbtv45Meu",
        "outputId": "4527a8a0-27b5-4702-ec7b-c68a554f472e"
      },
      "source": [
        "import matplotlib.pyplot as plt\n",
        "import matplotlib.pyplot as imread\n",
        "random_image = df.sample()[\"image\"].values[0]# get the image name\n",
        "img=plt.imread(f\"English Handwritten Characters/{random_image}\")\n",
        "plt.imshow(img)\n",
        "plt.show()"
      ],
      "execution_count": 302,
      "outputs": [
        {
          "output_type": "display_data",
          "data": {
            "image/png": "[encoded data removed]",
            "text/plain": [
              "<Figure size 432x288 with 1 Axes>"
            ]
          },
          "metadata": {
            "needs_background": "light"
          }
        }
      ]
    },
    {
      "cell_type": "code",
      "metadata": {
        "colab": {
          "base_uri": "https://localhost:8080/"
        },
        "id": "uEYDzpWF683K",
        "outputId": "d7d12c62-4d2b-4c75-f8c7-a7a6f72b87d0"
      },
      "source": [
        "img.shape"
      ],
      "execution_count": 303,
      "outputs": [
        {
          "output_type": "execute_result",
          "data": {
            "text/plain": [
              "(900, 1200, 3)"
            ]
          },
          "metadata": {},
          "execution_count": 303
        }
      ]
    },
    {
      "cell_type": "code",
      "metadata": {
        "id": "2HqOVWGn9W6F"
      },
      "source": [
        "import os\n",
        "import torch\n",
        "import pandas as pd\n",
        "from skimage import io, transform\n",
        "import numpy as np\n",
        "import matplotlib.pyplot as plt\n",
        "from torch.utils.data import Dataset, DataLoader\n",
        "from torchvision import transforms, utils\n",
        "\n",
        "# Ignore warnings\n",
        "import warnings\n",
        "warnings.filterwarnings(\"ignore\")\n",
        "\n",
        "plt.ion()   # interactive mode\n",
        "\n"
      ],
      "execution_count": 304,
      "outputs": []
    },
    {
      "cell_type": "code",
      "metadata": {
        "id": "A3L2k33J9gVN"
      },
      "source": [
        "class EnglishWrittencharacters(Dataset):\n",
        "    \"\"\"English Written characters.\"\"\"\n",
        "\n",
        "    def __init__(self, csv_file, root_dir, transform=None):\n",
        "        \"\"\"\n",
        "        Args:\n",
        "            csv_file (string): Path to the csv file with annotations.\n",
        "            root_dir (string): Directory with all the images.\n",
        "            transform (callable, optional): Optional transform to be applied\n",
        "                on a sample.\n",
        "        \"\"\"\n",
        "        self.English_Written_characters = pd.read_csv(csv_file)\n",
        "        self.root_dir = root_dir\n",
        "        self.transform = transform\n",
        "\n",
        "    def __len__(self):\n",
        "        return len(self.English_Written_characters)\n",
        "\n",
        "    def __getitem__(self, idx):\n",
        "\n",
        "        img_name = os.path.join(self.root_dir,self.English_Written_characters[\"image\"][idx])\n",
        "                                \n",
        "        image = io.imread(img_name)\n",
        "        y_label = self.English_Written_characters[\"label\"][idx]\n",
        "        if self.transform:\n",
        "            image = self.transform(image)\n",
        "\n",
        "        return image, y_label"
      ],
      "execution_count": 305,
      "outputs": []
    },
    {
      "cell_type": "code",
      "metadata": {
        "colab": {
          "base_uri": "https://localhost:8080/",
          "height": 35
        },
        "id": "56BIG9wk-IXg",
        "outputId": "e0291f96-9457-407e-ea86-0bc1815d104f"
      },
      "source": [
        "English_dataset = EnglishWrittencharacters(csv_file='English Handwritten Characters/english.csv',root_dir='English Handwritten Characters',transform = transforms.ToTensor())\n",
        "                                    \n",
        "\n",
        "f\"the data has {English_dataset.__len__()} images\""
      ],
      "execution_count": 306,
      "outputs": [
        {
          "output_type": "execute_result",
          "data": {
            "application/vnd.google.colaboratory.intrinsic+json": {
              "type": "string"
            },
            "text/plain": [
              "'the data has 3410 images'"
            ]
          },
          "metadata": {},
          "execution_count": 306
        }
      ]
    },
    {
      "cell_type": "code",
      "metadata": {
        "colab": {
          "base_uri": "https://localhost:8080/"
        },
        "id": "DaDbAJWe-0FG",
        "outputId": "774afc86-5c35-429e-daee-b50e13729fc0"
      },
      "source": [
        "train_size = int(English_dataset.__len__()*0.7)\n",
        "test_size = int(English_dataset.__len__() - train_size)\n",
        "train, test = torch.utils.data.random_split(English_dataset, [train_size,test_size])\n",
        "\n",
        "print(f\"train size: {train.__len__()}\\ntest size: {test.__len__()}\")"
      ],
      "execution_count": 307,
      "outputs": [
        {
          "output_type": "stream",
          "name": "stdout",
          "text": [
            "train size: 2387\n",
            "test size: 1023\n"
          ]
        }
      ]
    },
    {
      "cell_type": "code",
      "metadata": {
        "id": "TDTrO_rdZakP"
      },
      "source": [
        "trainloader = torch.utils.data.DataLoader(train, batch_size=8, shuffle=True)\n",
        "testloader = torch.utils.data.DataLoader(test, batch_size=8, shuffle=False)"
      ],
      "execution_count": 308,
      "outputs": []
    },
    {
      "cell_type": "code",
      "metadata": {
        "id": "7izg7t_CaoMk"
      },
      "source": [
        "import torch.nn as nn\n",
        "import torch.nn.functional as F\n",
        "\n",
        "\n",
        "class Net(nn.Module):\n",
        "    def __init__(self):\n",
        "        super().__init__()\n",
        "        self.conv1 = nn.Conv2d(3, 12, 5)\n",
        "        self.pool = nn.MaxPool2d(2, 2)\n",
        "        self.conv2 = nn.Conv2d(12, 16, 5)\n",
        "        self.fc1 = nn.Linear(1054944, 120)\n",
        "        self.fc2 = nn.Linear(120, 84)\n",
        "        self.fc3 = nn.Linear(84, 62) #62 classes (0-9.a-z,A-Z)\n",
        "\n",
        "    def forward(self, x):\n",
        "        print(\"print-1:\")\n",
        "        print(x.shape)\n",
        "        x = self.pool(F.relu(self.conv1(x)))\n",
        "        print(\"print-2:\")\n",
        "        print(x.shape)\n",
        "        x = self.pool(F.relu(self.conv2(x)))\n",
        "        print(\"print-3:\")\n",
        "        print(x.shape)\n",
        "        x = torch.flatten(x, 1) # flatten all dimensions except batch\n",
        "        x = F.relu(self.fc1(x))\n",
        "        x = F.relu(self.fc2(x))\n",
        "        x = self.fc3(x)\n",
        "        return x\n",
        "\n",
        "\n",
        "net = Net()"
      ],
      "execution_count": 309,
      "outputs": []
    },
    {
      "cell_type": "code",
      "metadata": {
        "id": "T6KdYjbXbTST"
      },
      "source": [
        "import torch.optim as optim\n",
        "\n",
        "criterion = nn.CrossEntropyLoss()\n",
        "optimizer = optim.SGD(net.parameters(), lr=0.001, momentum=0.9)"
      ],
      "execution_count": 310,
      "outputs": []
    },
    {
      "cell_type": "code",
      "metadata": {
        "colab": {
          "base_uri": "https://localhost:8080/"
        },
        "id": "3v0VKtCwuVSg",
        "outputId": "e5e85a6c-a6cf-4f57-851a-c49688087436"
      },
      "source": [
        "len(labels)"
      ],
      "execution_count": 311,
      "outputs": [
        {
          "output_type": "execute_result",
          "data": {
            "text/plain": [
              "62"
            ]
          },
          "metadata": {},
          "execution_count": 311
        }
      ]
    },
    {
      "cell_type": "code",
      "metadata": {
        "colab": {
          "base_uri": "https://localhost:8080/",
          "height": 153
        },
        "id": "CSwcT-OCvEnt",
        "outputId": "e639cbe4-3c7e-4c51-dcf0-581dad609342"
      },
      "source": [
        "import matplotlib.pyplot as plt\n",
        "import numpy as np\n",
        "import torchvision\n",
        "\n",
        "# functions to show an image\n",
        "def imshow(img):    \n",
        "    plt.figure(figsize=(18, 16), dpi=80)\n",
        "    npimg = img.numpy()\n",
        "    plt.imshow(np.transpose(npimg, (1, 2, 0)))\n",
        "    plt.show()\n",
        "\n",
        "\n",
        "# get some random training images\n",
        "dataiter = iter(trainloader)\n",
        "images, targets = dataiter.next()\n",
        "\n",
        "# show images\n",
        "imshow(torchvision.utils.make_grid(images))\n",
        "\n",
        "\n",
        "# function to return key for any value\n",
        "def get_key(val):\n",
        "    for key, value in labels.items():\n",
        "         if val == value:\n",
        "             return key\n",
        " \n",
        "    return \"key doesn't exist\"\n",
        "print([get_key(target) for target in targets.numpy().tolist()])"
      ],
      "execution_count": 312,
      "outputs": [
        {
          "output_type": "display_data",
          "data": {
            "image/png": "[encoded data removed]",
            "text/plain": [
              "<Figure size 1440x1280 with 1 Axes>"
            ]
          },
          "metadata": {
            "needs_background": "light"
          }
        },
        {
          "output_type": "stream",
          "name": "stdout",
          "text": [
            "['K', 'F', '7', 'd', 'P', '1', 'f', 'P']\n"
          ]
        }
      ]
    },
    {
      "cell_type": "code",
      "metadata": {
        "colab": {
          "base_uri": "https://localhost:8080/"
        },
        "id": "5REr8SeEwW05",
        "outputId": "504dade6-96f1-40b8-c4b0-8904f91d0c74"
      },
      "source": [
        "x = torch.rand((10,3,900,1200))\n",
        "print(net(x).size())"
      ],
      "execution_count": 313,
      "outputs": [
        {
          "output_type": "stream",
          "name": "stdout",
          "text": [
            "print-1:\n",
            "torch.Size([10, 3, 900, 1200])\n",
            "print-2:\n",
            "torch.Size([10, 12, 448, 598])\n",
            "print-3:\n",
            "torch.Size([10, 16, 222, 297])\n",
            "torch.Size([10, 62])\n"
          ]
        }
      ]
    }
  ]
}