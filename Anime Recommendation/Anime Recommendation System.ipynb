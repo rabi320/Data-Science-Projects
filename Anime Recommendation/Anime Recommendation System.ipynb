{
 "cells": [
  {
   "cell_type": "markdown",
   "id": "1078478c-793e-4819-a6ac-1da0cf1afd4a",
   "metadata": {},
   "source": [
    "# Recommender Systems\n",
    "### NA Handle"
   ]
  },
  {
   "cell_type": "code",
   "execution_count": 404,
   "id": "ed15943a-84f8-42a8-9ee5-a097ecbe1d3b",
   "metadata": {},
   "outputs": [
    {
     "data": {
      "text/plain": [
       "anime_id      0\n",
       "name          0\n",
       "genre         0\n",
       "type          0\n",
       "episodes      0\n",
       "rating        0\n",
       "members       0\n",
       "vote count    0\n",
       "dtype: int64"
      ]
     },
     "execution_count": 404,
     "metadata": {},
     "output_type": "execute_result"
    }
   ],
   "source": [
    "# deleting anime with 0 rating\n",
    "anime_df=anime_df[~np.isnan(anime_df[\"rating\"])]\n",
    "\n",
    "# filling mode value for genre and type\n",
    "anime_df['genre'] = anime_df['genre'].fillna(\n",
    "anime_df['genre'].dropna().mode().values[0])\n",
    "\n",
    "anime_df['type'] = anime_df['type'].fillna(\n",
    "anime_df['type'].dropna().mode().values[0])\n",
    "\n",
    "#checking if all null values are filled\n",
    "anime_df.isnull().sum()"
   ]
  },
  {
   "cell_type": "code",
   "execution_count": 405,
   "id": "b7d37363-e3fd-401a-9074-b35213cea8ec",
   "metadata": {},
   "outputs": [
    {
     "name": "stdout",
     "output_type": "stream",
     "text": [
      "rating shape: (6337241, 3)\n",
      "anime shape: (9924, 8)\n"
     ]
    }
   ],
   "source": [
    "#rating with -1 are missing and useless values\n",
    "rating_df = rating_df[rating_df[\"rating\"]!=-1]\n",
    "\n",
    "print(f\"rating shape: {rating_df.shape}\\nanime shape: {anime_df.shape}\")"
   ]
  },
  {
   "cell_type": "code",
   "execution_count": 406,
   "id": "a2b57b95-2cf1-4be1-ab6e-d095c1ffc329",
   "metadata": {},
   "outputs": [
    {
     "data": {
      "text/plain": [
       "(6337234, 5)"
      ]
     },
     "execution_count": 406,
     "metadata": {},
     "output_type": "execute_result"
    }
   ],
   "source": [
    "#step 2\n",
    "rated_anime = rating_df.merge(anime_df, left_on = 'anime_id', right_on = 'anime_id', suffixes= ['_user', ''])\n",
    "rated_anime = rated_anime[[\"user_id\",\"type\",\"name\",\"rating_user\",\"rating\"]]\n",
    "rated_anime.shape"
   ]
  },
  {
   "cell_type": "code",
   "execution_count": 407,
   "id": "109e0b41-48b0-474b-b9ec-f2632d654e84",
   "metadata": {},
   "outputs": [
    {
     "data": {
      "text/html": [
       "<div>\n",
       "<style scoped>\n",
       "    .dataframe tbody tr th:only-of-type {\n",
       "        vertical-align: middle;\n",
       "    }\n",
       "\n",
       "    .dataframe tbody tr th {\n",
       "        vertical-align: top;\n",
       "    }\n",
       "\n",
       "    .dataframe thead th {\n",
       "        text-align: right;\n",
       "    }\n",
       "</style>\n",
       "<table border=\"1\" class=\"dataframe\">\n",
       "  <thead>\n",
       "    <tr style=\"text-align: right;\">\n",
       "      <th></th>\n",
       "      <th>user_id</th>\n",
       "      <th>type</th>\n",
       "      <th>name</th>\n",
       "      <th>rating_user</th>\n",
       "      <th>rating</th>\n",
       "    </tr>\n",
       "  </thead>\n",
       "  <tbody>\n",
       "    <tr>\n",
       "      <th>0</th>\n",
       "      <td>1</td>\n",
       "      <td>TV</td>\n",
       "      <td>Highschool of the Dead</td>\n",
       "      <td>10</td>\n",
       "      <td>7.46</td>\n",
       "    </tr>\n",
       "    <tr>\n",
       "      <th>1</th>\n",
       "      <td>3</td>\n",
       "      <td>TV</td>\n",
       "      <td>Highschool of the Dead</td>\n",
       "      <td>6</td>\n",
       "      <td>7.46</td>\n",
       "    </tr>\n",
       "    <tr>\n",
       "      <th>2</th>\n",
       "      <td>5</td>\n",
       "      <td>TV</td>\n",
       "      <td>Highschool of the Dead</td>\n",
       "      <td>2</td>\n",
       "      <td>7.46</td>\n",
       "    </tr>\n",
       "    <tr>\n",
       "      <th>3</th>\n",
       "      <td>12</td>\n",
       "      <td>TV</td>\n",
       "      <td>Highschool of the Dead</td>\n",
       "      <td>6</td>\n",
       "      <td>7.46</td>\n",
       "    </tr>\n",
       "    <tr>\n",
       "      <th>4</th>\n",
       "      <td>14</td>\n",
       "      <td>TV</td>\n",
       "      <td>Highschool of the Dead</td>\n",
       "      <td>6</td>\n",
       "      <td>7.46</td>\n",
       "    </tr>\n",
       "  </tbody>\n",
       "</table>\n",
       "</div>"
      ],
      "text/plain": [
       "   user_id type                    name  rating_user  rating\n",
       "0        1   TV  Highschool of the Dead           10    7.46\n",
       "1        3   TV  Highschool of the Dead            6    7.46\n",
       "2        5   TV  Highschool of the Dead            2    7.46\n",
       "3       12   TV  Highschool of the Dead            6    7.46\n",
       "4       14   TV  Highschool of the Dead            6    7.46"
      ]
     },
     "execution_count": 407,
     "metadata": {},
     "output_type": "execute_result"
    }
   ],
   "source": [
    "rated_anime.head()"
   ]
  },
  {
   "cell_type": "markdown",
   "id": "3c04040c-7a50-4a79-afc5-a1a8acf84a44",
   "metadata": {},
   "source": [
    "## Demographic Filtering -\n",
    "**Requierments:**\n",
    "* Metric to score item\n",
    "* Calculate the score for every item.\n",
    "* Sort the scores and recommend the best rated movie to the users.\n",
    "\n",
    "### Chosen metric: Bayesyan average\n",
    "\n",
    "Averaged bayesian rating formula: $R_{\\beta} = w*R + (1-w)*R_{0}$ \n",
    "\n",
    "($w = \\frac n N_{max}$)\n",
    "* $w$ - Weight factor: $\\lim_{x \\to 0_{+}}$ means few votes  $\\lim_{x \\to 1_{-}}$ means many votes.\n",
    "* $R$ - Individual rating: average rating for this item.\n",
    "* $R_{0}$ - global average rating, for all items in your database.\n",
    "* $n$ - number of votes for this item.\n",
    "* $N_{max}$ - maximum number of votes for all items.\n",
    "\n",
    "**Types of items**: TV, Music, Movie, OVA, ONA, Special\n",
    "\n",
    "Ratings are specified for each of these item types individualy."
   ]
  },
  {
   "cell_type": "code",
   "execution_count": 408,
   "id": "9a63e204-70c6-4512-aa66-4b65828608ec",
   "metadata": {},
   "outputs": [
    {
     "data": {
      "text/html": [
       "<div>\n",
       "<style scoped>\n",
       "    .dataframe tbody tr th:only-of-type {\n",
       "        vertical-align: middle;\n",
       "    }\n",
       "\n",
       "    .dataframe tbody tr th {\n",
       "        vertical-align: top;\n",
       "    }\n",
       "\n",
       "    .dataframe thead th {\n",
       "        text-align: right;\n",
       "    }\n",
       "</style>\n",
       "<table border=\"1\" class=\"dataframe\">\n",
       "  <thead>\n",
       "    <tr style=\"text-align: right;\">\n",
       "      <th></th>\n",
       "      <th>anime_id</th>\n",
       "      <th>name</th>\n",
       "      <th>genre</th>\n",
       "      <th>type</th>\n",
       "      <th>episodes</th>\n",
       "      <th>rating</th>\n",
       "      <th>members</th>\n",
       "      <th>vote count</th>\n",
       "    </tr>\n",
       "  </thead>\n",
       "  <tbody>\n",
       "    <tr>\n",
       "      <th>40</th>\n",
       "      <td>1535</td>\n",
       "      <td>Death Note</td>\n",
       "      <td>Mystery, Police, Psychological, Supernatural, ...</td>\n",
       "      <td>TV</td>\n",
       "      <td>37</td>\n",
       "      <td>8.71</td>\n",
       "      <td>1013917</td>\n",
       "      <td>34226</td>\n",
       "    </tr>\n",
       "    <tr>\n",
       "      <th>804</th>\n",
       "      <td>11757</td>\n",
       "      <td>Sword Art Online</td>\n",
       "      <td>Action, Adventure, Fantasy, Game, Romance</td>\n",
       "      <td>TV</td>\n",
       "      <td>25</td>\n",
       "      <td>7.83</td>\n",
       "      <td>893100</td>\n",
       "      <td>26310</td>\n",
       "    </tr>\n",
       "    <tr>\n",
       "      <th>86</th>\n",
       "      <td>16498</td>\n",
       "      <td>Shingeki no Kyojin</td>\n",
       "      <td>Action, Drama, Fantasy, Shounen, Super Power</td>\n",
       "      <td>TV</td>\n",
       "      <td>25</td>\n",
       "      <td>8.54</td>\n",
       "      <td>896229</td>\n",
       "      <td>25290</td>\n",
       "    </tr>\n",
       "    <tr>\n",
       "      <th>19</th>\n",
       "      <td>1575</td>\n",
       "      <td>Code Geass: Hangyaku no Lelouch</td>\n",
       "      <td>Action, Mecha, Military, School, Sci-Fi, Super...</td>\n",
       "      <td>TV</td>\n",
       "      <td>25</td>\n",
       "      <td>8.83</td>\n",
       "      <td>715151</td>\n",
       "      <td>24126</td>\n",
       "    </tr>\n",
       "    <tr>\n",
       "      <th>159</th>\n",
       "      <td>6547</td>\n",
       "      <td>Angel Beats!</td>\n",
       "      <td>Action, Comedy, Drama, School, Supernatural</td>\n",
       "      <td>TV</td>\n",
       "      <td>13</td>\n",
       "      <td>8.39</td>\n",
       "      <td>717796</td>\n",
       "      <td>23565</td>\n",
       "    </tr>\n",
       "  </tbody>\n",
       "</table>\n",
       "</div>"
      ],
      "text/plain": [
       "     anime_id                             name  \\\n",
       "40       1535                       Death Note   \n",
       "804     11757                 Sword Art Online   \n",
       "86      16498               Shingeki no Kyojin   \n",
       "19       1575  Code Geass: Hangyaku no Lelouch   \n",
       "159      6547                     Angel Beats!   \n",
       "\n",
       "                                                 genre type episodes  rating  \\\n",
       "40   Mystery, Police, Psychological, Supernatural, ...   TV       37    8.71   \n",
       "804          Action, Adventure, Fantasy, Game, Romance   TV       25    7.83   \n",
       "86        Action, Drama, Fantasy, Shounen, Super Power   TV       25    8.54   \n",
       "19   Action, Mecha, Military, School, Sci-Fi, Super...   TV       25    8.83   \n",
       "159        Action, Comedy, Drama, School, Supernatural   TV       13    8.39   \n",
       "\n",
       "     members  vote count  \n",
       "40   1013917       34226  \n",
       "804   893100       26310  \n",
       "86    896229       25290  \n",
       "19    715151       24126  \n",
       "159   717796       23565  "
      ]
     },
     "execution_count": 408,
     "metadata": {},
     "output_type": "execute_result"
    }
   ],
   "source": [
    "def sorter(column):\n",
    "    \"\"\"\n",
    "    this sorts the names of the anime by a specific order\n",
    "    \"\"\"\n",
    "    reorder = rated_anime.name.value_counts().index.tolist()\n",
    "    \n",
    "    # This also works:\n",
    "    # mapper = {name: order for order, name in enumerate(reorder)}\n",
    "    # return column.map(mapper)\n",
    "    cat = pd.Categorical(column, categories=reorder, ordered=True)\n",
    "    return pd.Series(cat)\n",
    "\n",
    "anime_df = anime_df[anime_df[\"name\"].isin(rated_anime.name.value_counts().index.tolist())].sort_values(by = \"name\" , key = sorter)\n",
    "anime_df.head()"
   ]
  },
  {
   "cell_type": "code",
   "execution_count": 409,
   "id": "a279856c-05b2-4108-a249-c414027abe67",
   "metadata": {},
   "outputs": [
    {
     "data": {
      "text/html": [
       "<div>\n",
       "<style scoped>\n",
       "    .dataframe tbody tr th:only-of-type {\n",
       "        vertical-align: middle;\n",
       "    }\n",
       "\n",
       "    .dataframe tbody tr th {\n",
       "        vertical-align: top;\n",
       "    }\n",
       "\n",
       "    .dataframe thead th {\n",
       "        text-align: right;\n",
       "    }\n",
       "</style>\n",
       "<table border=\"1\" class=\"dataframe\">\n",
       "  <thead>\n",
       "    <tr style=\"text-align: right;\">\n",
       "      <th></th>\n",
       "      <th>anime_id</th>\n",
       "      <th>name</th>\n",
       "      <th>genre</th>\n",
       "      <th>type</th>\n",
       "      <th>episodes</th>\n",
       "      <th>rating</th>\n",
       "      <th>members</th>\n",
       "      <th>vote count</th>\n",
       "    </tr>\n",
       "  </thead>\n",
       "  <tbody>\n",
       "    <tr>\n",
       "      <th>10141</th>\n",
       "      <td>30059</td>\n",
       "      <td>Saru Kani Gassen</td>\n",
       "      <td>Drama</td>\n",
       "      <td>Movie</td>\n",
       "      <td>1</td>\n",
       "      <td>4.75</td>\n",
       "      <td>76</td>\n",
       "      <td>2</td>\n",
       "    </tr>\n",
       "  </tbody>\n",
       "</table>\n",
       "</div>"
      ],
      "text/plain": [
       "       anime_id              name  genre   type episodes  rating  members  \\\n",
       "10141     30059  Saru Kani Gassen  Drama  Movie        1    4.75       76   \n",
       "\n",
       "       vote count  \n",
       "10141           2  "
      ]
     },
     "execution_count": 409,
     "metadata": {},
     "output_type": "execute_result"
    }
   ],
   "source": [
    "anime_df[anime_df[\"name\"]==\"Saru Kani Gassen\"]"
   ]
  },
  {
   "cell_type": "code",
   "execution_count": 410,
   "id": "1033ffea-d011-4685-9b41-1d206286d284",
   "metadata": {},
   "outputs": [],
   "source": [
    "anime_df = anime_df[~((anime_df[\"name\"]==\"Saru Kani Gassen\")&(anime_df[\"type\"]==\"OVA\"))] #remove a duplicate anime"
   ]
  },
  {
   "cell_type": "code",
   "execution_count": 411,
   "id": "8adfee17-76b0-4cfd-9519-d9a2e59c0069",
   "metadata": {},
   "outputs": [],
   "source": [
    "anime_df[\"vote count\"] = rated_anime.name.value_counts().tolist() "
   ]
  },
  {
   "cell_type": "markdown",
   "id": "a2a2ad2e-8a38-464f-adad-1e32e9574e97",
   "metadata": {},
   "source": [
    "### Trending anime function\n",
    "\n",
    "the function works in the following way:\n",
    "1. the function is copying the dataset.\n",
    "2. a filter is activated to get the top 10% voted anime (90% percentile).\n",
    "3. gets the variables needed for the defined score metric and calculated it.\n",
    "4. outputs the top 10 Trending anime."
   ]
  },
  {
   "cell_type": "code",
   "execution_count": 412,
   "id": "ba8bb224-90a8-4dfe-bff2-cab5c8e7cc18",
   "metadata": {},
   "outputs": [
    {
     "name": "stderr",
     "output_type": "stream",
     "text": [
      "C:\\Users\\97254\\anaconda3\\envs\\torch\\lib\\site-packages\\pandas\\core\\groupby\\generic.py:303: FutureWarning:\n",
      "\n",
      "Dropping invalid columns in SeriesGroupBy.agg is deprecated. In a future version, a TypeError will be raised. Before calling .agg, select only columns which should be valid for the aggregating function.\n",
      "\n"
     ]
    }
   ],
   "source": [
    "#filter\n",
    "def filter_agg(x):\n",
    "    return x.quantile(0.9)\n",
    "\n",
    "anime_rating_filter = anime_df.groupby(by = \"type\").agg(filter_agg)[\"vote count\"]\n",
    "\n",
    "def Recommended_anime(Type = None):\n",
    "    \"\"\"\n",
    "    returns top 10 anime in a specific type of anime (TV, OVA, Movie etc.)\n",
    "    \"\"\"\n",
    "    df = anime_df.copy()\n",
    "    df = df[df[\"type\"]==Type].loc[df['vote count'] >= anime_rating_filter[Type]]\n",
    "    N_max = df[df[\"type\"]==Type][\"vote count\"].max()\n",
    "    R0 = df[df[\"type\"]==Type][\"rating\"].mean()\n",
    "    R = df[df[\"type\"]==Type][\"rating\"]\n",
    "    n = df[df[\"type\"]==Type][\"vote count\"]\n",
    "    w = n/N_max\n",
    "    df[\"Score\"] = w*R + (1-w)*R0 #Bayesyan average\n",
    "    df = df.sort_values('Score', ascending=False)[:10]\n",
    "    print(f\"Recommended in {Type}:\")\n",
    "    return df[[\"name\",\"Score\"]].style.hide_index()#hide index"
   ]
  },
  {
   "cell_type": "code",
   "execution_count": 413,
   "id": "19974619-3b04-48eb-9383-88d2784b8331",
   "metadata": {},
   "outputs": [
    {
     "name": "stdout",
     "output_type": "stream",
     "text": [
      "Recommended in TV:\n"
     ]
    },
    {
     "data": {
      "text/html": [
       "<style type=\"text/css\">\n",
       "</style>\n",
       "<table id=\"T_25b47_\">\n",
       "  <thead>\n",
       "    <tr>\n",
       "      <th class=\"col_heading level0 col0\" >name</th>\n",
       "      <th class=\"col_heading level0 col1\" >Score</th>\n",
       "    </tr>\n",
       "  </thead>\n",
       "  <tbody>\n",
       "    <tr>\n",
       "      <td id=\"T_25b47_row0_col0\" class=\"data row0 col0\" >Fullmetal Alchemist: Brotherhood</td>\n",
       "      <td id=\"T_25b47_row0_col1\" class=\"data row0 col1\" >8.759342</td>\n",
       "    </tr>\n",
       "    <tr>\n",
       "      <td id=\"T_25b47_row1_col0\" class=\"data row1 col0\" >Death Note</td>\n",
       "      <td id=\"T_25b47_row1_col1\" class=\"data row1 col1\" >8.710000</td>\n",
       "    </tr>\n",
       "    <tr>\n",
       "      <td id=\"T_25b47_row2_col0\" class=\"data row2 col0\" >Code Geass: Hangyaku no Lelouch R2</td>\n",
       "      <td id=\"T_25b47_row2_col1\" class=\"data row2 col1\" >8.571979</td>\n",
       "    </tr>\n",
       "    <tr>\n",
       "      <td id=\"T_25b47_row3_col0\" class=\"data row3 col0\" >Code Geass: Hangyaku no Lelouch</td>\n",
       "      <td id=\"T_25b47_row3_col1\" class=\"data row3 col1\" >8.559731</td>\n",
       "    </tr>\n",
       "    <tr>\n",
       "      <td id=\"T_25b47_row4_col0\" class=\"data row4 col0\" >Steins;Gate</td>\n",
       "      <td id=\"T_25b47_row4_col1\" class=\"data row4 col1\" >8.543463</td>\n",
       "    </tr>\n",
       "    <tr>\n",
       "      <td id=\"T_25b47_row5_col0\" class=\"data row5 col0\" >Clannad: After Story</td>\n",
       "      <td id=\"T_25b47_row5_col1\" class=\"data row5 col1\" >8.433669</td>\n",
       "    </tr>\n",
       "    <tr>\n",
       "      <td id=\"T_25b47_row6_col0\" class=\"data row6 col0\" >Shingeki no Kyojin</td>\n",
       "      <td id=\"T_25b47_row6_col1\" class=\"data row6 col1\" >8.376595</td>\n",
       "    </tr>\n",
       "    <tr>\n",
       "      <td id=\"T_25b47_row7_col0\" class=\"data row7 col0\" >Tengen Toppa Gurren Lagann</td>\n",
       "      <td id=\"T_25b47_row7_col1\" class=\"data row7 col1\" >8.343071</td>\n",
       "    </tr>\n",
       "    <tr>\n",
       "      <td id=\"T_25b47_row8_col0\" class=\"data row8 col0\" >Cowboy Bebop</td>\n",
       "      <td id=\"T_25b47_row8_col1\" class=\"data row8 col1\" >8.270093</td>\n",
       "    </tr>\n",
       "    <tr>\n",
       "      <td id=\"T_25b47_row9_col0\" class=\"data row9 col0\" >Angel Beats!</td>\n",
       "      <td id=\"T_25b47_row9_col1\" class=\"data row9 col1\" >8.241774</td>\n",
       "    </tr>\n",
       "  </tbody>\n",
       "</table>\n"
      ],
      "text/plain": [
       "<pandas.io.formats.style.Styler at 0x20201281640>"
      ]
     },
     "execution_count": 413,
     "metadata": {},
     "output_type": "execute_result"
    }
   ],
   "source": [
    "Recommended_anime(\"TV\")"
   ]
  },
  {
   "cell_type": "code",
   "execution_count": 414,
   "id": "5c88b0db-14c7-4107-b893-f18d48d26069",
   "metadata": {},
   "outputs": [
    {
     "name": "stdout",
     "output_type": "stream",
     "text": [
      "Recommended in Movie:\n"
     ]
    },
    {
     "data": {
      "text/html": [
       "<style type=\"text/css\">\n",
       "</style>\n",
       "<table id=\"T_2f254_\">\n",
       "  <thead>\n",
       "    <tr>\n",
       "      <th class=\"col_heading level0 col0\" >name</th>\n",
       "      <th class=\"col_heading level0 col1\" >Score</th>\n",
       "    </tr>\n",
       "  </thead>\n",
       "  <tbody>\n",
       "    <tr>\n",
       "      <td id=\"T_2f254_row0_col0\" class=\"data row0 col0\" >Sen to Chihiro no Kamikakushi</td>\n",
       "      <td id=\"T_2f254_row0_col1\" class=\"data row0 col1\" >8.930000</td>\n",
       "    </tr>\n",
       "    <tr>\n",
       "      <td id=\"T_2f254_row1_col0\" class=\"data row1 col0\" >Mononoke Hime</td>\n",
       "      <td id=\"T_2f254_row1_col1\" class=\"data row1 col1\" >8.516622</td>\n",
       "    </tr>\n",
       "    <tr>\n",
       "      <td id=\"T_2f254_row2_col0\" class=\"data row2 col0\" >Howl no Ugoku Shiro</td>\n",
       "      <td id=\"T_2f254_row2_col1\" class=\"data row2 col1\" >8.508852</td>\n",
       "    </tr>\n",
       "    <tr>\n",
       "      <td id=\"T_2f254_row3_col0\" class=\"data row3 col0\" >Suzumiya Haruhi no Shoushitsu</td>\n",
       "      <td id=\"T_2f254_row3_col1\" class=\"data row3 col1\" >8.239172</td>\n",
       "    </tr>\n",
       "    <tr>\n",
       "      <td id=\"T_2f254_row4_col0\" class=\"data row4 col0\" >Tonari no Totoro</td>\n",
       "      <td id=\"T_2f254_row4_col1\" class=\"data row4 col1\" >8.179456</td>\n",
       "    </tr>\n",
       "    <tr>\n",
       "      <td id=\"T_2f254_row5_col0\" class=\"data row5 col0\" >Toki wo Kakeru Shoujo</td>\n",
       "      <td id=\"T_2f254_row5_col1\" class=\"data row5 col1\" >8.177667</td>\n",
       "    </tr>\n",
       "    <tr>\n",
       "      <td id=\"T_2f254_row6_col0\" class=\"data row6 col0\" >Ookami Kodomo no Ame to Yuki</td>\n",
       "      <td id=\"T_2f254_row6_col1\" class=\"data row6 col1\" >8.170295</td>\n",
       "    </tr>\n",
       "    <tr>\n",
       "      <td id=\"T_2f254_row7_col0\" class=\"data row7 col0\" >Neon Genesis Evangelion: The End of Evangelion</td>\n",
       "      <td id=\"T_2f254_row7_col1\" class=\"data row7 col1\" >8.097285</td>\n",
       "    </tr>\n",
       "    <tr>\n",
       "      <td id=\"T_2f254_row8_col0\" class=\"data row8 col0\" >Hotaru no Haka</td>\n",
       "      <td id=\"T_2f254_row8_col1\" class=\"data row8 col1\" >8.083231</td>\n",
       "    </tr>\n",
       "    <tr>\n",
       "      <td id=\"T_2f254_row9_col0\" class=\"data row9 col0\" >Evangelion: 2.0 You Can (Not) Advance</td>\n",
       "      <td id=\"T_2f254_row9_col1\" class=\"data row9 col1\" >8.064932</td>\n",
       "    </tr>\n",
       "  </tbody>\n",
       "</table>\n"
      ],
      "text/plain": [
       "<pandas.io.formats.style.Styler at 0x20200c48070>"
      ]
     },
     "execution_count": 414,
     "metadata": {},
     "output_type": "execute_result"
    }
   ],
   "source": [
    "Recommended_anime(\"Movie\")"
   ]
  },
  {
   "cell_type": "code",
   "execution_count": 415,
   "id": "f3b6773d-5abe-4654-b829-1475791aab97",
   "metadata": {},
   "outputs": [
    {
     "name": "stdout",
     "output_type": "stream",
     "text": [
      "Recommended in Music:\n"
     ]
    },
    {
     "data": {
      "text/html": [
       "<style type=\"text/css\">\n",
       "</style>\n",
       "<table id=\"T_26eed_\">\n",
       "  <thead>\n",
       "    <tr>\n",
       "      <th class=\"col_heading level0 col0\" >name</th>\n",
       "      <th class=\"col_heading level0 col1\" >Score</th>\n",
       "    </tr>\n",
       "  </thead>\n",
       "  <tbody>\n",
       "    <tr>\n",
       "      <td id=\"T_26eed_row0_col0\" class=\"data row0 col0\" >Shelter</td>\n",
       "      <td id=\"T_26eed_row0_col1\" class=\"data row0 col1\" >8.237966</td>\n",
       "    </tr>\n",
       "    <tr>\n",
       "      <td id=\"T_26eed_row1_col0\" class=\"data row1 col0\" >Interstella5555: The 5tory of The 5ecret 5tar 5ystem</td>\n",
       "      <td id=\"T_26eed_row1_col1\" class=\"data row1 col1\" >8.170000</td>\n",
       "    </tr>\n",
       "    <tr>\n",
       "      <td id=\"T_26eed_row2_col0\" class=\"data row2 col0\" >CLAMP in Wonderland 2</td>\n",
       "      <td id=\"T_26eed_row2_col1\" class=\"data row2 col1\" >7.298844</td>\n",
       "    </tr>\n",
       "    <tr>\n",
       "      <td id=\"T_26eed_row3_col0\" class=\"data row3 col0\" >Black★Rock Shooter</td>\n",
       "      <td id=\"T_26eed_row3_col1\" class=\"data row3 col1\" >7.261495</td>\n",
       "    </tr>\n",
       "    <tr>\n",
       "      <td id=\"T_26eed_row4_col0\" class=\"data row4 col0\" >On Your Mark</td>\n",
       "      <td id=\"T_26eed_row4_col1\" class=\"data row4 col1\" >7.207474</td>\n",
       "    </tr>\n",
       "    <tr>\n",
       "      <td id=\"T_26eed_row5_col0\" class=\"data row5 col0\" >The Everlasting Guilty Crown</td>\n",
       "      <td id=\"T_26eed_row5_col1\" class=\"data row5 col1\" >7.162946</td>\n",
       "    </tr>\n",
       "    <tr>\n",
       "      <td id=\"T_26eed_row6_col0\" class=\"data row6 col0\" >Tengen Toppa Gurren Lagann: Parallel Works</td>\n",
       "      <td id=\"T_26eed_row6_col1\" class=\"data row6 col1\" >7.160707</td>\n",
       "    </tr>\n",
       "    <tr>\n",
       "      <td id=\"T_26eed_row7_col0\" class=\"data row7 col0\" >Higashi no Eden: Falling Down</td>\n",
       "      <td id=\"T_26eed_row7_col1\" class=\"data row7 col1\" >7.145067</td>\n",
       "    </tr>\n",
       "    <tr>\n",
       "      <td id=\"T_26eed_row8_col0\" class=\"data row8 col0\" >Tengen Toppa Gurren Lagann: Kirameki★Yoko Box - Pieces of Sweet Stars</td>\n",
       "      <td id=\"T_26eed_row8_col1\" class=\"data row8 col1\" >7.138649</td>\n",
       "    </tr>\n",
       "    <tr>\n",
       "      <td id=\"T_26eed_row9_col0\" class=\"data row9 col0\" >Snow Halation</td>\n",
       "      <td id=\"T_26eed_row9_col1\" class=\"data row9 col1\" >7.092173</td>\n",
       "    </tr>\n",
       "  </tbody>\n",
       "</table>\n"
      ],
      "text/plain": [
       "<pandas.io.formats.style.Styler at 0x20201281550>"
      ]
     },
     "execution_count": 415,
     "metadata": {},
     "output_type": "execute_result"
    }
   ],
   "source": [
    "Recommended_anime(\"Music\")"
   ]
  },
  {
   "cell_type": "code",
   "execution_count": 416,
   "id": "97d518f7-9f00-48d2-9fcd-683348d2307b",
   "metadata": {},
   "outputs": [
    {
     "name": "stdout",
     "output_type": "stream",
     "text": [
      "Recommended in ONA:\n"
     ]
    },
    {
     "data": {
      "text/html": [
       "<style type=\"text/css\">\n",
       "</style>\n",
       "<table id=\"T_ff155_\">\n",
       "  <thead>\n",
       "    <tr>\n",
       "      <th class=\"col_heading level0 col0\" >name</th>\n",
       "      <th class=\"col_heading level0 col1\" >Score</th>\n",
       "    </tr>\n",
       "  </thead>\n",
       "  <tbody>\n",
       "    <tr>\n",
       "      <td id=\"T_ff155_row0_col0\" class=\"data row0 col0\" >Eve no Jikan</td>\n",
       "      <td id=\"T_ff155_row0_col1\" class=\"data row0 col1\" >7.865627</td>\n",
       "    </tr>\n",
       "    <tr>\n",
       "      <td id=\"T_ff155_row1_col0\" class=\"data row1 col0\" >Ore no Imouto ga Konnani Kawaii Wake ga Nai Specials</td>\n",
       "      <td id=\"T_ff155_row1_col1\" class=\"data row1 col1\" >7.660000</td>\n",
       "    </tr>\n",
       "    <tr>\n",
       "      <td id=\"T_ff155_row2_col0\" class=\"data row2 col0\" >Hetalia Axis Powers</td>\n",
       "      <td id=\"T_ff155_row2_col1\" class=\"data row2 col1\" >7.656695</td>\n",
       "    </tr>\n",
       "    <tr>\n",
       "      <td id=\"T_ff155_row3_col0\" class=\"data row3 col0\" >Bounen no Xamdou</td>\n",
       "      <td id=\"T_ff155_row3_col1\" class=\"data row3 col1\" >7.505628</td>\n",
       "    </tr>\n",
       "    <tr>\n",
       "      <td id=\"T_ff155_row4_col0\" class=\"data row4 col0\" >Hetalia World Series</td>\n",
       "      <td id=\"T_ff155_row4_col1\" class=\"data row4 col1\" >7.417616</td>\n",
       "    </tr>\n",
       "    <tr>\n",
       "      <td id=\"T_ff155_row5_col0\" class=\"data row5 col0\" >Suzumiya Haruhi-chan no Yuuutsu</td>\n",
       "      <td id=\"T_ff155_row5_col1\" class=\"data row5 col1\" >7.396014</td>\n",
       "    </tr>\n",
       "    <tr>\n",
       "      <td id=\"T_ff155_row6_col0\" class=\"data row6 col0\" >Plastic Neesan</td>\n",
       "      <td id=\"T_ff155_row6_col1\" class=\"data row6 col1\" >7.268596</td>\n",
       "    </tr>\n",
       "    <tr>\n",
       "      <td id=\"T_ff155_row7_col0\" class=\"data row7 col0\" >Hetalia: The Beautiful World</td>\n",
       "      <td id=\"T_ff155_row7_col1\" class=\"data row7 col1\" >7.245433</td>\n",
       "    </tr>\n",
       "    <tr>\n",
       "      <td id=\"T_ff155_row8_col0\" class=\"data row8 col0\" >There She Is!!</td>\n",
       "      <td id=\"T_ff155_row8_col1\" class=\"data row8 col1\" >7.220638</td>\n",
       "    </tr>\n",
       "    <tr>\n",
       "      <td id=\"T_ff155_row9_col0\" class=\"data row9 col0\" >Seitokai no Ichizon Lv.2</td>\n",
       "      <td id=\"T_ff155_row9_col1\" class=\"data row9 col1\" >7.217476</td>\n",
       "    </tr>\n",
       "  </tbody>\n",
       "</table>\n"
      ],
      "text/plain": [
       "<pandas.io.formats.style.Styler at 0x20201279910>"
      ]
     },
     "execution_count": 416,
     "metadata": {},
     "output_type": "execute_result"
    }
   ],
   "source": [
    "Recommended_anime(\"ONA\")"
   ]
  },
  {
   "cell_type": "code",
   "execution_count": 417,
   "id": "bad0fbd5-9e47-47da-bbca-25c5da0afc30",
   "metadata": {},
   "outputs": [
    {
     "name": "stdout",
     "output_type": "stream",
     "text": [
      "Recommended in OVA:\n"
     ]
    },
    {
     "data": {
      "text/html": [
       "<style type=\"text/css\">\n",
       "</style>\n",
       "<table id=\"T_e36f6_\">\n",
       "  <thead>\n",
       "    <tr>\n",
       "      <th class=\"col_heading level0 col0\" >name</th>\n",
       "      <th class=\"col_heading level0 col1\" >Score</th>\n",
       "    </tr>\n",
       "  </thead>\n",
       "  <tbody>\n",
       "    <tr>\n",
       "      <td id=\"T_e36f6_row0_col0\" class=\"data row0 col0\" >FLCL</td>\n",
       "      <td id=\"T_e36f6_row0_col1\" class=\"data row0 col1\" >8.060000</td>\n",
       "    </tr>\n",
       "    <tr>\n",
       "      <td id=\"T_e36f6_row1_col0\" class=\"data row1 col0\" >Hellsing Ultimate</td>\n",
       "      <td id=\"T_e36f6_row1_col1\" class=\"data row1 col1\" >8.054113</td>\n",
       "    </tr>\n",
       "    <tr>\n",
       "      <td id=\"T_e36f6_row2_col0\" class=\"data row2 col0\" >Rurouni Kenshin: Meiji Kenkaku Romantan - Tsuioku-hen</td>\n",
       "      <td id=\"T_e36f6_row2_col1\" class=\"data row2 col1\" >7.983917</td>\n",
       "    </tr>\n",
       "    <tr>\n",
       "      <td id=\"T_e36f6_row3_col0\" class=\"data row3 col0\" >Detroit Metal City</td>\n",
       "      <td id=\"T_e36f6_row3_col1\" class=\"data row3 col1\" >7.675374</td>\n",
       "    </tr>\n",
       "    <tr>\n",
       "      <td id=\"T_e36f6_row4_col0\" class=\"data row4 col0\" >Golden Boy</td>\n",
       "      <td id=\"T_e36f6_row4_col1\" class=\"data row4 col1\" >7.635805</td>\n",
       "    </tr>\n",
       "    <tr>\n",
       "      <td id=\"T_e36f6_row5_col0\" class=\"data row5 col0\" >Final Fantasy VII: Advent Children Complete</td>\n",
       "      <td id=\"T_e36f6_row5_col1\" class=\"data row5 col1\" >7.594082</td>\n",
       "    </tr>\n",
       "    <tr>\n",
       "      <td id=\"T_e36f6_row6_col0\" class=\"data row6 col0\" >Black Lagoon: Roberta&#039;s Blood Trail</td>\n",
       "      <td id=\"T_e36f6_row6_col1\" class=\"data row6 col1\" >7.593630</td>\n",
       "    </tr>\n",
       "    <tr>\n",
       "      <td id=\"T_e36f6_row7_col0\" class=\"data row7 col0\" >Tsubasa: Tokyo Revelations</td>\n",
       "      <td id=\"T_e36f6_row7_col1\" class=\"data row7 col1\" >7.572125</td>\n",
       "    </tr>\n",
       "    <tr>\n",
       "      <td id=\"T_e36f6_row8_col0\" class=\"data row8 col0\" >Hunter x Hunter: Greed Island Final</td>\n",
       "      <td id=\"T_e36f6_row8_col1\" class=\"data row8 col1\" >7.557157</td>\n",
       "    </tr>\n",
       "    <tr>\n",
       "      <td id=\"T_e36f6_row9_col0\" class=\"data row9 col0\" >Hunter x Hunter OVA</td>\n",
       "      <td id=\"T_e36f6_row9_col1\" class=\"data row9 col1\" >7.548033</td>\n",
       "    </tr>\n",
       "  </tbody>\n",
       "</table>\n"
      ],
      "text/plain": [
       "<pandas.io.formats.style.Styler at 0x202012014c0>"
      ]
     },
     "execution_count": 417,
     "metadata": {},
     "output_type": "execute_result"
    }
   ],
   "source": [
    "Recommended_anime(\"OVA\")"
   ]
  },
  {
   "cell_type": "code",
   "execution_count": 418,
   "id": "028736ab-cf02-4c70-9232-bec9617af4ad",
   "metadata": {},
   "outputs": [
    {
     "name": "stdout",
     "output_type": "stream",
     "text": [
      "Recommended in Special:\n"
     ]
    },
    {
     "data": {
      "text/html": [
       "<style type=\"text/css\">\n",
       "</style>\n",
       "<table id=\"T_6bdd9_\">\n",
       "  <thead>\n",
       "    <tr>\n",
       "      <th class=\"col_heading level0 col0\" >name</th>\n",
       "      <th class=\"col_heading level0 col1\" >Score</th>\n",
       "    </tr>\n",
       "  </thead>\n",
       "  <tbody>\n",
       "    <tr>\n",
       "      <td id=\"T_6bdd9_row0_col0\" class=\"data row0 col0\" >Steins;Gate: Oukoubakko no Poriomania</td>\n",
       "      <td id=\"T_6bdd9_row0_col1\" class=\"data row0 col1\" >8.264060</td>\n",
       "    </tr>\n",
       "    <tr>\n",
       "      <td id=\"T_6bdd9_row1_col0\" class=\"data row1 col0\" >Clannad: Mou Hitotsu no Sekai, Tomoyo-hen</td>\n",
       "      <td id=\"T_6bdd9_row1_col1\" class=\"data row1 col1\" >8.140000</td>\n",
       "    </tr>\n",
       "    <tr>\n",
       "      <td id=\"T_6bdd9_row2_col0\" class=\"data row2 col0\" >Baccano! Specials</td>\n",
       "      <td id=\"T_6bdd9_row2_col1\" class=\"data row2 col1\" >7.930564</td>\n",
       "    </tr>\n",
       "    <tr>\n",
       "      <td id=\"T_6bdd9_row3_col0\" class=\"data row3 col0\" >Clannad: After Story - Mou Hitotsu no Sekai, Kyou-hen</td>\n",
       "      <td id=\"T_6bdd9_row3_col1\" class=\"data row3 col1\" >7.926999</td>\n",
       "    </tr>\n",
       "    <tr>\n",
       "      <td id=\"T_6bdd9_row4_col0\" class=\"data row4 col0\" >Fate/stay night: Unlimited Blade Works - Prologue</td>\n",
       "      <td id=\"T_6bdd9_row4_col1\" class=\"data row4 col1\" >7.864494</td>\n",
       "    </tr>\n",
       "    <tr>\n",
       "      <td id=\"T_6bdd9_row5_col0\" class=\"data row5 col0\" >Darker than Black: Kuro no Keiyakusha Gaiden</td>\n",
       "      <td id=\"T_6bdd9_row5_col1\" class=\"data row5 col1\" >7.863995</td>\n",
       "    </tr>\n",
       "    <tr>\n",
       "      <td id=\"T_6bdd9_row6_col0\" class=\"data row6 col0\" >Kokoro Connect: Michi Random</td>\n",
       "      <td id=\"T_6bdd9_row6_col1\" class=\"data row6 col1\" >7.842193</td>\n",
       "    </tr>\n",
       "    <tr>\n",
       "      <td id=\"T_6bdd9_row7_col0\" class=\"data row7 col0\" >Durarara!! Specials</td>\n",
       "      <td id=\"T_6bdd9_row7_col1\" class=\"data row7 col1\" >7.762084</td>\n",
       "    </tr>\n",
       "    <tr>\n",
       "      <td id=\"T_6bdd9_row8_col0\" class=\"data row8 col0\" >Hajime no Ippo: Champion Road</td>\n",
       "      <td id=\"T_6bdd9_row8_col1\" class=\"data row8 col1\" >7.696284</td>\n",
       "    </tr>\n",
       "    <tr>\n",
       "      <td id=\"T_6bdd9_row9_col0\" class=\"data row9 col0\" >Mushishi Special: Hihamukage</td>\n",
       "      <td id=\"T_6bdd9_row9_col1\" class=\"data row9 col1\" >7.681601</td>\n",
       "    </tr>\n",
       "  </tbody>\n",
       "</table>\n"
      ],
      "text/plain": [
       "<pandas.io.formats.style.Styler at 0x202014d0fd0>"
      ]
     },
     "execution_count": 418,
     "metadata": {},
     "output_type": "execute_result"
    }
   ],
   "source": [
    "Recommended_anime(\"Special\")"
   ]
  },
  {
   "cell_type": "code",
   "execution_count": 419,
   "id": "b011b7d1-ef83-4bdb-b989-f055cc9043a0",
   "metadata": {},
   "outputs": [
    {
     "data": {
      "application/vnd.plotly.v1+json": {
       "config": {
        "plotlyServerURL": "https://plot.ly"
       },
       "data": [
        {
         "alignmentgroup": "True",
         "hovertemplate": "name=%{x}<br>members=%{marker.color}<extra></extra>",
         "legendgroup": "",
         "marker": {
          "color": [
           633817,
           657190,
           673572,
           683297,
           715151,
           717796,
           793665,
           893100,
           896229,
           1013917
          ],
          "coloraxis": "coloraxis",
          "pattern": {
           "shape": ""
          }
         },
         "name": "",
         "offsetgroup": "",
         "orientation": "v",
         "showlegend": false,
         "textposition": "auto",
         "type": "bar",
         "x": [
          "Toradora!",
          "Mirai Nikki (TV)",
          "Steins;Gate",
          "Naruto",
          "Code Geass: Hangyaku no Lelouch",
          "Angel Beats!",
          "Fullmetal Alchemist: Brotherhood",
          "Sword Art Online",
          "Shingeki no Kyojin",
          "Death Note"
         ],
         "xaxis": "x",
         "y": [
          633817,
          657190,
          673572,
          683297,
          715151,
          717796,
          793665,
          893100,
          896229,
          1013917
         ],
         "yaxis": "y"
        }
       ],
       "layout": {
        "autosize": true,
        "barmode": "relative",
        "coloraxis": {
         "colorbar": {
          "title": {
           "text": "members"
          }
         },
         "colorscale": [
          [
           0,
           "#0d0887"
          ],
          [
           0.1111111111111111,
           "#46039f"
          ],
          [
           0.2222222222222222,
           "#7201a8"
          ],
          [
           0.3333333333333333,
           "#9c179e"
          ],
          [
           0.4444444444444444,
           "#bd3786"
          ],
          [
           0.5555555555555556,
           "#d8576b"
          ],
          [
           0.6666666666666666,
           "#ed7953"
          ],
          [
           0.7777777777777778,
           "#fb9f3a"
          ],
          [
           0.8888888888888888,
           "#fdca26"
          ],
          [
           1,
           "#f0f921"
          ]
         ]
        },
        "legend": {
         "tracegroupgap": 0
        },
        "template": {
         "data": {
          "bar": [
           {
            "error_x": {
             "color": "#2a3f5f"
            },
            "error_y": {
             "color": "#2a3f5f"
            },
            "marker": {
             "line": {
              "color": "#E5ECF6",
              "width": 0.5
             },
             "pattern": {
              "fillmode": "overlay",
              "size": 10,
              "solidity": 0.2
             }
            },
            "type": "bar"
           }
          ],
          "barpolar": [
           {
            "marker": {
             "line": {
              "color": "#E5ECF6",
              "width": 0.5
             },
             "pattern": {
              "fillmode": "overlay",
              "size": 10,
              "solidity": 0.2
             }
            },
            "type": "barpolar"
           }
          ],
          "carpet": [
           {
            "aaxis": {
             "endlinecolor": "#2a3f5f",
             "gridcolor": "white",
             "linecolor": "white",
             "minorgridcolor": "white",
             "startlinecolor": "#2a3f5f"
            },
            "baxis": {
             "endlinecolor": "#2a3f5f",
             "gridcolor": "white",
             "linecolor": "white",
             "minorgridcolor": "white",
             "startlinecolor": "#2a3f5f"
            },
            "type": "carpet"
           }
          ],
          "choropleth": [
           {
            "colorbar": {
             "outlinewidth": 0,
             "ticks": ""
            },
            "type": "choropleth"
           }
          ],
          "contour": [
           {
            "colorbar": {
             "outlinewidth": 0,
             "ticks": ""
            },
            "colorscale": [
             [
              0,
              "#0d0887"
             ],
             [
              0.1111111111111111,
              "#46039f"
             ],
             [
              0.2222222222222222,
              "#7201a8"
             ],
             [
              0.3333333333333333,
              "#9c179e"
             ],
             [
              0.4444444444444444,
              "#bd3786"
             ],
             [
              0.5555555555555556,
              "#d8576b"
             ],
             [
              0.6666666666666666,
              "#ed7953"
             ],
             [
              0.7777777777777778,
              "#fb9f3a"
             ],
             [
              0.8888888888888888,
              "#fdca26"
             ],
             [
              1,
              "#f0f921"
             ]
            ],
            "type": "contour"
           }
          ],
          "contourcarpet": [
           {
            "colorbar": {
             "outlinewidth": 0,
             "ticks": ""
            },
            "type": "contourcarpet"
           }
          ],
          "heatmap": [
           {
            "colorbar": {
             "outlinewidth": 0,
             "ticks": ""
            },
            "colorscale": [
             [
              0,
              "#0d0887"
             ],
             [
              0.1111111111111111,
              "#46039f"
             ],
             [
              0.2222222222222222,
              "#7201a8"
             ],
             [
              0.3333333333333333,
              "#9c179e"
             ],
             [
              0.4444444444444444,
              "#bd3786"
             ],
             [
              0.5555555555555556,
              "#d8576b"
             ],
             [
              0.6666666666666666,
              "#ed7953"
             ],
             [
              0.7777777777777778,
              "#fb9f3a"
             ],
             [
              0.8888888888888888,
              "#fdca26"
             ],
             [
              1,
              "#f0f921"
             ]
            ],
            "type": "heatmap"
           }
          ],
          "heatmapgl": [
           {
            "colorbar": {
             "outlinewidth": 0,
             "ticks": ""
            },
            "colorscale": [
             [
              0,
              "#0d0887"
             ],
             [
              0.1111111111111111,
              "#46039f"
             ],
             [
              0.2222222222222222,
              "#7201a8"
             ],
             [
              0.3333333333333333,
              "#9c179e"
             ],
             [
              0.4444444444444444,
              "#bd3786"
             ],
             [
              0.5555555555555556,
              "#d8576b"
             ],
             [
              0.6666666666666666,
              "#ed7953"
             ],
             [
              0.7777777777777778,
              "#fb9f3a"
             ],
             [
              0.8888888888888888,
              "#fdca26"
             ],
             [
              1,
              "#f0f921"
             ]
            ],
            "type": "heatmapgl"
           }
          ],
          "histogram": [
           {
            "marker": {
             "pattern": {
              "fillmode": "overlay",
              "size": 10,
              "solidity": 0.2
             }
            },
            "type": "histogram"
           }
          ],
          "histogram2d": [
           {
            "colorbar": {
             "outlinewidth": 0,
             "ticks": ""
            },
            "colorscale": [
             [
              0,
              "#0d0887"
             ],
             [
              0.1111111111111111,
              "#46039f"
             ],
             [
              0.2222222222222222,
              "#7201a8"
             ],
             [
              0.3333333333333333,
              "#9c179e"
             ],
             [
              0.4444444444444444,
              "#bd3786"
             ],
             [
              0.5555555555555556,
              "#d8576b"
             ],
             [
              0.6666666666666666,
              "#ed7953"
             ],
             [
              0.7777777777777778,
              "#fb9f3a"
             ],
             [
              0.8888888888888888,
              "#fdca26"
             ],
             [
              1,
              "#f0f921"
             ]
            ],
            "type": "histogram2d"
           }
          ],
          "histogram2dcontour": [
           {
            "colorbar": {
             "outlinewidth": 0,
             "ticks": ""
            },
            "colorscale": [
             [
              0,
              "#0d0887"
             ],
             [
              0.1111111111111111,
              "#46039f"
             ],
             [
              0.2222222222222222,
              "#7201a8"
             ],
             [
              0.3333333333333333,
              "#9c179e"
             ],
             [
              0.4444444444444444,
              "#bd3786"
             ],
             [
              0.5555555555555556,
              "#d8576b"
             ],
             [
              0.6666666666666666,
              "#ed7953"
             ],
             [
              0.7777777777777778,
              "#fb9f3a"
             ],
             [
              0.8888888888888888,
              "#fdca26"
             ],
             [
              1,
              "#f0f921"
             ]
            ],
            "type": "histogram2dcontour"
           }
          ],
          "mesh3d": [
           {
            "colorbar": {
             "outlinewidth": 0,
             "ticks": ""
            },
            "type": "mesh3d"
           }
          ],
          "parcoords": [
           {
            "line": {
             "colorbar": {
              "outlinewidth": 0,
              "ticks": ""
             }
            },
            "type": "parcoords"
           }
          ],
          "pie": [
           {
            "automargin": true,
            "type": "pie"
           }
          ],
          "scatter": [
           {
            "marker": {
             "colorbar": {
              "outlinewidth": 0,
              "ticks": ""
             }
            },
            "type": "scatter"
           }
          ],
          "scatter3d": [
           {
            "line": {
             "colorbar": {
              "outlinewidth": 0,
              "ticks": ""
             }
            },
            "marker": {
             "colorbar": {
              "outlinewidth": 0,
              "ticks": ""
             }
            },
            "type": "scatter3d"
           }
          ],
          "scattercarpet": [
           {
            "marker": {
             "colorbar": {
              "outlinewidth": 0,
              "ticks": ""
             }
            },
            "type": "scattercarpet"
           }
          ],
          "scattergeo": [
           {
            "marker": {
             "colorbar": {
              "outlinewidth": 0,
              "ticks": ""
             }
            },
            "type": "scattergeo"
           }
          ],
          "scattergl": [
           {
            "marker": {
             "colorbar": {
              "outlinewidth": 0,
              "ticks": ""
             }
            },
            "type": "scattergl"
           }
          ],
          "scattermapbox": [
           {
            "marker": {
             "colorbar": {
              "outlinewidth": 0,
              "ticks": ""
             }
            },
            "type": "scattermapbox"
           }
          ],
          "scatterpolar": [
           {
            "marker": {
             "colorbar": {
              "outlinewidth": 0,
              "ticks": ""
             }
            },
            "type": "scatterpolar"
           }
          ],
          "scatterpolargl": [
           {
            "marker": {
             "colorbar": {
              "outlinewidth": 0,
              "ticks": ""
             }
            },
            "type": "scatterpolargl"
           }
          ],
          "scatterternary": [
           {
            "marker": {
             "colorbar": {
              "outlinewidth": 0,
              "ticks": ""
             }
            },
            "type": "scatterternary"
           }
          ],
          "surface": [
           {
            "colorbar": {
             "outlinewidth": 0,
             "ticks": ""
            },
            "colorscale": [
             [
              0,
              "#0d0887"
             ],
             [
              0.1111111111111111,
              "#46039f"
             ],
             [
              0.2222222222222222,
              "#7201a8"
             ],
             [
              0.3333333333333333,
              "#9c179e"
             ],
             [
              0.4444444444444444,
              "#bd3786"
             ],
             [
              0.5555555555555556,
              "#d8576b"
             ],
             [
              0.6666666666666666,
              "#ed7953"
             ],
             [
              0.7777777777777778,
              "#fb9f3a"
             ],
             [
              0.8888888888888888,
              "#fdca26"
             ],
             [
              1,
              "#f0f921"
             ]
            ],
            "type": "surface"
           }
          ],
          "table": [
           {
            "cells": {
             "fill": {
              "color": "#EBF0F8"
             },
             "line": {
              "color": "white"
             }
            },
            "header": {
             "fill": {
              "color": "#C8D4E3"
             },
             "line": {
              "color": "white"
             }
            },
            "type": "table"
           }
          ]
         },
         "layout": {
          "annotationdefaults": {
           "arrowcolor": "#2a3f5f",
           "arrowhead": 0,
           "arrowwidth": 1
          },
          "autotypenumbers": "strict",
          "coloraxis": {
           "colorbar": {
            "outlinewidth": 0,
            "ticks": ""
           }
          },
          "colorscale": {
           "diverging": [
            [
             0,
             "#8e0152"
            ],
            [
             0.1,
             "#c51b7d"
            ],
            [
             0.2,
             "#de77ae"
            ],
            [
             0.3,
             "#f1b6da"
            ],
            [
             0.4,
             "#fde0ef"
            ],
            [
             0.5,
             "#f7f7f7"
            ],
            [
             0.6,
             "#e6f5d0"
            ],
            [
             0.7,
             "#b8e186"
            ],
            [
             0.8,
             "#7fbc41"
            ],
            [
             0.9,
             "#4d9221"
            ],
            [
             1,
             "#276419"
            ]
           ],
           "sequential": [
            [
             0,
             "#0d0887"
            ],
            [
             0.1111111111111111,
             "#46039f"
            ],
            [
             0.2222222222222222,
             "#7201a8"
            ],
            [
             0.3333333333333333,
             "#9c179e"
            ],
            [
             0.4444444444444444,
             "#bd3786"
            ],
            [
             0.5555555555555556,
             "#d8576b"
            ],
            [
             0.6666666666666666,
             "#ed7953"
            ],
            [
             0.7777777777777778,
             "#fb9f3a"
            ],
            [
             0.8888888888888888,
             "#fdca26"
            ],
            [
             1,
             "#f0f921"
            ]
           ],
           "sequentialminus": [
            [
             0,
             "#0d0887"
            ],
            [
             0.1111111111111111,
             "#46039f"
            ],
            [
             0.2222222222222222,
             "#7201a8"
            ],
            [
             0.3333333333333333,
             "#9c179e"
            ],
            [
             0.4444444444444444,
             "#bd3786"
            ],
            [
             0.5555555555555556,
             "#d8576b"
            ],
            [
             0.6666666666666666,
             "#ed7953"
            ],
            [
             0.7777777777777778,
             "#fb9f3a"
            ],
            [
             0.8888888888888888,
             "#fdca26"
            ],
            [
             1,
             "#f0f921"
            ]
           ]
          },
          "colorway": [
           "#636efa",
           "#EF553B",
           "#00cc96",
           "#ab63fa",
           "#FFA15A",
           "#19d3f3",
           "#FF6692",
           "#B6E880",
           "#FF97FF",
           "#FECB52"
          ],
          "font": {
           "color": "#2a3f5f"
          },
          "geo": {
           "bgcolor": "white",
           "lakecolor": "white",
           "landcolor": "#E5ECF6",
           "showlakes": true,
           "showland": true,
           "subunitcolor": "white"
          },
          "hoverlabel": {
           "align": "left"
          },
          "hovermode": "closest",
          "mapbox": {
           "style": "light"
          },
          "paper_bgcolor": "white",
          "plot_bgcolor": "#E5ECF6",
          "polar": {
           "angularaxis": {
            "gridcolor": "white",
            "linecolor": "white",
            "ticks": ""
           },
           "bgcolor": "#E5ECF6",
           "radialaxis": {
            "gridcolor": "white",
            "linecolor": "white",
            "ticks": ""
           }
          },
          "scene": {
           "xaxis": {
            "backgroundcolor": "#E5ECF6",
            "gridcolor": "white",
            "gridwidth": 2,
            "linecolor": "white",
            "showbackground": true,
            "ticks": "",
            "zerolinecolor": "white"
           },
           "yaxis": {
            "backgroundcolor": "#E5ECF6",
            "gridcolor": "white",
            "gridwidth": 2,
            "linecolor": "white",
            "showbackground": true,
            "ticks": "",
            "zerolinecolor": "white"
           },
           "zaxis": {
            "backgroundcolor": "#E5ECF6",
            "gridcolor": "white",
            "gridwidth": 2,
            "linecolor": "white",
            "showbackground": true,
            "ticks": "",
            "zerolinecolor": "white"
           }
          },
          "shapedefaults": {
           "line": {
            "color": "#2a3f5f"
           }
          },
          "ternary": {
           "aaxis": {
            "gridcolor": "white",
            "linecolor": "white",
            "ticks": ""
           },
           "baxis": {
            "gridcolor": "white",
            "linecolor": "white",
            "ticks": ""
           },
           "bgcolor": "#E5ECF6",
           "caxis": {
            "gridcolor": "white",
            "linecolor": "white",
            "ticks": ""
           }
          },
          "title": {
           "x": 0.05
          },
          "xaxis": {
           "automargin": true,
           "gridcolor": "white",
           "linecolor": "white",
           "ticks": "",
           "title": {
            "standoff": 15
           },
           "zerolinecolor": "white",
           "zerolinewidth": 2
          },
          "yaxis": {
           "automargin": true,
           "gridcolor": "white",
           "linecolor": "white",
           "ticks": "",
           "title": {
            "standoff": 15
           },
           "zerolinecolor": "white",
           "zerolinewidth": 2
          }
         }
        },
        "title": {
         "text": "Trending anime"
        },
        "xaxis": {
         "anchor": "y",
         "autorange": true,
         "domain": [
          0,
          1
         ],
         "range": [
          -0.5,
          9.5
         ],
         "title": {
          "text": "name"
         },
         "type": "category"
        },
        "yaxis": {
         "anchor": "x",
         "autorange": true,
         "domain": [
          0,
          1
         ],
         "range": [
          0,
          1067281.0526315789
         ],
         "title": {
          "text": "members"
         },
         "type": "linear"
        }
       }
      },
      "image/png": "[encoded data removed]",
      "text/html": [
       "<div>                            <div id=\"56db7fd1-3982-4b4a-a047-4f2806ab9683\" class=\"plotly-graph-div\" style=\"height:525px; width:100%;\"></div>            <script type=\"text/javascript\">                require([\"plotly\"], function(Plotly) {                    window.PLOTLYENV=window.PLOTLYENV || {};                                    if (document.getElementById(\"56db7fd1-3982-4b4a-a047-4f2806ab9683\")) {                    Plotly.newPlot(                        \"56db7fd1-3982-4b4a-a047-4f2806ab9683\",                        [{\"alignmentgroup\":\"True\",\"hovertemplate\":\"name=%{x}<br>members=%{marker.color}<extra></extra>\",\"legendgroup\":\"\",\"marker\":{\"color\":[633817,657190,673572,683297,715151,717796,793665,893100,896229,1013917],\"coloraxis\":\"coloraxis\",\"pattern\":{\"shape\":\"\"}},\"name\":\"\",\"offsetgroup\":\"\",\"orientation\":\"v\",\"showlegend\":false,\"textposition\":\"auto\",\"type\":\"bar\",\"x\":[\"Toradora!\",\"Mirai Nikki (TV)\",\"Steins;Gate\",\"Naruto\",\"Code Geass: Hangyaku no Lelouch\",\"Angel Beats!\",\"Fullmetal Alchemist: Brotherhood\",\"Sword Art Online\",\"Shingeki no Kyojin\",\"Death Note\"],\"xaxis\":\"x\",\"y\":[633817,657190,673572,683297,715151,717796,793665,893100,896229,1013917],\"yaxis\":\"y\"}],                        {\"barmode\":\"relative\",\"coloraxis\":{\"colorbar\":{\"title\":{\"text\":\"members\"}},\"colorscale\":[[0.0,\"#0d0887\"],[0.1111111111111111,\"#46039f\"],[0.2222222222222222,\"#7201a8\"],[0.3333333333333333,\"#9c179e\"],[0.4444444444444444,\"#bd3786\"],[0.5555555555555556,\"#d8576b\"],[0.6666666666666666,\"#ed7953\"],[0.7777777777777778,\"#fb9f3a\"],[0.8888888888888888,\"#fdca26\"],[1.0,\"#f0f921\"]]},\"legend\":{\"tracegroupgap\":0},\"template\":{\"data\":{\"bar\":[{\"error_x\":{\"color\":\"#2a3f5f\"},\"error_y\":{\"color\":\"#2a3f5f\"},\"marker\":{\"line\":{\"color\":\"#E5ECF6\",\"width\":0.5},\"pattern\":{\"fillmode\":\"overlay\",\"size\":10,\"solidity\":0.2}},\"type\":\"bar\"}],\"barpolar\":[{\"marker\":{\"line\":{\"color\":\"#E5ECF6\",\"width\":0.5},\"pattern\":{\"fillmode\":\"overlay\",\"size\":10,\"solidity\":0.2}},\"type\":\"barpolar\"}],\"carpet\":[{\"aaxis\":{\"endlinecolor\":\"#2a3f5f\",\"gridcolor\":\"white\",\"linecolor\":\"white\",\"minorgridcolor\":\"white\",\"startlinecolor\":\"#2a3f5f\"},\"baxis\":{\"endlinecolor\":\"#2a3f5f\",\"gridcolor\":\"white\",\"linecolor\":\"white\",\"minorgridcolor\":\"white\",\"startlinecolor\":\"#2a3f5f\"},\"type\":\"carpet\"}],\"choropleth\":[{\"colorbar\":{\"outlinewidth\":0,\"ticks\":\"\"},\"type\":\"choropleth\"}],\"contour\":[{\"colorbar\":{\"outlinewidth\":0,\"ticks\":\"\"},\"colorscale\":[[0.0,\"#0d0887\"],[0.1111111111111111,\"#46039f\"],[0.2222222222222222,\"#7201a8\"],[0.3333333333333333,\"#9c179e\"],[0.4444444444444444,\"#bd3786\"],[0.5555555555555556,\"#d8576b\"],[0.6666666666666666,\"#ed7953\"],[0.7777777777777778,\"#fb9f3a\"],[0.8888888888888888,\"#fdca26\"],[1.0,\"#f0f921\"]],\"type\":\"contour\"}],\"contourcarpet\":[{\"colorbar\":{\"outlinewidth\":0,\"ticks\":\"\"},\"type\":\"contourcarpet\"}],\"heatmap\":[{\"colorbar\":{\"outlinewidth\":0,\"ticks\":\"\"},\"colorscale\":[[0.0,\"#0d0887\"],[0.1111111111111111,\"#46039f\"],[0.2222222222222222,\"#7201a8\"],[0.3333333333333333,\"#9c179e\"],[0.4444444444444444,\"#bd3786\"],[0.5555555555555556,\"#d8576b\"],[0.6666666666666666,\"#ed7953\"],[0.7777777777777778,\"#fb9f3a\"],[0.8888888888888888,\"#fdca26\"],[1.0,\"#f0f921\"]],\"type\":\"heatmap\"}],\"heatmapgl\":[{\"colorbar\":{\"outlinewidth\":0,\"ticks\":\"\"},\"colorscale\":[[0.0,\"#0d0887\"],[0.1111111111111111,\"#46039f\"],[0.2222222222222222,\"#7201a8\"],[0.3333333333333333,\"#9c179e\"],[0.4444444444444444,\"#bd3786\"],[0.5555555555555556,\"#d8576b\"],[0.6666666666666666,\"#ed7953\"],[0.7777777777777778,\"#fb9f3a\"],[0.8888888888888888,\"#fdca26\"],[1.0,\"#f0f921\"]],\"type\":\"heatmapgl\"}],\"histogram\":[{\"marker\":{\"pattern\":{\"fillmode\":\"overlay\",\"size\":10,\"solidity\":0.2}},\"type\":\"histogram\"}],\"histogram2d\":[{\"colorbar\":{\"outlinewidth\":0,\"ticks\":\"\"},\"colorscale\":[[0.0,\"#0d0887\"],[0.1111111111111111,\"#46039f\"],[0.2222222222222222,\"#7201a8\"],[0.3333333333333333,\"#9c179e\"],[0.4444444444444444,\"#bd3786\"],[0.5555555555555556,\"#d8576b\"],[0.6666666666666666,\"#ed7953\"],[0.7777777777777778,\"#fb9f3a\"],[0.8888888888888888,\"#fdca26\"],[1.0,\"#f0f921\"]],\"type\":\"histogram2d\"}],\"histogram2dcontour\":[{\"colorbar\":{\"outlinewidth\":0,\"ticks\":\"\"},\"colorscale\":[[0.0,\"#0d0887\"],[0.1111111111111111,\"#46039f\"],[0.2222222222222222,\"#7201a8\"],[0.3333333333333333,\"#9c179e\"],[0.4444444444444444,\"#bd3786\"],[0.5555555555555556,\"#d8576b\"],[0.6666666666666666,\"#ed7953\"],[0.7777777777777778,\"#fb9f3a\"],[0.8888888888888888,\"#fdca26\"],[1.0,\"#f0f921\"]],\"type\":\"histogram2dcontour\"}],\"mesh3d\":[{\"colorbar\":{\"outlinewidth\":0,\"ticks\":\"\"},\"type\":\"mesh3d\"}],\"parcoords\":[{\"line\":{\"colorbar\":{\"outlinewidth\":0,\"ticks\":\"\"}},\"type\":\"parcoords\"}],\"pie\":[{\"automargin\":true,\"type\":\"pie\"}],\"scatter\":[{\"marker\":{\"colorbar\":{\"outlinewidth\":0,\"ticks\":\"\"}},\"type\":\"scatter\"}],\"scatter3d\":[{\"line\":{\"colorbar\":{\"outlinewidth\":0,\"ticks\":\"\"}},\"marker\":{\"colorbar\":{\"outlinewidth\":0,\"ticks\":\"\"}},\"type\":\"scatter3d\"}],\"scattercarpet\":[{\"marker\":{\"colorbar\":{\"outlinewidth\":0,\"ticks\":\"\"}},\"type\":\"scattercarpet\"}],\"scattergeo\":[{\"marker\":{\"colorbar\":{\"outlinewidth\":0,\"ticks\":\"\"}},\"type\":\"scattergeo\"}],\"scattergl\":[{\"marker\":{\"colorbar\":{\"outlinewidth\":0,\"ticks\":\"\"}},\"type\":\"scattergl\"}],\"scattermapbox\":[{\"marker\":{\"colorbar\":{\"outlinewidth\":0,\"ticks\":\"\"}},\"type\":\"scattermapbox\"}],\"scatterpolar\":[{\"marker\":{\"colorbar\":{\"outlinewidth\":0,\"ticks\":\"\"}},\"type\":\"scatterpolar\"}],\"scatterpolargl\":[{\"marker\":{\"colorbar\":{\"outlinewidth\":0,\"ticks\":\"\"}},\"type\":\"scatterpolargl\"}],\"scatterternary\":[{\"marker\":{\"colorbar\":{\"outlinewidth\":0,\"ticks\":\"\"}},\"type\":\"scatterternary\"}],\"surface\":[{\"colorbar\":{\"outlinewidth\":0,\"ticks\":\"\"},\"colorscale\":[[0.0,\"#0d0887\"],[0.1111111111111111,\"#46039f\"],[0.2222222222222222,\"#7201a8\"],[0.3333333333333333,\"#9c179e\"],[0.4444444444444444,\"#bd3786\"],[0.5555555555555556,\"#d8576b\"],[0.6666666666666666,\"#ed7953\"],[0.7777777777777778,\"#fb9f3a\"],[0.8888888888888888,\"#fdca26\"],[1.0,\"#f0f921\"]],\"type\":\"surface\"}],\"table\":[{\"cells\":{\"fill\":{\"color\":\"#EBF0F8\"},\"line\":{\"color\":\"white\"}},\"header\":{\"fill\":{\"color\":\"#C8D4E3\"},\"line\":{\"color\":\"white\"}},\"type\":\"table\"}]},\"layout\":{\"annotationdefaults\":{\"arrowcolor\":\"#2a3f5f\",\"arrowhead\":0,\"arrowwidth\":1},\"autotypenumbers\":\"strict\",\"coloraxis\":{\"colorbar\":{\"outlinewidth\":0,\"ticks\":\"\"}},\"colorscale\":{\"diverging\":[[0,\"#8e0152\"],[0.1,\"#c51b7d\"],[0.2,\"#de77ae\"],[0.3,\"#f1b6da\"],[0.4,\"#fde0ef\"],[0.5,\"#f7f7f7\"],[0.6,\"#e6f5d0\"],[0.7,\"#b8e186\"],[0.8,\"#7fbc41\"],[0.9,\"#4d9221\"],[1,\"#276419\"]],\"sequential\":[[0.0,\"#0d0887\"],[0.1111111111111111,\"#46039f\"],[0.2222222222222222,\"#7201a8\"],[0.3333333333333333,\"#9c179e\"],[0.4444444444444444,\"#bd3786\"],[0.5555555555555556,\"#d8576b\"],[0.6666666666666666,\"#ed7953\"],[0.7777777777777778,\"#fb9f3a\"],[0.8888888888888888,\"#fdca26\"],[1.0,\"#f0f921\"]],\"sequentialminus\":[[0.0,\"#0d0887\"],[0.1111111111111111,\"#46039f\"],[0.2222222222222222,\"#7201a8\"],[0.3333333333333333,\"#9c179e\"],[0.4444444444444444,\"#bd3786\"],[0.5555555555555556,\"#d8576b\"],[0.6666666666666666,\"#ed7953\"],[0.7777777777777778,\"#fb9f3a\"],[0.8888888888888888,\"#fdca26\"],[1.0,\"#f0f921\"]]},\"colorway\":[\"#636efa\",\"#EF553B\",\"#00cc96\",\"#ab63fa\",\"#FFA15A\",\"#19d3f3\",\"#FF6692\",\"#B6E880\",\"#FF97FF\",\"#FECB52\"],\"font\":{\"color\":\"#2a3f5f\"},\"geo\":{\"bgcolor\":\"white\",\"lakecolor\":\"white\",\"landcolor\":\"#E5ECF6\",\"showlakes\":true,\"showland\":true,\"subunitcolor\":\"white\"},\"hoverlabel\":{\"align\":\"left\"},\"hovermode\":\"closest\",\"mapbox\":{\"style\":\"light\"},\"paper_bgcolor\":\"white\",\"plot_bgcolor\":\"#E5ECF6\",\"polar\":{\"angularaxis\":{\"gridcolor\":\"white\",\"linecolor\":\"white\",\"ticks\":\"\"},\"bgcolor\":\"#E5ECF6\",\"radialaxis\":{\"gridcolor\":\"white\",\"linecolor\":\"white\",\"ticks\":\"\"}},\"scene\":{\"xaxis\":{\"backgroundcolor\":\"#E5ECF6\",\"gridcolor\":\"white\",\"gridwidth\":2,\"linecolor\":\"white\",\"showbackground\":true,\"ticks\":\"\",\"zerolinecolor\":\"white\"},\"yaxis\":{\"backgroundcolor\":\"#E5ECF6\",\"gridcolor\":\"white\",\"gridwidth\":2,\"linecolor\":\"white\",\"showbackground\":true,\"ticks\":\"\",\"zerolinecolor\":\"white\"},\"zaxis\":{\"backgroundcolor\":\"#E5ECF6\",\"gridcolor\":\"white\",\"gridwidth\":2,\"linecolor\":\"white\",\"showbackground\":true,\"ticks\":\"\",\"zerolinecolor\":\"white\"}},\"shapedefaults\":{\"line\":{\"color\":\"#2a3f5f\"}},\"ternary\":{\"aaxis\":{\"gridcolor\":\"white\",\"linecolor\":\"white\",\"ticks\":\"\"},\"baxis\":{\"gridcolor\":\"white\",\"linecolor\":\"white\",\"ticks\":\"\"},\"bgcolor\":\"#E5ECF6\",\"caxis\":{\"gridcolor\":\"white\",\"linecolor\":\"white\",\"ticks\":\"\"}},\"title\":{\"x\":0.05},\"xaxis\":{\"automargin\":true,\"gridcolor\":\"white\",\"linecolor\":\"white\",\"ticks\":\"\",\"title\":{\"standoff\":15},\"zerolinecolor\":\"white\",\"zerolinewidth\":2},\"yaxis\":{\"automargin\":true,\"gridcolor\":\"white\",\"linecolor\":\"white\",\"ticks\":\"\",\"title\":{\"standoff\":15},\"zerolinecolor\":\"white\",\"zerolinewidth\":2}}},\"title\":{\"text\":\"Trending anime\"},\"xaxis\":{\"anchor\":\"y\",\"domain\":[0.0,1.0],\"title\":{\"text\":\"name\"}},\"yaxis\":{\"anchor\":\"x\",\"domain\":[0.0,1.0],\"title\":{\"text\":\"members\"}}},                        {\"responsive\": true}                    ).then(function(){\n",
       "                            \n",
       "var gd = document.getElementById('56db7fd1-3982-4b4a-a047-4f2806ab9683');\n",
       "var x = new MutationObserver(function (mutations, observer) {{\n",
       "        var display = window.getComputedStyle(gd).display;\n",
       "        if (!display || display === 'none') {{\n",
       "            console.log([gd, 'removed!']);\n",
       "            Plotly.purge(gd);\n",
       "            observer.disconnect();\n",
       "        }}\n",
       "}});\n",
       "\n",
       "// Listen for the removal of the full notebook cells\n",
       "var notebookContainer = gd.closest('#notebook-container');\n",
       "if (notebookContainer) {{\n",
       "    x.observe(notebookContainer, {childList: true});\n",
       "}}\n",
       "\n",
       "// Listen for the clearing of the current output cell\n",
       "var outputEl = gd.closest('.output');\n",
       "if (outputEl) {{\n",
       "    x.observe(outputEl, {childList: true});\n",
       "}}\n",
       "\n",
       "                        })                };                });            </script>        </div>"
      ]
     },
     "metadata": {},
     "output_type": "display_data"
    }
   ],
   "source": [
    "fig = px.bar(anime_df[[\"name\",\"members\"]].sort_values(by = \"members\", ascending = False)[:10][::-1], x=\"name\", y=\"members\", color=\"members\", title = \"Trending anime\")\n",
    "fig.show()"
   ]
  }
 ],
 "metadata": {
  "kernelspec": {
   "display_name": "Python 3.8 (pytorch)",
   "language": "python",
   "name": "pytorch"
  },
  "language_info": {
   "codemirror_mode": {
    "name": "ipython",
    "version": 3
   },
   "file_extension": ".py",
   "mimetype": "text/x-python",
   "name": "python",
   "nbconvert_exporter": "python",
   "pygments_lexer": "ipython3",
   "version": "3.8.10"
  }
 },
 "nbformat": 4,
 "nbformat_minor": 5
}
