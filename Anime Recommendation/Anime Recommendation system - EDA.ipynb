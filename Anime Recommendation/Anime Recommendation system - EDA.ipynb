{
 "cells": [
  {
   "cell_type": "markdown",
   "id": "0248ef80-e9e9-4e26-9e0f-fbda9e6973f3",
   "metadata": {},
   "source": [
    "# Anime Recommendation system - EDA"
   ]
  },
  {
   "cell_type": "code",
   "execution_count": 4,
   "id": "d13e9297-363d-4415-a84e-b2f33e977920",
   "metadata": {},
   "outputs": [],
   "source": [
    "import pandas as pd\n",
    "#release files\n",
    "import zipfile\n",
    "with zipfile.ZipFile(\"Data/anime.zip\",\"r\") as zip_ref:\n",
    "    zip_ref.extractall(\"Data\")"
   ]
  },
  {
   "cell_type": "code",
   "execution_count": 6,
   "id": "d148637d-9c4b-4651-871a-d8d2ad40b9dc",
   "metadata": {},
   "outputs": [
    {
     "name": "stdout",
     "output_type": "stream",
     "text": [
      "size of Data Frames:\n",
      "\tanime: (12294, 7)\n",
      "\trating: (7813737, 3)\n"
     ]
    }
   ],
   "source": [
    "anime_df = pd.read_csv(\"Data/anime.csv\")\n",
    "rating_df = pd.read_csv(\"Data/rating.csv\")\n",
    "print(f\"size of Data Frames:\\n\\tanime: {anime_df.shape}\\n\\trating: {rating_df.shape}\")"
   ]
  }
 ],
 "metadata": {
  "kernelspec": {
   "display_name": "Python 3.8 (pytorch)",
   "language": "python",
   "name": "pytorch"
  },
  "language_info": {
   "codemirror_mode": {
    "name": "ipython",
    "version": 3
   },
   "file_extension": ".py",
   "mimetype": "text/x-python",
   "name": "python",
   "nbconvert_exporter": "python",
   "pygments_lexer": "ipython3",
   "version": "3.8.10"
  }
 },
 "nbformat": 4,
 "nbformat_minor": 5
}
